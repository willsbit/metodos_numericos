{
 "cells": [
  {
   "cell_type": "markdown",
   "metadata": {},
   "source": [
    "## 3.3 Eliminação de Gauss-Jordan e matriz inversa\n",
    "\n",
    "Os métodos diretos de eliminação consistem no processo \n",
    "de transformar um sistema de equações lineares $Ax=b$, em que $A= (a_{ij})_i,j=1,..,n$, \n",
    "$x=(x_1,x_2,...,x_n)^t$ e $b=(b_1, b_2,...,b_n)^t$, em um sistema equivalente, \n",
    "aplicando operações elementares sobre as linhas da matriz $(A,b)$.\n",
    "\n",
    "O sistema equivalente obtido ao final do processo, deve ser de \n",
    "resolução mais simples ou imediata, por substituição direta. No caso da eliminação de Gauss \n",
    "com pivoteamento diagonal ou pivoteamento parcial, obtém-se um sistema equivalente \n",
    "na forma triangular. No caso da eliminação de Gauss-Jordan o sistema equivalente \n",
    "obtido possui a matriz de coeficientes igual a matriz identidade.   \n",
    "\n",
    "\n",
    "Em geral, consideraremos neste texto, um sistema linear escrito na forma geral como  \n",
    "\n",
    "$$ \\begin{cases} \n",
    "\t         a_{11}x_1 +a_{12}x_2 + \\cdots + a_{1n}x_n = b_1\\\\ \n",
    "\t         a_{21}x_1 +a_{22}x_2 + \\cdots + a_{2n}x_n = b_2\\\\\n",
    "\t         \\vdots   \\\\\n",
    "\t         a_{n1}x_1 +a_{n2}x_2 + \\cdots + a_{nn}x_n = b_1\\\\\n",
    "\t         \\end{cases} $$\n",
    "             \n",
    "cuja forma forma matricial $Ax=b$ tem a seguinte representação\n",
    "            \n",
    "$$\\left[\\begin{array}{cccc} \n",
    "\t         a_{11} & a_{12} & \\cdots & a_{1n} \\\\ \n",
    "\t         a_{21} & a_{22} & \\cdots & a_{2n} \\\\\n",
    "\t         \\vdots & \\vdots & \\vdots & \\vdots \\\\\n",
    "\t         a_{n1} & a_{n2} & \\cdots & a_{nn} \\\\\n",
    "\t         \\end{array} \\right]\n",
    "\\left[\\begin{array}{c} \n",
    "\t         x_1 \\\\ \n",
    "\t         x_2 \\\\\n",
    "             \\vdots\\\\\n",
    "\t         x_n \\\\\n",
    "\t         \\end{array} \\right]\n",
    "=\n",
    "\\left[\\begin{array}{c} \n",
    "\t         b_1 \\\\ \n",
    "\t         b_2 \\\\\n",
    "             \\vdots\\\\\n",
    "\t         b_n \\\\\n",
    "\t         \\end{array} \\right]\n",
    "\t         $$\n",
    "\t         \n",
    "e a matriz aumentada $(A,b)$ é dada por  \n",
    "\n",
    "$$\\left[\\begin{array}{cccccc} \n",
    "\t         a_{11} & a_{12} & \\cdots & a_{1n} & | & b_1\\\\ \n",
    "\t         a_{21} & a_{22} & \\cdots & a_{2n} & | & b_2\\\\\n",
    "\t         \\vdots & \\vdots & \\vdots & \\vdots & | & \\vdots\\\\\n",
    "\t         a_{n1} & a_{n2} & \\cdots & a_{nn} & | & b_n\\\\\n",
    "\t         \\end{array} \\right]$$\n",
    "\t         "
   ]
  },
  {
   "cell_type": "markdown",
   "metadata": {},
   "source": [
    "\n",
    "\n",
    "O processo de **eliminação de Gauss** com pivoteamento diagonal consiste em transformar \n",
    "o sistema em um sistema equivalente triangular superior por meio de operações \n",
    "elementares sobre as linhas da matriz $(A,b)$ tomando, em cada passo, como pivô,\n",
    "os elementos da diadonal de $A$, desde que não seja nulo. Caso o algum elemento da \n",
    "diagonal seja nulo podemos permutar duas linhas da matriz a fim obter um pivô \n",
    "diferente de zero.\n",
    "\n",
    "Para cada passo $k$ do processo, anulamos os termos abaixo do \n",
    "elemento da diagonal $a_{kk}$, subtraindo cada linha $i=k+1$ da matriz $(A,b)$, \n",
    "pela linha linha anterior, $i=k$, multiplicada pelo fator $m_{ik}=\\frac{a_{ik}}{a_{kk}}$.\n",
    "\n",
    "Assim, no 1º passo ($k=1$), fazemos $m_{i1}=\\frac{a_{i1}}{a_{k1}}$, $i=2,...,n$ \n",
    "e cada linha de $(A,b)$, a partir da 2ª, será subtraída da 1ª linha multiplicada por\n",
    "$m_{k1}$ obtendo-se a matriz $(A^{(1)},b^{(1)})$ tal que\n",
    "\n",
    "\n",
    "$$(A^{(1)},b^{(1)}) = \\left[\\begin{array}{ccccccc} \n",
    "\t         a^{(1)}_{11} & a^{(1)}_{12} & a^{(1)}_{13} & \\cdots & a^{(1)}_{1n} & | & b^{(1)}_1\\\\ \n",
    "\t         0            & a^{(2)}_{22} & a^{(2)}_{23} & \\cdots & a^{(2)}_{2n} & | & b^{(2)}_2\\\\\n",
    "\t         0            & a^{(2)}_{32} & a^{(2)}_{33} & \\cdots & a^{(2)}_{3n} & | & b^{(2)}_3\\\\\n",
    "\t         \\vdots       & \\vdots       & \\vdots       & \\vdots & \\vdots       & | & \\vdots   \\\\\n",
    "\t         0            & a^{(2)}_{n2} & a^{(2)}_{n3} & \\cdots & a^{(2)}_{nn} & | & b^{(2)}_n\\\\\n",
    "\t         \\end{array} \\right]$$\n",
    "             \n",
    "\n",
    "No 2º passo ($k=2$), fazemos $m_{i2}=\\frac{a_{i2}}{a_{k2}}$, $i=3,...,n$ \n",
    "e cada linha de $(A^{(1)},b^{(1)})$, a partir da 3ª, será subtraída da 2ª linha multiplicada por\n",
    "$m_{k2}$ obtendo-se a matriz $(A^{(2)},b^{(2)})$ tal que\n",
    "\n",
    "$$(A^{(2)},b^{(2)}) = \\left[\\begin{array}{ccccccc} \n",
    "\t         a^{(1)}_{11} & a^{(1)}_{12} & a^{(1)}_{13} & \\cdots & a^{(1)}_{1n} & | & b^{(1)}_1\\\\ \n",
    "\t         0            & 0            & a^{(2)}_{23} & \\cdots & a^{(2)}_{2n} & | & b^{(2)}_2\\\\\n",
    "\t         0            & 0            & a^{(3)}_{33} & \\cdots & a^{(3)}_{3n} & | & b^{(3)}_3\\\\\n",
    "\t         \\vdots       & \\vdots       & \\vdots       & \\vdots & \\vdots       & | & \\vdots   \\\\\n",
    "\t         0            & 0            & a^{(3)}_{n3} & \\cdots & a^{(3)}_{nn} & | & b^{(3)}_n\\\\\n",
    "\t         \\end{array} \\right]$$\n",
    "\n",
    "Segundo os passos seguintes, até o passo $n-1$, obtemos ou sistema triangular superior na forma   \n",
    " \n",
    "$$ \\begin{cases} \n",
    "\t         a^{(1)}_{11}x_1 + a^{(1)}_{12}x_2 + a^{(1)}_{13}x_2 + \\cdots + a^{(1)}_{1n}x_n = b^{(1)}_1\\\\ \n",
    "             \\hspace{65px}     a^{(2)}_{22}x_2 + a^{(2)}_{23}x_2 + \\cdots + a^{(2)}_{2n}x_n = b^{(2)}_2\\\\ \n",
    "             \\hspace{65px}     \\hspace{65px}     a^{(3)}_{33}x_2 + \\cdots + a^{(3)}_{3n}x_n = b^{(3)}_3\\\\ \n",
    " \t         \\hspace{65px}     \\hspace{65px}      \\hspace{65px}     \\hspace{45px}      \\vdots   \\\\\n",
    "\t         \\hspace{65px}     \\hspace{65px}      \\hspace{65px}     \\hspace{45px}  a^{(n)}_{nn}x_n = b^{(n)}_n\\\\ \n",
    "\t         \\end{cases} $$\n",
    "\n",
    "O qual pode ser resolvido por substituição retroativa.\n",
    "\n"
   ]
  },
  {
   "cell_type": "markdown",
   "metadata": {},
   "source": [
    "**Exemplo 3.3.1:** Um exemplo de algoritmo para resolver sistemas lineares por eliminação de Gauss."
   ]
  },
  {
   "cell_type": "code",
   "execution_count": 2,
   "metadata": {},
   "outputs": [],
   "source": [
    "import numpy as np\n",
    "from numpy import dot\n",
    "def gaussElimin(a,b): \n",
    "    n = len(b) \n",
    "    for k in range(0,n-1): \n",
    "        for i in range(k+1,n): \n",
    "            if a[i][k] != 0.0: \n",
    "                lam = a [i][k]/a[k][k] \n",
    "                a[i][k+1:n] = a[i][k+1:n] - lam*a[k][k+1:n] \n",
    "                b[i] = b[i] - lam*b[k] \n",
    "    for k in range(n-1,-1,-1): \n",
    "        b[k] = (b[k] - dot(a[k][k+1:n],b[k+1:n]))/a[k][k] \n",
    "    return b"
   ]
  },
  {
   "cell_type": "code",
   "execution_count": 20,
   "metadata": {},
   "outputs": [],
   "source": [
    "A = np.array([[3.,2.,4.],\n",
    "     [1.,1.,2.],\n",
    "     [-4.,3.,2.]])\n",
    "b = np.array([1., 2., 3.])\n",
    "\n",
    "x = gaussElimin(A.copy(),b.copy())"
   ]
  },
  {
   "cell_type": "code",
   "execution_count": 21,
   "metadata": {},
   "outputs": [
    {
     "data": {
      "text/plain": [
       "array([[ 3.,  2.,  4.,  1.],\n",
       "       [ 1.,  1.,  2.,  2.],\n",
       "       [-4.,  3.,  2.,  3.]])"
      ]
     },
     "execution_count": 21,
     "metadata": {},
     "output_type": "execute_result"
    }
   ],
   "source": [
    "np.hstack([A, b.reshape(3, 1)])"
   ]
  },
  {
   "cell_type": "markdown",
   "metadata": {},
   "source": [
    "### Método Gauss-Jordan e matriz inversa\n",
    "\n",
    "Considere o sistema de $n$ equações e $n$ variáveis dado por \n",
    "\n",
    "$$ Ax=b$$\n",
    "\n",
    "Se a matriz $A$ dos coeficientes for não singular, ou seja, se o sistema possuir solução única a matriz é invertível e a solução do sistema pode ser obtida multiplicando-se a inversa $A^{-1}$ à esquerda de ambos os lados da equação, como segue: \n",
    "\n",
    "$$A^{-1}Ax=A^{-1}b$$\n",
    "logo\n",
    "$$Ix = A^{-1}b$$\n",
    "ou\n",
    "$$x = A^{-1}b$$\n",
    "Que é a solução do sistema linear."
   ]
  },
  {
   "cell_type": "markdown",
   "metadata": {},
   "source": [
    "**Exemplo 3.3.2:** Resolver o sistema $Ax=b$ com $A = \n",
    " \\left[\\begin{array}{ccc} \n",
    "\t         3 & 0 & 1 \\\\ \n",
    "\t         3 & 2 & 1 \\\\\n",
    "            -3 & 1 & 3 \\\\\n",
    "\t     \\end{array} \\right]$\n",
    "e $b = (1,1,3)^t$.   "
   ]
  },
  {
   "cell_type": "code",
   "execution_count": 5,
   "metadata": {},
   "outputs": [
    {
     "name": "stdout",
     "output_type": "stream",
     "text": [
      "[0. 0. 1.]\n"
     ]
    }
   ],
   "source": [
    "A = np.array([[3,0,1],[3,2,1],[-3,1,3]])\n",
    "b = np.array([1,1,3])\n",
    "x = np.dot(np.linalg.inv(A),b)\n",
    "print (np.round(x,4))"
   ]
  },
  {
   "cell_type": "markdown",
   "metadata": {},
   "source": [
    "A obtenção inversa pode ser feita pelo processo de eliminação de Gauss-Jordan em que são realizadas operações elementares sobre as linhas da matriz $A$ até que ela se torne uma matriz identidade. Essas mesmas operações são realizadas em uma matriz identidade de mesma ordem, ao final das operações na matriz identidade o resultado é a inversa da matriz $A$. O exemplo a seguir implementa o processo de eliminação de Gauss-Jordan."
   ]
  },
  {
   "cell_type": "markdown",
   "metadata": {},
   "source": [
    "**Exemplo:** Vamos nesse exemplo utilizar o processo de eliminação de Gauss-Jordan para obter a matriz inversa de \n",
    "$A = \n",
    " \\left[\\begin{array}{ccc} \n",
    "\t         2 & 1 & 3 \\\\ \n",
    "\t         0 & -1 & 1 \\\\\n",
    "            1 & 0 & 3 \\\\\n",
    "\t     \\end{array} \\right]$"
   ]
  },
  {
   "cell_type": "code",
   "execution_count": 30,
   "metadata": {},
   "outputs": [
    {
     "name": "stdout",
     "output_type": "stream",
     "text": [
      "Matriz ampliada:\n",
      "[[ 2.  1.  3.  1.  0.  0.]\n",
      " [ 0. -1.  1.  0.  1.  0.]\n",
      " [ 1.  0.  3.  0.  0.  1.]]\n",
      "Matriz após eliminação:\n",
      "[[ 1.   0.   0.   1.5  1.5 -2. ]\n",
      " [ 0.   1.   0.  -0.5 -1.5  1. ]\n",
      " [ 0.   0.   1.  -0.5 -0.5  1. ]]\n",
      "Matriz inversa:\n",
      "[[ 1.5  1.5 -2. ]\n",
      " [-0.5 -1.5  1. ]\n",
      " [-0.5 -0.5  1. ]]\n"
     ]
    }
   ],
   "source": [
    "def gaussJordan(M):\n",
    "    n = len(M)\n",
    "    for k in range(n):\n",
    "        M[k] = M[k]/M[k,k]\n",
    "        for i in range(n):\n",
    "            if i!=k:\n",
    "                M[i] = M[i] - M[i,k]*M[k]\n",
    "    return (M)\n",
    "\n",
    "A = np.array([[2,1,3],[0,-1,1],[1,0,3]], float)\n",
    "I = np.identity(len(A))\n",
    "M = np.concatenate((A,I), axis=1)\n",
    "\n",
    "print ('Matriz ampliada:')\n",
    "print (M)\n",
    "\n",
    "print ('Matriz após eliminação:')\n",
    "Mgj = gaussJordan(M)\n",
    "print (Mgj )\n",
    "\n",
    "print ('Matriz inversa:')\n",
    "Ainv = Mgj[:,3:6]\n",
    "print(Ainv)"
   ]
  },
  {
   "cell_type": "markdown",
   "metadata": {},
   "source": [
    "**1.** Obtenha, caso exista, a solução para os seguintes sistemas lineares utilizando os métodos estudados (eliminação de Gauss, eliminação de Gauss-Jordan, decomposição LU e Matriz inversa).\n",
    "\n",
    "\n",
    "a) $\\begin{cases} \n",
    "\t         2x_1 + 3x_2 + x_3 +5x_4= 11\\\\ \n",
    "\t         x_1  + 3.5x_2  + x_3 +7.5x_4= 13\\\\\n",
    "\t         1.4x_1 + 2.7x_2 + 5.5x_3 + 12x_4 = 21.6\\\\\n",
    "\t         -2x_1 + 1x_2 + 3x_3 +28x_4 = 30\n",
    "\t         \\end{cases}$\n",
    "    \n",
    "b) $\\begin{cases} \n",
    "\t         6.1x_1 + 0.32x_2 + 1.3x_3 +2.1x_4 + 0.11x_5 = 19.52\\\\ \n",
    "\t         0.82x_1  + 8.81x_2  + 1.01x_3 +3x_4 + 3.12x_5= 15.83\\\\\n",
    "\t         0.5x_1 + 1.78x_2 + 15.2x_3 + 4.2x_4 +8.1x_5= -22.14\\\\\n",
    "\t         4.2x_1 + 5.3x_2 + 1.8x_3 +20.9x_4 +7.51x_5 = 27.28\\\\\n",
    "\t         0.2x_1 + 9.1x_2 + 4.68x_3 +4.3x_4 +20.1x_5  = -21.78\n",
    "\t         \\end{cases}$\n",
    "             \n",
    "c)$ \\begin{cases} \n",
    "    12.1756 x_1 + 4.0231 x_2 - 2.1732 x_3 + 5.1967 x_4 = 17.1020\\\\ \n",
    "   -4.0231 x_1 + 6.0030 x_2              + 1.1973 x_4 = -6.1593\\\\\n",
    "   -1.0000 x_1 - 5.2107 x_2 + 11.1111 x_3              =  3.0004\\\\\n",
    "\t6.0235 x_1 + 7.0000 x_2 +            - 14.1561 x_4 =  0.0000\n",
    "\\end{cases} $"
   ]
  },
  {
   "cell_type": "code",
   "execution_count": 52,
   "metadata": {},
   "outputs": [],
   "source": [
    "\n",
    "# função para sistema triangular inferior\n",
    "def solve_tril(L,b):\n",
    "    y = np.empty(len(b))\n",
    "    for i in range(len(b)): \n",
    "        y[i] = (b[i] - np.dot(L[i,0:i],y[0:i]))/L[i][i] \n",
    "    return y\n",
    "\n",
    "# função para sistema triangular superior\n",
    "def solve_triu(U,y):\n",
    "    n=len(y)\n",
    "    x = np.empty(n)\n",
    "    for i in range(n-1, -1, -1):\n",
    "        x[i] = (y[i] - np.sum(U[i,i+1:n+1]*x[i+1:n+1]))/U[i,i]\n",
    "    return x\n",
    "\n",
    "def fatoraLU(A):\n",
    "    L = np.eye(len(A))\n",
    "    U = A.copy()\n",
    "    n = len(A)\n",
    "    for j in range(n-1):\n",
    "        for i in range(j,n-1):            \n",
    "            m = U[i+1,j]/U[j,j]\n",
    "            U[i+1] = U[i+1]-m*U[j]\n",
    "            L[i+1,j] = m \n",
    "    return (L,U)"
   ]
  },
  {
   "cell_type": "code",
   "execution_count": 104,
   "metadata": {},
   "outputs": [
    {
     "name": "stdout",
     "output_type": "stream",
     "text": [
      "[1. 1. 1. 1.]\n",
      "[1. 1. 1. 1.]\n",
      "[1. 1. 1. 1.]\n",
      "[1. 1. 1. 1.]\n",
      "[1. 1. 1. 1.]\n"
     ]
    }
   ],
   "source": [
    "A = np.array([[2, 3, 1, 5], \n",
    "              [1, 3.5, 1, 7.5],\n",
    "              [1.4, 2.7, 5.5, 12],\n",
    "              [-2, 1, 3, 28]])\n",
    "\n",
    "b = np.array([11, 13, 21.6, 30])\n",
    "\n",
    "# por eliminação de Gauss\n",
    "x = gaussElimin(A.copy(), b.copy())\n",
    "print(x)\n",
    "\n",
    "\n",
    "# por eliminação de Gauss-Jordan\n",
    "M = gaussJordan(np.hstack([A.copy(), b.reshape(len(A), 1)]))\n",
    "x = M[:, -1] # última coluna\n",
    "print(x)\n",
    "\n",
    "# decomposição LU\n",
    "L, U = fatoraLU(A.copy())\n",
    "y = solve_tril(L,b)\n",
    "x = solve_triu(U,y)\n",
    "print(x)\n",
    "\n",
    "# matriz inversa\n",
    "Ainv = gaussJordan(np.hstack([A, np.identity(len(A))]))\n",
    "\n",
    "x = Ainv[:, len(A):] @ b\n",
    "print(x)\n",
    "\n",
    "# linalg solve\n",
    "x = np.linalg.solve(A.copy(), b)\n",
    "print(x)"
   ]
  },
  {
   "cell_type": "markdown",
   "metadata": {},
   "source": [
    "**2.** ([Burden et al, 2016, p. 420](https://integrada.minhabiblioteca.com.br/reader/books/9788522123414/pageid/436)) Resolva o seguinte sistema linear por eliminação de Gauss, eliminação de Gauss-Jordan e usando matriz inversa.\n",
    "\n",
    "$$\n",
    "\\begin{aligned}\n",
    "1,19 x_1+2,11 x_2-100 x_3+x_4 & =1,12 \\\\\n",
    "14,2 x_1-0,122 x_2+12,2 x_3-x_4 & =3,44 \\\\\n",
    "100 x_2-99,9 x_3+x_4 & =2,15 \\\\\n",
    "15,3 x_1+0,110 x_2-13,1 x_3-x_4 & =4,16\n",
    "\\end{aligned}\n",
    "$$\n"
   ]
  },
  {
   "cell_type": "code",
   "execution_count": 107,
   "metadata": {},
   "outputs": [
    {
     "name": "stdout",
     "output_type": "stream",
     "text": [
      "[ 0.1768253   0.01269269 -0.02065405 -1.1826087 ]\n",
      "[ 0.1768253   0.01269269 -0.02065405 -1.1826087 ]\n"
     ]
    }
   ],
   "source": [
    "A = np.array([[1.19, 2.11, -100, 1], \n",
    "              [14.2, -0.122, 12.2, -1],\n",
    "              [0, 100, -99.9, 1],\n",
    "              [15.3, 0.110, -13.1, -1]])\n",
    "\n",
    "b = np.array([1.12, 3.44, 2.15, 4.16])\n",
    "\n",
    "# por eliminação de Gauss\n",
    "x = gaussElimin(A.copy(), b.copy())\n",
    "print(x)\n",
    "\n",
    "\n",
    "# por eliminação de Gauss-Jordan\n",
    "M = gaussJordan(np.hstack([A.copy(), b.reshape(len(A), 1)]))\n",
    "x = M[:, -1] # última coluna\n",
    "print(x)\n",
    "\n",
    "# matriz inversa\n",
    "Ainv = gaussJordan(np.hstack([A, np.identity(len(A))]))\n",
    "\n",
    "x = Ainv[:, len(A):] @ b\n",
    "print(x)\n",
    "\n",
    "# linalg solve\n",
    "x = np.linalg.solve(A.copy(), b)\n",
    "print(x)"
   ]
  },
  {
   "cell_type": "markdown",
   "metadata": {},
   "source": [
    "**3.** ([Burden et al, 2016, p.455](https://integrada.minhabiblioteca.com.br/reader/books/9788522123414/pageid/471)) Use fatoração LU para resolver o sistema linear a seguir. \n",
    "\n",
    "$$\n",
    "\\begin{aligned}\n",
    "2 x_1+x_2 & =0, \\\\\n",
    "-x_1+3 x_2+3 x_3 & =5, \\\\\n",
    "2 x_1-2 x_2+x_3+4 x_4 & =-2, \\\\\n",
    "-2 x_1+2 x_2+2 x_3+5 x_4 & =6 .\n",
    "\\end{aligned}\n",
    "$$"
   ]
  },
  {
   "cell_type": "code",
   "execution_count": 127,
   "metadata": {},
   "outputs": [
    {
     "name": "stdout",
     "output_type": "stream",
     "text": [
      "[-0.61702128  1.23404255  0.22695035  0.36879433]\n",
      "[-0.61702128  1.23404255  0.22695035  0.36879433]\n",
      "[-0.61702128  1.23404255  0.22695035  0.36879433]\n",
      "[-0.61702128  1.23404255  0.22695035  0.36879433]\n",
      "[-0.61702128  1.23404255  0.22695035  0.36879433]\n",
      "[-0.61702128  1.23404255  0.22695035  0.36879433]\n"
     ]
    }
   ],
   "source": [
    "from scipy.linalg import lu\n",
    "\n",
    "A = np.array([[2, 1, 0, 0], \n",
    "              [-1, 3, 3, 0],\n",
    "              [2, -2, 1, 4],\n",
    "              [-2, 2, 2, 5]], float)\n",
    "\n",
    "b = np.array([0, 5, -2, 6], float)\n",
    "\n",
    "\n",
    "# por eliminação de Gauss\n",
    "x = gaussElimin(A.copy(), b.copy())\n",
    "print(x)\n",
    "\n",
    "\n",
    "# por eliminação de Gauss-Jordan\n",
    "M = gaussJordan(np.hstack([A.copy(), b.copy().reshape(len(A), 1)]))\n",
    "x = M[:, -1] # última coluna\n",
    "print(x)\n",
    "\n",
    "# matriz inversa\n",
    "Ainv = gaussJordan(np.hstack([A, np.identity(len(A))]))\n",
    "\n",
    "x = Ainv[:, len(A):] @ b\n",
    "print(x)\n",
    "\n",
    "# decomposição LU\n",
    "L, U = fatoraLU(A.copy())\n",
    "y = solve_tril(L,b.copy())\n",
    "x = solve_triu(U,y.copy())\n",
    "print(x)\n",
    "\n",
    "# scipy linalg.lu\n",
    "L2, U2 = lu(A.copy(), permute_l=True)\n",
    "y = solve_tril(L2,b.copy())\n",
    "x = solve_triu(U2,y.copy())\n",
    "print(x)\n",
    "\n",
    "\n",
    "# linalg solve\n",
    "x = np.linalg.solve(A.copy(), b)\n",
    "print(x)"
   ]
  }
 ],
 "metadata": {
  "kernelspec": {
   "display_name": "Python 3 (ipykernel)",
   "language": "python",
   "name": "python3"
  },
  "language_info": {
   "codemirror_mode": {
    "name": "ipython",
    "version": 3
   },
   "file_extension": ".py",
   "mimetype": "text/x-python",
   "name": "python",
   "nbconvert_exporter": "python",
   "pygments_lexer": "ipython3",
   "version": "3.11.2"
  }
 },
 "nbformat": 4,
 "nbformat_minor": 4
}
