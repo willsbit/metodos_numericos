{
 "cells": [
  {
   "cell_type": "markdown",
   "metadata": {},
   "source": [
    "# 2.2. Método da Bisseção\n",
    "\n",
    "Muitos problemas em ciências e engenharia envolvem a resolução de uma equação que pode ser colocada na forma \n",
    "\n",
    "$$f(x)=0$$\n",
    "\n",
    "Em alguns casos a solução exata $\\overline{x}$ pode ser encontrada por processos analíticos, quando isso não for possível, uma solução aproximada pode ser obtida por métodos numéricos.\n",
    "\n",
    "Encontrar um solução para equação $f(x)=0$  por métodos numéricos consiste em gerar uma sequência de soluções aproximadas, a partir de uma aproximação inicial $x_0$. Caso os valores obtidos pelo processo iterativo estejam se aproximando da solução exata $\\overline{x}$, dizemos que a sequência está convergindo para a solução. \n",
    "\n",
    "O {\\it Método da Bisseção} é o método numérico para resolução de equações do tipo $f(x)=0$, no qual, a partir de um intervalo inicial $[a,b]$ contendo uma única raiz, é gerada uma sequência de subintervalos, dividindo-se, a cada iteração, o intervalo que contém a raiz em dois subintervalos de mesma amplitude. A cada passo, é verificado qual dos dois subintervalos contém a raizutilizando o teorema de Bolzano (ou Teorema do Valor Intermediário), enunciado abaixo. \n",
    "\n",
    "### Teorema de Bolzano:\n",
    "\n",
    "Se $f(x)$ é contínua em $[a,b]$ e $f(a)\\cdot f(b)<0$, então existe pelo menos uma raíz $ \\overline{x} \\in [a,b]$ tal que $f(x)=0$.\n",
    "\n",
    "![localizacao.png](https://github.com/tiagoburiol/NUMETHODS/raw/master/3_ZEROS_DE_FUNCOES/images/bolzano.png)\n",
    "\n",
    "A sequência de subintervalos será calculada até que a amplitude do intervalo obtido menor que uma tolerância pré estabelecida. Assim, podemos descrever o processo no seguinte algoritmo:\n",
    "\n",
    "1. Determinar um intervalo inicial $[a,b]$ contendo uma única raíz de $f$;\n",
    "\n",
    "2. Calcular o ponto médio $x_m=\\frac{b+a}{2}$. \n",
    "\n",
    "3. Se $|b-a|>\\epsilon$ ou $E_{rel}<\\epsilon$ segue, senão, assumir $\\overline{x}\\approx x_m$ e parar;\n",
    "\n",
    "4. Se $f(x_m)=0$, então, a raiz $\\overline{x}$ é o próprio $x_m$;\n",
    "\n",
    "5. Se $f(a)\\cdot f(x_m)<0$ fazemos $b=x_m$, senão fazemos $a=x_m$  e voltamos ao passo 2;\n",
    "\n",
    "### Número de iterações\n",
    "Podemos estimar o número de iterações necessárias para encontrar a aproximação para a raiz $\\overline{x}$ com a precisão desejada. Considerando que a cada iteração o intervalo é dividido ao meio, então na n-ésima iteração tem-se um intervalo de amplitude $\\frac{b-a}{2^n}$, então, queremos que \n",
    "\n",
    "$$\\frac{b-a}{2^{n+1}}<\\epsilon$$\n",
    "\n",
    "ou \n",
    "\n",
    "$$ log\\left( \\frac{b-a}{2^{n+1}}\\right)<log(\\epsilon)$$\n",
    "\n",
    "que leva a\n",
    "\n",
    "$$ n>\\frac{log(b-a)-log(\\epsilon)}{log2}-1$$\n",
    "\n",
    "Assim, $n$ é o número mínimo de iterações que devem ser realizadas para se obter $\\overline{x}$ com precisão $\\epsilon$.\n"
   ]
  },
  {
   "cell_type": "markdown",
   "metadata": {},
   "source": [
    "### Exemplo 1\n",
    "Usando o método da bisseção, resolva a equação $x^2+ln(x)=0$, com $\\epsilon = 0.01$. \n",
    "\n",
    "*Solução:* Reescrevendo a equação como $x^2=-ln(x)$ e esboçando os gráficos de $f_1(x)=x^2$ e $f_2(x)=-ln(x)$ observamos que existe uma raiz no intervalo $[0.1,1]$.\n",
    "\n",
    "\n",
    "<img src=\"https://github.com/tiagoburiol/NUMETHODS/raw/master/3_ZEROS_DE_FUNCOES/images/3.3_exemplo_1loc.png\" width=\"400\">\n",
    "\n",
    "Então, na primeira iteração fazemos $x_m = \\frac{a+b}{2}=\\frac{1.0-0.1}{2}=0.55$. Como $f(a)=f(0.1)=-2.293$, $f(b)=f(1.0)=1$ e $f(x_m)=f(0.55)=-0.295$ temos que a raíz está no intervalo $[x_m,b]$. Além disso, $\\frac{|x_1-x_0|}{|x_0|}=0.2953$ é maior que $\\epsilon = 0.01$. Então seguimos o processo iterativo obtendo a sequência abaixo.\n",
    "\n",
    "<img src=\"https://github.com/tiagoburiol/NUMETHODS/raw/master/3_ZEROS_DE_FUNCOES/images/3.3_exemplo_1tab.png\" width=\"500\">\n"
   ]
  },
  {
   "cell_type": "code",
   "execution_count": 1,
   "metadata": {},
   "outputs": [
    {
     "name": "stdout",
     "output_type": "stream",
     "text": [
      "x = 0.5500 | Erro = 1.0000\n",
      "x = 0.7750 | Erro = 0.2903\n",
      "x = 0.6625 | Erro = 0.1698\n",
      "x = 0.6063 | Erro = 0.0928\n",
      "x = 0.6344 | Erro = 0.0443\n",
      "x = 0.6484 | Erro = 0.0217\n",
      "x = 0.6555 | Erro = 0.0107\n",
      "x = 0.6520 | Erro = 0.0054\n"
     ]
    }
   ],
   "source": [
    "import math\n",
    "a = 0.1; b = 1.0; err = 10.0; x_ant = 0.0\n",
    "\n",
    "f = lambda x: x**2 + math.log(x)\n",
    "\n",
    "while err > 0.01:\n",
    "    x = (a+b)/2.0\n",
    "    if f(x)*f(a) < 0:\n",
    "        b = x\n",
    "    else:\n",
    "        a = x\n",
    "    err = abs(x - x_ant)/abs(x)\n",
    "    x_ant = x\n",
    "    print (\"x = %.4f\"%x,\"| Erro = %.4f\"% err)"
   ]
  },
  {
   "cell_type": "code",
   "execution_count": 1,
   "metadata": {},
   "outputs": [
    {
     "name": "stdout",
     "output_type": "stream",
     "text": [
      "A raiz é aproximadamente x=0.65234375, com erro e=0.005988023952095809. n=7 iterações\n"
     ]
    },
    {
     "name": "stderr",
     "output_type": "stream",
     "text": [
      "/tmp/ipykernel_3334/537306270.py:8: RuntimeWarning: divide by zero encountered in log\n",
      "  plt.plot(x, -np.log(x))\n"
     ]
    },
    {
     "data": {
      "image/png": "[encoded data removed]",
      "text/plain": [
       "<Figure size 640x480 with 1 Axes>"
      ]
     },
     "metadata": {},
     "output_type": "display_data"
    }
   ],
   "source": [
    "import numpy as np\n",
    "import matplotlib.pyplot as plt\n",
    "\n",
    "x = np.linspace(0, 5)\n",
    "f = lambda x: x**2 + np.log(x)\n",
    "\n",
    "plt.plot(x, x**2)\n",
    "plt.plot(x, -np.log(x))\n",
    "\n",
    "# approx entre 0.5 e 1\n",
    "\n",
    "a = 0.5\n",
    "b = 1\n",
    "err = 1\n",
    "x_ant = b\n",
    "n_iterations = 0\n",
    "\n",
    "while err > 0.01:\n",
    "    x = (a+b)/2.0\n",
    "    err = abs(x - x_ant)/abs(x)\n",
    "    if f(x) * f(a) < 0:\n",
    "        b = x\n",
    "    elif f(x) * f(a) > 0:\n",
    "         a = x\n",
    "    else: \n",
    "        print(f\"A raiz é exatamente x={x}\")\n",
    "        break\n",
    "    x_ant = x\n",
    "    n_iterations += 1\n",
    "    \n",
    "print(f\"A raiz é aproximadamente x={x}, com erro e={err}. n={n_iterations} iterações\")\n",
    "\n",
    "\n"
   ]
  },
  {
   "cell_type": "markdown",
   "metadata": {
    "collapsed": true,
    "jupyter": {
     "outputs_hidden": true
    }
   },
   "source": [
    "### Exemplo 2\n",
    "Calcular, pelo método da bisseção, corretamente até a terceira casa decimal, a raiz da equação  $ \\left( \\frac{x}{2} \\right)^2 -sen(x) = 0 $, localizada no intervalo ($a_0=1,5$ e $b_0=2$)."
   ]
  },
  {
   "cell_type": "code",
   "execution_count": 9,
   "metadata": {},
   "outputs": [
    {
     "name": "stdout",
     "output_type": "stream",
     "text": [
      "x = 1.7500 | Err = 1.7500\n",
      "x = 1.8750 | Err = 0.1250\n",
      "x = 1.9375 | Err = 0.0625\n",
      "x = 1.9062 | Err = 0.0312\n",
      "x = 1.9219 | Err = 0.0156\n",
      "x = 1.9297 | Err = 0.0078\n",
      "x = 1.9336 | Err = 0.0039\n",
      "x = 1.9355 | Err = 0.0020\n",
      "x = 1.9346 | Err = 0.0010\n",
      "x = 1.9341 | Err = 0.0005\n",
      "x = 1.9338 | Err = 0.0002\n",
      "x = 1.9337 | Err = 0.0001\n",
      "x = 1.9338 | Err = 0.0001\n"
     ]
    }
   ],
   "source": [
    "import math\n",
    "a = 1.5\n",
    "b = 2.0\n",
    "err = 10.0\n",
    "x_ant = 0.0\n",
    "\n",
    "def f(x):\n",
    "    y = (0.5*x)**2-math.sin(x)\n",
    "    return y\n",
    "\n",
    "while err>0.0001:\n",
    "    x = (a+b)/2.0\n",
    "    if f(x)*f(a) < 0:\n",
    "        b = x\n",
    "    elif f(x)*f(a) > 0:\n",
    "        a = x\n",
    "    else:\n",
    "        print (\"A raiz exata é x=\", x)\n",
    "        break \n",
    "    err = abs(x-x_ant)\n",
    "    x_ant = x\n",
    "    print (\"x = %.4f\"%x,\"| Err = %.4f\"% err)"
   ]
  },
  {
   "cell_type": "markdown",
   "metadata": {},
   "source": [
    "### Exemplo 3\n",
    "Use o método da bisseção para obter um zero da função $f(x)=x\\log x-1$ com precisão $\\epsilon = 0.01$"
   ]
  },
  {
   "cell_type": "code",
   "execution_count": 14,
   "metadata": {},
   "outputs": [
    {
     "name": "stdout",
     "output_type": "stream",
     "text": [
      "0 2.0 3.0 2.5 -0.3979400086720376 0.43136376415898736 -0.005149978319906046 0.2\n",
      "1 2.5 3.0 2.75 -0.005149978319906046 0.43136376415898736 0.20816490803322218 0.09090909090909091\n",
      "2 2.5 2.75 2.625 -0.005149978319906046 0.20816490803322218 0.10021443282268616 0.047619047619047616\n",
      "3 2.5 2.625 2.5625 -0.005149978319906046 0.10021443282268616 0.04720117728851503 0.024390243902439025\n",
      "4 2.5 2.5625 2.53125 -0.005149978319906046 0.04720117728851503 0.020941821414320216 0.012345679012345678\n",
      "5 2.5 2.53125 2.515625 -0.005149978319906046 0.020941821414320216 0.007874847339405688 0.006211180124223602\n"
     ]
    }
   ],
   "source": [
    "from math import log10 \n",
    "\n",
    "a = 2.0\n",
    "b = 3.0\n",
    "err = 1.0\n",
    "x_ant = a\n",
    "i = 0\n",
    "\n",
    "f = lambda x:x*log10(x)-1\n",
    "\n",
    "while err>0.01:\n",
    "    x = (a+b)/2.0\n",
    "    err = abs(x - x_ant)/abs(x)\n",
    "    print (i, a, b, x, f(a), f(b), f(x), err)\n",
    "    \n",
    "    if f(a)*f(x)<0:\n",
    "        b = x\n",
    "    else: \n",
    "        a = x\n",
    "\n",
    "    i = i+1\n",
    "    x_ant = x\n",
    "    "
   ]
  },
  {
   "cell_type": "markdown",
   "metadata": {},
   "source": [
    "### Exemplo 4\n",
    "Localize e as raízes e use o método da bisseção para obter os zero da função $f(x)=x^3-9x+3$ com precisão $\\epsilon = 10^{-3}$\n"
   ]
  },
  {
   "cell_type": "markdown",
   "metadata": {},
   "source": [
    "**Solução:** Nesse exemplo, vamos começar fazendo o gráfico da função."
   ]
  },
  {
   "cell_type": "code",
   "execution_count": 22,
   "metadata": {},
   "outputs": [
    {
     "data": {
      "image/png": "[encoded data removed]",
      "text/plain": [
       "<matplotlib.figure.Figure at 0x241588a99e8>"
      ]
     },
     "metadata": {},
     "output_type": "display_data"
    }
   ],
   "source": [
    "% matplotlib inline\n",
    "import numpy as np\n",
    "import matplotlib.pyplot as plt\n",
    "\n",
    "# Cria uma lista de pontos igualmente espaçados:\n",
    "# numpy.linspace(start, stop, num=50, endpoint=True, retstep=False, dtype=None, axis=0)\n",
    "X = np.linspace(-5, 5, 21)\n",
    "\n",
    "f = lambda x: x**3-9*x+3\n",
    "\n",
    "plt.plot(X, f(X))\n",
    "plt.grid()\n",
    "plt.show()"
   ]
  },
  {
   "cell_type": "markdown",
   "metadata": {},
   "source": [
    "Pelo gráfico, podemos ver que parece existirem três raízes distintas $x_1 \\in (-4,-3)$, $x_2 \\in (0, 1)$ e $x_3 \\in (2,3)$. Vamos confirmar criando uma tabela de valores com o código a seguir."
   ]
  },
  {
   "cell_type": "code",
   "execution_count": 24,
   "metadata": {},
   "outputs": [
    {
     "name": "stdout",
     "output_type": "stream",
     "text": [
      "-4.0 -25.0\n",
      "-3.5 -8.375\n",
      "-3.0 3.0\n",
      "-2.5 9.875\n",
      "-2.0 13.0\n",
      "-1.5 13.125\n",
      "-1.0 11.0\n",
      "-0.5 7.375\n",
      "0.0 3.0\n",
      "0.5 -1.375\n",
      "1.0 -5.0\n",
      "1.5 -7.125\n",
      "2.0 -7.0\n",
      "2.5 -3.875\n",
      "3.0 3.0\n"
     ]
    }
   ],
   "source": [
    "X =  np.linspace(-4,3, 15)\n",
    "for x in X:\n",
    "    print (x, f(x))"
   ]
  },
  {
   "cell_type": "markdown",
   "metadata": {},
   "source": [
    "Pela tabela, comfirmamos a existência das raízes nos segintes intervalos: $x_1 \\in (-3.5,-3)$, $x_2 \\in (0, 0.5)$ e $x_3 \\in (2.5,3)$. usaremos agora o método da bisseção para encontrar cada uma das raízes com erro inferior a $10^{-3}$. Faremos isso criando uma função para o método da bisseção, cujos argumantos de entrada são o intervalo inicial(a,b) e a precisão $\\epsilon$."
   ]
  },
  {
   "cell_type": "code",
   "execution_count": 31,
   "metadata": {},
   "outputs": [
    {
     "name": "stdout",
     "output_type": "stream",
     "text": [
      "x1= -3.15625\n",
      "x2= 0.337890625\n",
      "x3= 2.828125\n"
     ]
    }
   ],
   "source": [
    "def bissec(f, a, b, eps):\n",
    "    err = 100\n",
    "    x_ant = a\n",
    "    while err>0.01:\n",
    "        x = (a+b)/2.0\n",
    "        err = abs(x - x_ant)/abs(x)\n",
    "        if f(a)*f(x)<0:\n",
    "            b = x\n",
    "        else: \n",
    "            a = x\n",
    "        x_ant = x\n",
    "    return (x)\n",
    "\n",
    "eps = 10**(-3)\n",
    "\n",
    "print (\"x1=\", bissec(f, -3.5, -3, eps))\n",
    "print (\"x2=\", bissec(f, 0, 0.5, eps))\n",
    "print (\"x3=\", bissec(f, 2.5, 3, eps))"
   ]
  },
  {
   "cell_type": "markdown",
   "metadata": {},
   "source": [
    "## Exercícios \n",
    "\n",
    "\n",
    "1. Localize graficamente e determine as raízes reais das funções dadas. Estime o erro relativo a cada iteração e pare quando $\\epsilon \\leq 1\\% $.\n",
    "\n",
    "a) $f(x) = –25 + 82x – 90x^2 + 44x^3 – 8x^4 + 0.7x^5$\n",
    "\n",
    "b) $f(x) = – 12 – 21x + 18x^2 – 2.75x^3$\n",
    "\n",
    "2. Usando o método da bisseção, determine uma raiz das equações com a precisão $\\varepsilon=0.0001$\n",
    "   \n",
    "a) $f(x)=x^3-\\operatorname{sen}(x)=0$\n",
    "\n",
    "b) $f(x)=3 x-\\cos (x)+1=0$\n",
    "\n",
    "c) $f(x)=\\ln (x)-\\operatorname{sen}(x)=0$\n",
    "\n",
    "3. Utilize o método da bissecção para determinar as soluções com precisão de $10^{-5}$ para os problemas a seguir.\n",
    "   \n",
    "a) $x-2^{-x}=0 \\quad$ para $\\quad 0 \\leq x \\leq 1$\n",
    "\n",
    "b) $e^x-x^2+3 x-2=0$ para $0 \\leq x \\leq 1$\n",
    "\n",
    "c) $2 x \\cos (2 x)-(x+1)^2=0 \\quad$ para $\\quad-3 \\leq x \\leq-2 \\quad$ e $\\quad-1 \\leq x \\leq 0$\n",
    "\n",
    "d) $x \\cos x-2 x^2+3 x-1=0 \\quad$ para $\\quad 0,2 \\leq x \\leq 0,3 \\quad$ e $\\quad 1,2 \\leq x \\leq 1,3$\n",
    "\n",
    "\n",
    "\n",
    "\n"
   ]
  },
  {
   "cell_type": "code",
   "execution_count": 8,
   "metadata": {},
   "outputs": [
    {
     "name": "stdout",
     "output_type": "stream",
     "text": [
      "A raiz é x=-2.1912994384765625\n"
     ]
    },
    {
     "data": {
      "image/png": "[encoded data removed]",
      "text/plain": [
       "<Figure size 640x480 with 1 Axes>"
      ]
     },
     "metadata": {},
     "output_type": "display_data"
    }
   ],
   "source": [
    "# ex 3\n",
    "import numpy as np\n",
    "import matplotlib.pyplot as plt\n",
    "\n",
    "\n",
    "f = lambda x: 2*x*np.cos(2*x) - (x+1)**2\n",
    "x = np.linspace(-3, -2)\n",
    "plt.plot(x, f(x))\n",
    "plt.grid()\n",
    "\n",
    "a = -3\n",
    "b = -2\n",
    "x_ant = b\n",
    "err = 1\n",
    "n = 0\n",
    "\n",
    "while err > 1e-5:\n",
    "    x = (a + b)/2.0\n",
    "    if f(x) * f(a) < 0:\n",
    "        b = x\n",
    "    elif f(x) * f(a) > 0:\n",
    "        a = x\n",
    "    else:\n",
    "        print(f\"A raiz é exatamente x={x}\")\n",
    "        break\n",
    "    err = abs(x - x_ant)/abs(x)\n",
    "    x_ant = x\n",
    "    \n",
    "print(f\"A raiz é x={x}\")"
   ]
  },
  {
   "cell_type": "markdown",
   "metadata": {},
   "source": [
    "4. Como mostrado na figura abaixo, a velocidade da água, $v(m/s)$, descarregada de um tanque cilíndrico através de um cano longo pode ser calculada por\n",
    "\n",
    "$$ v = \\sqrt{2gH} \\tanh \\left( \\frac{\\sqrt{2gH}}{2L}t \\right)$$\n",
    "\n",
    "em que $g=9.81m/s^2$, $H$ é a altura inicial $(m)$, $L$ é o comprimento do cano ($m$) e $t$ é o tempo decorrido ($s$). Determine a altura necessária para atingir $v=5m/s$ em $2.5s$ para um cano de $4m$ de comprimento pelo método da bisseção e pelo método do ponto-fixo com $\\epsilon =  0.001$\n",
    "<figure>\n",
    "  <img src=\"imagens/tanque_de_agua.png\" alt=\"Trulli\" style=\"width:70%\">\n",
    "</figure>"
   ]
  },
  {
   "cell_type": "markdown",
   "metadata": {},
   "source": [
    "5. Água está escoando em um canal trapezoidal a uma vazão de Q = 20 m$^3$/s. A profundidade crítica $y$ para tal canal deve satisfazer a equação\n",
    "\n",
    "$$0=1- \\frac{Q^2}{gA_c^3}B$$\n",
    "\n",
    "onde $g$ = 9.81 m/s$^2$, $A_c$ é a área da seção transversal (m$^2$) e $B$ é a largura do canal na superfície (m). Para esse caso, a largura e a área transversal podem ser relacionadas à profundidade $y$ por\n",
    "<p style=\"text-align:center;\">\n",
    "$B = 3+y \\,\\,\\,\\,$  e $\\,\\,\\,\\,A_c=3y+\\frac{y^2}{2}$\n",
    "    </p>\n",
    "    \n",
    "Encontre a profundidade crítica usando o método gráfico da bissecção e itere até que o erro aproximado fique abaixo de 1%. Discuta seus resultados"
   ]
  },
  {
   "cell_type": "code",
   "execution_count": null,
   "metadata": {},
   "outputs": [],
   "source": []
  }
 ],
 "metadata": {
  "kernelspec": {
   "display_name": "Python 3 (ipykernel)",
   "language": "python",
   "name": "python3"
  },
  "language_info": {
   "codemirror_mode": {
    "name": "ipython",
    "version": 3
   },
   "file_extension": ".py",
   "mimetype": "text/x-python",
   "name": "python",
   "nbconvert_exporter": "python",
   "pygments_lexer": "ipython3",
   "version": "3.12.4"
  }
 },
 "nbformat": 4,
 "nbformat_minor": 4
}
