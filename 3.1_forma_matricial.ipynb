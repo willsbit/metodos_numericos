{
 "cells": [
  {
   "cell_type": "markdown",
   "metadata": {},
   "source": [
    "## 3.1 Forma matricial\n",
    "\n",
    "A solução de sistema de equações algébricas lineares é provavelmente o processo numérico mais utilizado para simular situações do mundo real. É uma etapa fundamental na resolução de vários problemas que envolvam, por exemplo, equações diferenciais parciais, otimização, regressão linear e não linear e sistemas de equações não lineares. Geralmente, a solução do sistema linear é a fase que demanda a maior parte do tempo de processamento para resolver o problema. Portanto, é de extrema importância que se tenha uma implementação eficiente do método. Serão abordados os principais métodos diretos e alguns métodos iterativos usados na solução de sistemas.\n",
    "\n",
    "Considere um sistema  de equações lineares \n",
    "\n",
    "$$ \\begin{cases} \n",
    "\t         a_{11}x_1 +a_{12}x_2 + \\cdots + a_{1n}x_n = b_1\\\\ \n",
    "\t         a_{21}x_1 +a_{22}x_2 + \\cdots + a_{2n}x_n = b_2\\\\\n",
    "\t         \\vdots   \\\\\n",
    "\t         a_{n1}x_1 +a_{n2}x_2 + \\cdots + a_{nn}x_n = b_1\\\\\n",
    "             \\end{cases} $$\n",
    "\n",
    "O qual pode ser escrito em notação compacta, na seguinte forma\n",
    "\n",
    "$$  \\sum_{j=1}^{n} a_{ij} x_j = b_i$$\n",
    "\n",
    "com $i=1,2,...,n$. Ou, ainda, na forma de equação matricial\n",
    "\n",
    "$$Ax=b$$\n",
    "\n",
    "em que $A= [a_{ij}]$ com $i,j=1,..,n$, é a matriz dos coeficientes, \n",
    "$x=[x_1,x_2,...,x_n]^t$ é o vetor de incógintas e $b=[b_1, b_2,...,b_n]^t$ é o vetor de termos independentes de  $x$. Então, tem-se\n",
    "\n",
    "$$\\left[\\begin{array}{cccc} \n",
    "\t         a_{11} & a_{12} & \\cdots & a_{1n} \\\\ \n",
    "\t         a_{21} & a_{22} & \\cdots & a_{2n} \\\\\n",
    "\t         \\vdots & \\vdots & \\vdots & \\vdots \\\\\n",
    "\t         a_{n1} & a_{n2} & \\cdots & a_{nn} \\\\\n",
    "\t         \\end{array} \\right]\n",
    "\\left[\\begin{array}{c} \n",
    "\t         x_1 \\\\ \n",
    "\t         x_2 \\\\\n",
    "             \\vdots\\\\\n",
    "\t         x_n \\\\\n",
    "\t         \\end{array} \\right]\n",
    "=\n",
    "\\left[\\begin{array}{c} \n",
    "\t         b_1 \\\\ \n",
    "\t         b_2 \\\\\n",
    "             \\vdots\\\\\n",
    "\t         b_n \\\\\n",
    "\t         \\end{array} \\right]\n",
    "\t         $$\n",
    "\n",
    "Resolver o sistema dado, consiste em encontrar o vetor solução $\\overline x=[\\overline x_1, \\overline x_2,..., \\overline x_n]^t$ que satisfaça todas as equações simultaneamente. Para este sistema possuir solução única, uma vez que $A$ é uma matriz quadrada, é preciso que $det(A) \\neq 0$."
   ]
  },
  {
   "cell_type": "markdown",
   "metadata": {},
   "source": [
    "Como um primeiro exemplo vamos mostrar como criar, manipular e realizar algumas operações básicas com vetores e matrizes usando `numpy`. Para isso vamos utilizar a estrutura de dados `array`, que já conhecemos e é usada tanto para representar vetores quanto matrizes, um vetor é representado por um `array` unidimensional e uma matriz por um `array` bidimensional. Para acessar os elementos em um `array` usamos índices (iniciando em zero) em colcetes. Vejamos um exemplo."
   ]
  },
  {
   "cell_type": "markdown",
   "metadata": {},
   "source": [
    "**Exemplo 3.1.1:** Dada a matriz \n",
    "$M= \\left[\\begin{array}{ccc} \n",
    "\t         1 & 2  & 3 \\\\ \n",
    "\t         -1 & 5 &  0 \\\\\n",
    "\t         7 & -2 &  4 \\\\\n",
    "\t         \\end{array} \\right]$\n",
    "e o vetor $v = \\left[ \n",
    "            \\begin{array}{c} \n",
    "\t          3 \\\\ \n",
    "\t         -1  \\\\\n",
    "\t          0 \\\\\n",
    "\t         \\end{array} \\right]$\n",
    "             \n",
    "vamos escrevê-los como `array`'s e fazer as seguintes operações:\n",
    "\n",
    "a) somar o 1º elemento de $v$ com o 2º elemento da terceira linha de $M$\n",
    "\n",
    "b) escrever a 3ª linha de $M$ somada à 1ª multiplicada por $-7$\n",
    "\n",
    "c) multiplicar $M$ por $v$\n",
    "\n",
    "d) obter os produtos escalar e vetorial de $v$ por $u=[5,-1,4]^T$\n",
    "\n",
    "e) calcular o módulo do vetor $v$"
   ]
  },
  {
   "cell_type": "markdown",
   "metadata": {},
   "source": [
    "*Solução:* Para entrar com a matriz $M$ e o vetor $v$, primeiramente importamos a biblioteca `numpy` e então criamos os `array`'s."
   ]
  },
  {
   "cell_type": "code",
   "execution_count": 2,
   "metadata": {},
   "outputs": [],
   "source": [
    "import numpy as np\n",
    "M = np.array([[1,2,3],[-1,5,0],[7,-2,4]])\n",
    "v = np.array([3,-1,0])"
   ]
  },
  {
   "cell_type": "code",
   "execution_count": 3,
   "metadata": {},
   "outputs": [
    {
     "name": "stdout",
     "output_type": "stream",
     "text": [
      "a) 3\n",
      "b) [  0 -16 -17]\n",
      "c) [ 1 -8 23]\n",
      "d) 16\n",
      "   [ -4 -12   2]\n",
      "e) [3. 1. 0.]\n"
     ]
    }
   ],
   "source": [
    "# solução letra a)\n",
    "print('a)', v[0] + M[1,2])\n",
    "\n",
    "# solução letra b)\n",
    "print('b)',M[2] - 7*M[0])\n",
    "\n",
    "# solução letra c)\n",
    "# ou M@v -- o operador @ é o produto de matrizes\n",
    "print('c)',np.dot(M,v))\n",
    "\n",
    "# solução letra d)\n",
    "print('d)',np.dot(v,[5,-1,4]))\n",
    "print('  ',np.cross(v,[5,-1,4]))\n",
    "\n",
    "# solução letra e)\n",
    "print('e)',np.sqrt(v*v))"
   ]
  },
  {
   "cell_type": "markdown",
   "metadata": {},
   "source": [
    "Graficamente em $R^2$, a solução de um sistema linear representa a intersecção das retas definidas pelas equações."
   ]
  },
  {
   "cell_type": "markdown",
   "metadata": {},
   "source": [
    "**Exemplo 3.1.2:**\n",
    "O sistema linear \n",
    "\n",
    "$$ \\begin{cases} \n",
    "\t         -x_1 + 2x_2 = 3\\\\ \n",
    "              x_1 + x_2 = 3\n",
    "             \\end{cases} $$\n",
    "             \n",
    "tem uma única solução $\\overline x= (1,2)^t$, como pode ser visto no gráfico abaixo."
   ]
  },
  {
   "cell_type": "code",
   "execution_count": 3,
   "metadata": {},
   "outputs": [],
   "source": [
    "import numpy as np\n",
    "import matplotlib.pyplot as plt"
   ]
  },
  {
   "cell_type": "code",
   "execution_count": 4,
   "metadata": {},
   "outputs": [
    {
     "data": {
      "image/png": "[encoded data removed]",
      "text/plain": [
       "<Figure size 640x480 with 1 Axes>"
      ]
     },
     "metadata": {},
     "output_type": "display_data"
    }
   ],
   "source": [
    "x = np.linspace(-1,3,2)\n",
    "plt.plot(x, -3+2*x, \"-\")\n",
    "plt.plot(x, 3-x, \"r-\") \n",
    "plt.grid()\n",
    "plt.show()"
   ]
  },
  {
   "cell_type": "markdown",
   "metadata": {},
   "source": [
    "Já o sistema linear \n",
    "\n",
    "$$ \\begin{cases} \n",
    "\t         x_1 + x_2 = 1\\\\ \n",
    "             2x_1 + 2x_2 = 2\n",
    "             \\end{cases} $$\n",
    "             \n",
    "tem infinitas soluções já que as duas equações representam a retas coincidentes."
   ]
  },
  {
   "cell_type": "code",
   "execution_count": 5,
   "metadata": {},
   "outputs": [
    {
     "data": {
      "image/png": "[encoded data removed]",
      "text/plain": [
       "<Figure size 640x480 with 1 Axes>"
      ]
     },
     "metadata": {},
     "output_type": "display_data"
    }
   ],
   "source": [
    "plt.plot(x, 1-x, \"b-\", linewidth= 2.0)\n",
    "plt.plot( x, (2-2*x)/2, \"r-\", linewidth=1.0) \n",
    "plt.grid()\n",
    "plt.show()"
   ]
  },
  {
   "cell_type": "markdown",
   "metadata": {},
   "source": [
    "Por fim, o sistema linear \n",
    "\n",
    "$$ \\begin{cases} \n",
    "\t         x_1 + x_2 = 1\\\\ \n",
    "             2x_1 + 2x_2 = 4\n",
    "             \\end{cases} $$\n",
    "             \n",
    "Não tem nenhuma solução (sistema inconsistente) já que as duas equações representam a retas paralelas."
   ]
  },
  {
   "cell_type": "code",
   "execution_count": 6,
   "metadata": {},
   "outputs": [
    {
     "data": {
      "image/png": "[encoded data removed]",
      "text/plain": [
       "<Figure size 640x480 with 1 Axes>"
      ]
     },
     "metadata": {},
     "output_type": "display_data"
    }
   ],
   "source": [
    "plt.plot(x, 1-x, \"b-\")\n",
    "plt.plot(x, (4-2*x)/2, \"r-\") \n",
    "plt.grid()\n",
    "plt.show()"
   ]
  },
  {
   "cell_type": "markdown",
   "metadata": {},
   "source": [
    "Para sistema com três incógnitas, as equações envolvidas são geometricamente interpretadas como planos em $\\mathbb R^3$. A figura abaixo mostra quatro possibilidades de posições relativas entre três planos distintos. \n",
    "\n",
    "<img src=\"imagens/planos_interc.png\" width=\"960\">"
   ]
  },
  {
   "cell_type": "markdown",
   "metadata": {},
   "source": [
    "### Condicionamento de matrizes\n",
    "\n",
    "Sabemos que um sistema linear $n \\times n$, $Ax=b$ tem solução única se $det(A) \\neq 0$, caso $det(A)=0$ dizemos que a matriz $A$ é singular e o sistema poderá ter infinitas soluções ou nenhuma solução. Mas o que acontece se a matriz é \"quase singular\" ($det(A)$ é muito pequeno)?\n",
    "\n",
    "Dizemos que $det(A)=|A|$ é muito pequeno se $|A|<<||A||$ onde $||A||$ é a **norma** da matriz $A$. A norma é um número real usado para expressar a magnitude de um vetor ou de uma matriz. "
   ]
  },
  {
   "cell_type": "markdown",
   "metadata": {},
   "source": [
    "### Norma de vetores\n",
    "No caso de um vetor $x$ de tamanho $n$, as normas são definidas em termos da _norma−p_\n",
    "\n",
    "$$ \\|x\\|_p = \\left( \\sum^n_{i=1} \\left|x_i \\right|^p \\right)^{1/p}, \\,\\,\\, 1\\leq p < \\infty$$\n",
    "\n",
    "A partir dessa equação, definimos três normas vetoriais importantes, a **norma soma de magnitudes**, definida como \n",
    "\n",
    "$$\\|x\\|_1 =  \\sum^n_{i=1} \\left|x_i \\right| $$\n",
    "\n",
    "A **norma Euclidiana**, com a forma\n",
    "\n",
    "$$\\|x\\|_2 =  \\sqrt{\\sum^n_{i=1} \\left|x_i \\right|^2}  $$\n",
    "\n",
    "E a **norma de máxima magnitude**, como segue\n",
    "\n",
    "$$\\|x\\|_\\infty = \\lim_{p \\to \\infty} \\left( \\sum^n_{i=1} \\left|x_i \\right|^p \\right)^{1/p}= \\max_{1 \\leq i\\leq n} \\left|x_i \\right|$$\n"
   ]
  },
  {
   "cell_type": "markdown",
   "metadata": {},
   "source": [
    "### Norma de matrizes\n",
    "Normas de matrizes podem ser definidas forma semelhante. Chamamos de **norma Euclidiana** ao valor dado por\n",
    "$$ \\|A\\|_e = \\sqrt{\\sum^n_{i=1} \\sum^n_{j=1} A_{ij}^2}$$\n",
    "\n",
    "e **norma linha** ou **norma infinito** ao valor dado por\n",
    "$$\\|A\\|_{\\infty} = \\max_{1 \\leq i \\leq n} \\sum_{j=1}^n \\left|A_{ij} \\right| $$\n"
   ]
  },
  {
   "cell_type": "markdown",
   "metadata": {},
   "source": [
    "### Número de condicionamento de uma matriz\n",
    "Uma medida formal para o condicionamento de uma matriz, o **número de condicionamento da matriz** definido como \n",
    "\n",
    "$$cond(A) = \\|A\\| \\|A^{-1}\\| $$\n",
    "\n",
    "se esse número estiver próximo de 1, então a matriz é bem condicionada. Esse número aumenta com o mal condicionamento da matriz. \n",
    "\n",
    "Infelizmente, o número de condicionamento é computacionalmente oneroso para matrizes grandes. Então, muitas vezes é suficiente estimar o condicionamento comparando o determinante com a magnitude dos elementos da matriz. \n",
    "\n",
    "Se as equações estiverem mal condicionadas, pequenas mudanças nos coeficientes da matriz resultarão em grandes mudanças na solução."
   ]
  },
  {
   "cell_type": "markdown",
   "metadata": {},
   "source": [
    "**Exemplo 3.1.2:**\n",
    "Consideremos o sistema linear \n",
    "$$ \\begin{cases} \n",
    "\t         2x_1 + x_2 = 3\\\\ \n",
    "             2x_1 + 1.001x_2 = 0\n",
    "             \\end{cases} $$\n",
    "Cuja solução é dada por:"
   ]
  },
  {
   "cell_type": "code",
   "execution_count": 29,
   "metadata": {},
   "outputs": [
    {
     "name": "stdout",
     "output_type": "stream",
     "text": [
      "x = [ 1501.5 -3000. ]\n"
     ]
    }
   ],
   "source": [
    "#import scipy.linalg as la\n",
    "import numpy.linalg as la\n",
    "\n",
    "\n",
    "\n",
    "A = [[2, 1], [2, 1.001]]\n",
    "b = [3, 0]\n",
    "print ('x =', la.solve(A,b))"
   ]
  },
  {
   "cell_type": "markdown",
   "metadata": {},
   "source": [
    "A matriz dos coeficientes desse sistema tem um número de condicionamento grande, ou seja, a matriz é mal condicionada"
   ]
  },
  {
   "cell_type": "code",
   "execution_count": 30,
   "metadata": {},
   "outputs": [
    {
     "name": "stdout",
     "output_type": "stream",
     "text": [
      "5001.000500000551\n"
     ]
    }
   ],
   "source": [
    "print (la.norm(A) * la.norm(la.inv(A)))"
   ]
  },
  {
   "cell_type": "code",
   "execution_count": 31,
   "metadata": {},
   "outputs": [
    {
     "data": {
      "text/plain": [
       "3.162594030222659"
      ]
     },
     "execution_count": 31,
     "metadata": {},
     "output_type": "execute_result"
    }
   ],
   "source": [
    "la.norm(A)"
   ]
  },
  {
   "cell_type": "code",
   "execution_count": 32,
   "metadata": {},
   "outputs": [
    {
     "data": {
      "text/plain": [
       "0.00199999999999978"
      ]
     },
     "execution_count": 32,
     "metadata": {},
     "output_type": "execute_result"
    }
   ],
   "source": [
    "la.det(A)"
   ]
  },
  {
   "cell_type": "markdown",
   "metadata": {},
   "source": [
    "Observe o que acontece com a solução do sistema quando variamos ligeiramente um dos coeficientes "
   ]
  },
  {
   "cell_type": "code",
   "execution_count": 11,
   "metadata": {},
   "outputs": [
    {
     "name": "stdout",
     "output_type": "stream",
     "text": [
      "x = [  751.5 -1500. ]\n"
     ]
    }
   ],
   "source": [
    "A = [[2, 1], [2, 1.002]]\n",
    "print ('x =',la.solve(A,b))"
   ]
  },
  {
   "cell_type": "markdown",
   "metadata": {},
   "source": [
    "Uma mudança no coeficiente na ordem de 1% gerou uma diferença na solução de 100%!"
   ]
  },
  {
   "cell_type": "markdown",
   "metadata": {},
   "source": [
    "A seguir vamos mostrar como criar, manipular e realizar algumas operações básicas com vetores e matrizes usando `numpy`. Para isso vamos utilizar a estrutura de dados `array`, que já conhecemos e é usada tanto para representar vetores quanto matrizes, um vetor é representado por um `array` unidimensional e uma matriz por um `array` bidimensional. Para acessar os elementos em um `array` usamos índices (iniciando em zero) em colcetes. Vejamos um exemplo.\n",
    "\n",
    "Lembrando que os índices dos *arrays* iniciam em $0$, então uma matriz em Python tem uma forma geral como a matriz $A =[a_{ij}]$, $i=0,...,n$ e $j=0,...,m$ representada abaixo. \n",
    "\n",
    "$$A = \\begin{bmatrix}\n",
    "a_{00} & a_{01} & \\cdots & a_{0m} \\\\\n",
    "a_{10} & a_{11} & \\cdots & a_{1m} \\\\\n",
    "\\vdots & \\vdots & \\ddots & \\vdots \\\\\n",
    "a_{n0} & a_{n1} & \\cdots & a_{nm}\n",
    "\\end{bmatrix}$$\n"
   ]
  },
  {
   "cell_type": "markdown",
   "metadata": {},
   "source": [
    "Sejam as matrizes $A =[a_{ij}]$, $B =[b_{ij}]$, e $C =[c_{ij}]$, com $i=0,...,n$ e $j=0,...,m$, algumas operações básicas incluem:\n",
    "\n",
    "- **Soma de matrizes:** $C=A+B$ tal que $c_{ij} = a_{ij} + b_{ij}$, para $i=0,...,n$ e $j=0,...,m$.\n",
    "\n",
    "\n",
    "- **Produto por escalar:** $C=k\\cdot A$,  tal que $c_{ij} = k\\cdot a_{ij}$, $k$ escalar, para $i=0,...,n$ e $j=0,...,m$.\n",
    "\n",
    "\n",
    "- **Produto de matrizes:** $M_{m \\times n} = A_{m \\times p} \\cdot B_{p\\times n}$ tal que $m_{ij} = \\sum_{k=0}^{m} a_{ik} \\cdot b_{kj}$\n",
    "\n",
    "É facil fazer essas contas usando Python, vejamos os exemplos a seguir:\n"
   ]
  },
  {
   "cell_type": "code",
   "execution_count": 12,
   "metadata": {},
   "outputs": [
    {
     "name": "stdout",
     "output_type": "stream",
     "text": [
      "[[ 1  2  3]\n",
      " [-1  5  0]\n",
      " [ 7 -2  4]]\n"
     ]
    }
   ],
   "source": [
    "# definindo uma matriz A\n",
    "A = np.array([[1,2,3],[-1,5,0],[7,-2,4]])\n",
    "print(A)"
   ]
  },
  {
   "cell_type": "code",
   "execution_count": 13,
   "metadata": {},
   "outputs": [
    {
     "name": "stdout",
     "output_type": "stream",
     "text": [
      "[[ 0 -2  1]\n",
      " [ 1  0  5]\n",
      " [ 1 -2  2]]\n"
     ]
    }
   ],
   "source": [
    "# definindo uma matriz B\n",
    "B = np.array([[0,-2,1],[1,0,5],[1,-2,2]])\n",
    "print(B)"
   ]
  },
  {
   "cell_type": "code",
   "execution_count": 14,
   "metadata": {},
   "outputs": [
    {
     "data": {
      "text/plain": [
       "array([[ 1,  0,  4],\n",
       "       [ 0,  5,  5],\n",
       "       [ 8, -4,  6]])"
      ]
     },
     "execution_count": 14,
     "metadata": {},
     "output_type": "execute_result"
    }
   ],
   "source": [
    "# somando A e B\n",
    "A+B"
   ]
  },
  {
   "cell_type": "code",
   "execution_count": 15,
   "metadata": {},
   "outputs": [
    {
     "data": {
      "text/plain": [
       "array([[  5,  -8,  17],\n",
       "       [  5,   2,  24],\n",
       "       [  2, -22,   5]])"
      ]
     },
     "execution_count": 15,
     "metadata": {},
     "output_type": "execute_result"
    }
   ],
   "source": [
    "# multiplicando A por B\n",
    "A@B"
   ]
  },
  {
   "cell_type": "code",
   "execution_count": 16,
   "metadata": {},
   "outputs": [
    {
     "data": {
      "text/plain": [
       "array([[  5,  -8,  17],\n",
       "       [  5,   2,  24],\n",
       "       [  2, -22,   5]])"
      ]
     },
     "execution_count": 16,
     "metadata": {},
     "output_type": "execute_result"
    }
   ],
   "source": [
    "# ou \n",
    "A.dot(B)"
   ]
  },
  {
   "cell_type": "markdown",
   "metadata": {},
   "source": [
    "É fácil extrair uma linha da matriz, sua diagonal, obter sua transposta ou uma combinação linear. Veja os exemplos a seguir:"
   ]
  },
  {
   "cell_type": "code",
   "execution_count": 17,
   "metadata": {},
   "outputs": [
    {
     "data": {
      "text/plain": [
       "array([-1,  5,  0])"
      ]
     },
     "execution_count": 17,
     "metadata": {},
     "output_type": "execute_result"
    }
   ],
   "source": [
    "# pegando a segunda linha de A\n",
    "A[1]"
   ]
  },
  {
   "cell_type": "code",
   "execution_count": 18,
   "metadata": {},
   "outputs": [
    {
     "data": {
      "text/plain": [
       "array([1, 5, 4])"
      ]
     },
     "execution_count": 18,
     "metadata": {},
     "output_type": "execute_result"
    }
   ],
   "source": [
    "# pegando a diagonal de A\n",
    "np.diag(A)"
   ]
  },
  {
   "cell_type": "code",
   "execution_count": 19,
   "metadata": {},
   "outputs": [
    {
     "data": {
      "text/plain": [
       "array([[ 1, -1,  7],\n",
       "       [ 2,  5, -2],\n",
       "       [ 3,  0,  4]])"
      ]
     },
     "execution_count": 19,
     "metadata": {},
     "output_type": "execute_result"
    }
   ],
   "source": [
    "# transpondo\n",
    "A.T"
   ]
  },
  {
   "cell_type": "code",
   "execution_count": 20,
   "metadata": {},
   "outputs": [
    {
     "data": {
      "text/plain": [
       "array([[  2,  10,   3],\n",
       "       [ -5,  10, -15],\n",
       "       [ 11,   2,   2]])"
      ]
     },
     "execution_count": 20,
     "metadata": {},
     "output_type": "execute_result"
    }
   ],
   "source": [
    "# combinação linear\n",
    "2*A-3*B"
   ]
  },
  {
   "cell_type": "markdown",
   "metadata": {},
   "source": [
    "### Sistemas triangulares e escalonamento de matrizes\n",
    "Muitas vezes é útil escalonar a matriz ampliada de um sistema linear para obter um sistema triangular equivalente que seja mais fácil de resolver. Sistemas triagulares, em geral podem ser facilmente resolvidos por substituições sucessivas.\n",
    "\n",
    "Um **sistema triangular inferior** representado por $Lx=b$, possui matriz de coeficientes tal que $[l_{ij}]=0$ para $i<j$, com $i,j=0,1,...,n$. \n",
    "\n",
    "Um algoritmo para obter a sua solução é dado por:\n",
    "\n",
    "$$ x_1 = b_1/a_{11}$$\n",
    "\n",
    "para $i=2,3...,n$, faça\n",
    "\n",
    "$$ x_i = \\frac{b_i- \\sum\\limits_{j=1}^{(i-1)} a_{ij}x_j}{a_{ii}}$$\t         \n",
    "\t         \n",
    "Usando Python, um código que implementa esse algoritmo, é mostrado no exemplo abaixo."
   ]
  },
  {
   "cell_type": "markdown",
   "metadata": {},
   "source": [
    "**Exemplo 3.1.3:** \n",
    "\n",
    "Seja o sistema linear\n",
    "$$ \\begin{cases} \n",
    "\t         2x_1 = 2\\\\ \n",
    "             x_1 + 4x_2 = -3\\\\\n",
    "             x_1 + x_2 + x_3 = 0\n",
    "             \\end{cases} $$\n",
    "um código em Python que implementa esse algoritmo e a solução obtida executando o programa são mostrados a seguir "
   ]
  },
  {
   "cell_type": "code",
   "execution_count": 74,
   "metadata": {},
   "outputs": [
    {
     "data": {
      "text/plain": [
       "array([[ 2.,  0.,  0.,  2.],\n",
       "       [ 1.,  4.,  0., -3.],\n",
       "       [ 1.,  1.,  1.,  0.]])"
      ]
     },
     "execution_count": 74,
     "metadata": {},
     "output_type": "execute_result"
    }
   ],
   "source": [
    "A = np.array([[2,0,0],\n",
    "              [1.,4.,0],\n",
    "              [1.,1.,1.]])\n",
    "\n",
    "b = np.array([2.,-3., 0])\n",
    "\n",
    "M = np.hstack((A,b.reshape(3,1)))\n",
    "M"
   ]
  },
  {
   "cell_type": "code",
   "execution_count": 22,
   "metadata": {},
   "outputs": [
    {
     "name": "stdout",
     "output_type": "stream",
     "text": [
      "[1.0, -1.0, 0.0]\n"
     ]
    }
   ],
   "source": [
    "x1 = b[0]/A[0][0]\n",
    "x = [x1]\n",
    "\n",
    "for i in range(1,len(A)):\n",
    "    soma = 0\n",
    "    for j in range(0,i):\n",
    "        soma +=  A[i][j]*x[j]\n",
    "    x.append((b[i]-soma)/A[i][i])\n",
    "print (x)"
   ]
  },
  {
   "cell_type": "code",
   "execution_count": 23,
   "metadata": {},
   "outputs": [
    {
     "data": {
      "text/plain": [
       "array([ 2., -3.,  0.])"
      ]
     },
     "execution_count": 23,
     "metadata": {},
     "output_type": "execute_result"
    }
   ],
   "source": [
    "A@x"
   ]
  },
  {
   "cell_type": "markdown",
   "metadata": {},
   "source": [
    "Uma versão mais elegante do algoritmo para resolução de um sistema triangular inferior pode ser escrito como é mostrado abaixo"
   ]
  },
  {
   "cell_type": "code",
   "execution_count": 24,
   "metadata": {},
   "outputs": [
    {
     "name": "stdout",
     "output_type": "stream",
     "text": [
      "[ 1. -1.  0.]\n"
     ]
    }
   ],
   "source": [
    "for i in range(len(b)): \n",
    "    b[i] = (b[i] - np.dot(A[i,0:i],b[0:i]))/A[i][i] \n",
    "print (b)"
   ]
  },
  {
   "cell_type": "markdown",
   "metadata": {},
   "source": [
    "Um **sistema triangular superior** representado por $Ux=b$, possui matriz de coeficientes tal que $[u_{ij}]=0$ para $i>j$, com $i,j=0,1,...,n$. \n",
    "\n",
    "Um algoritmo para obter a sua solução é dado por:\n",
    "\n",
    "$$ x_n = b_n/a_{nn}$$\n",
    "\n",
    "para $i=(n-1), (n-2),...,1$, faça\n",
    "\n",
    "$$ x_i = \\frac{b_i- \\sum\\limits_{j=i+1}^{(n)} a_{ij}x_j}{a_{ii}}$$\t\n",
    "\n",
    "Usando Python, um código que implementa esse algoritmo, é mostrado abaixo."
   ]
  },
  {
   "cell_type": "code",
   "execution_count": 18,
   "metadata": {},
   "outputs": [],
   "source": [
    "def solve_U(U,b):\n",
    "    n=len(b)\n",
    "    x = np.empty(n)\n",
    "    for i in range(n-1, -1, -1):\n",
    "        x[i] = (b[i] - np.sum(U[i,i+1:n+1]*x[i+1:n+1]))/U[i,i]\n",
    "    return x"
   ]
  },
  {
   "cell_type": "markdown",
   "metadata": {},
   "source": [
    "**Exemplo 3.3.4:**\n",
    "Seja o sistema linear\n",
    "$$ \\begin{cases} \n",
    "\t         3x_1 + x_2 +x_3= 4\\\\ \n",
    "             2x_2 -x_3 = 2\\\\\n",
    "             3x_3 = 3\n",
    "             \\end{cases} $$\n",
    "um código em Python que implementa esse algoritmo e a solução obtida executando o programa são mostrados a seguir "
   ]
  },
  {
   "cell_type": "code",
   "execution_count": 26,
   "metadata": {},
   "outputs": [],
   "source": [
    "A = np.array([[3,1,1],\n",
    "              [0,2,-1],\n",
    "              [0,0,3]]).astype(float)\n",
    "\n",
    "b = np.array([4,2,3]).astype(float)"
   ]
  },
  {
   "cell_type": "code",
   "execution_count": 27,
   "metadata": {},
   "outputs": [
    {
     "data": {
      "text/plain": [
       "array([0.5, 1.5, 1. ])"
      ]
     },
     "execution_count": 27,
     "metadata": {},
     "output_type": "execute_result"
    }
   ],
   "source": [
    "solve_U(A,b)"
   ]
  },
  {
   "cell_type": "code",
   "execution_count": 28,
   "metadata": {},
   "outputs": [
    {
     "data": {
      "text/plain": [
       "array([0.5, 1.5, 1. ])"
      ]
     },
     "execution_count": 28,
     "metadata": {},
     "output_type": "execute_result"
    }
   ],
   "source": [
    "x = np.linalg.solve(A,b)\n",
    "x"
   ]
  },
  {
   "cell_type": "code",
   "execution_count": 29,
   "metadata": {},
   "outputs": [
    {
     "data": {
      "text/plain": [
       "array([4., 2., 3.])"
      ]
     },
     "execution_count": 29,
     "metadata": {},
     "output_type": "execute_result"
    }
   ],
   "source": [
    "A@x"
   ]
  },
  {
   "cell_type": "markdown",
   "metadata": {},
   "source": [
    "### Método da Eliminação de Gauss\n",
    "\n",
    "O método de eliminação de Gauss para resolução de sistemas lineares consiste no processo \n",
    "de transformar um sistema $Ax=b$ em um sistema triangular equivalente, \n",
    "aplicando operações elementares sobre as linhas da matriz aumentada $[A \\mid b]$. O sistema equivalente obtido ao final do processo, deve ser de resolução mais simples ou imediata, por substituição subsequente. "
   ]
  },
  {
   "cell_type": "markdown",
   "metadata": {},
   "source": [
    "**Exemplo 3.1.5:** \n",
    "Usando o método de eliminação de Gauss, resolva o sistema de equações lineares:\n",
    "\n",
    "$$\n",
    "\\left[\\begin{array}{rrr}\n",
    "3 & 0 & 1 \\\\\n",
    "3 & 2 & 1 \\\\\n",
    "-3 & 1 & 3\n",
    "\\end{array}\\right]\\left[\\begin{array}{l}\n",
    "x_1 \\\\\n",
    "x_2 \\\\\n",
    "x_3\n",
    "\\end{array}\\right]=\\left[\\begin{array}{l}\n",
    "1 \\\\\n",
    "1 \\\\\n",
    "3\n",
    "\\end{array}\\right]\n",
    "$$"
   ]
  },
  {
   "cell_type": "markdown",
   "metadata": {},
   "source": [
    "Um exemplo de algoritmo para resolver sistemas lineares por eliminação de Gauss (sem pivoteamento e sem verificar valores nulos na diagonal)."
   ]
  },
  {
   "cell_type": "code",
   "execution_count": 19,
   "metadata": {},
   "outputs": [],
   "source": [
    "# funcao que triangulariza o sistema\n",
    "def escalona(M):\n",
    "    n = len(M)\n",
    "    for j in range(n-1):\n",
    "        for i in range(j,n-1):\n",
    "            m = M[i+1,j]/M[j,j]\n",
    "            M[i+1] = M[i+1]-m*M[j]\n",
    "    return (M)"
   ]
  },
  {
   "cell_type": "code",
   "execution_count": 31,
   "metadata": {},
   "outputs": [],
   "source": [
    "A = np.array([[3.,0.,1.],\n",
    "              [3.,2.,1.],\n",
    "              [-3.,1.,3.]])\n",
    "b = np.array([1.,1.,3.])"
   ]
  },
  {
   "cell_type": "code",
   "execution_count": 96,
   "metadata": {},
   "outputs": [
    {
     "data": {
      "text/plain": [
       "array([[ 2.,  0.,  0.,  2.],\n",
       "       [ 1.,  4.,  0., -3.],\n",
       "       [ 1.,  1.,  1.,  0.]])"
      ]
     },
     "execution_count": 96,
     "metadata": {},
     "output_type": "execute_result"
    }
   ],
   "source": [
    "M = np.hstack((A,b.reshape(3,1)))\n",
    "M"
   ]
  },
  {
   "cell_type": "code",
   "execution_count": 101,
   "metadata": {},
   "outputs": [
    {
     "data": {
      "text/plain": [
       "array([[ 2.,  0.,  0.,  2.],\n",
       "       [ 0.,  4.,  0., -4.],\n",
       "       [ 0.,  0.,  1.,  0.]])"
      ]
     },
     "execution_count": 101,
     "metadata": {},
     "output_type": "execute_result"
    }
   ],
   "source": [
    "Mesc = escalona(M)\n",
    "Mesc"
   ]
  },
  {
   "cell_type": "code",
   "execution_count": 34,
   "metadata": {},
   "outputs": [
    {
     "data": {
      "text/plain": [
       "array([[3., 0., 1.],\n",
       "       [0., 2., 0.],\n",
       "       [0., 0., 4.]])"
      ]
     },
     "execution_count": 34,
     "metadata": {},
     "output_type": "execute_result"
    }
   ],
   "source": [
    "Aesc =  Mesc[:,:-1]\n",
    "Aesc"
   ]
  },
  {
   "cell_type": "code",
   "execution_count": 35,
   "metadata": {},
   "outputs": [
    {
     "data": {
      "text/plain": [
       "array([1., 0., 4.])"
      ]
     },
     "execution_count": 35,
     "metadata": {},
     "output_type": "execute_result"
    }
   ],
   "source": [
    "besc = Mesc[:,-1]\n",
    "besc"
   ]
  },
  {
   "cell_type": "code",
   "execution_count": 36,
   "metadata": {},
   "outputs": [
    {
     "data": {
      "text/plain": [
       "array([0., 0., 1.])"
      ]
     },
     "execution_count": 36,
     "metadata": {},
     "output_type": "execute_result"
    }
   ],
   "source": [
    "x = solve_U(Aesc, besc)\n",
    "x"
   ]
  },
  {
   "cell_type": "markdown",
   "metadata": {},
   "source": [
    "**Exercício:**\n",
    "Use a eliminação de Gauss para resolver os seguintes sistemas lineares. Não reordene as equações. (A solução exata para cada sistema é  $\\left( x_1=1, x_2=-1, x_3=3 \\right)$.\n",
    "\n",
    "$$\n",
    "\\begin{gathered}\n",
    "4 x_1-x_2+x_3=8, \\\\\n",
    "2 x_1+5 x_2+2 x_3=3, \\\\\n",
    "x_1+2 x_2+4 x_3=11 .\n",
    "\\end{gathered}\n",
    "\\quad \\text{e} \\quad  \n",
    "\\begin{aligned}\n",
    "4 x_1+x_2+2 x_3 & =9, \\\\\n",
    "2 x_1+4 x_2-x_3 & =-5, \\\\\n",
    "x_1+x_2-3 x_3 & =-9 .\n",
    "\\end{aligned}\n",
    "$$"
   ]
  },
  {
   "cell_type": "code",
   "execution_count": 20,
   "metadata": {},
   "outputs": [
    {
     "name": "stdout",
     "output_type": "stream",
     "text": [
      "[2.  0.6 5.5]\n",
      "[ 0.5 -0.5  5.5]\n"
     ]
    }
   ],
   "source": [
    "A = np.array([[4, -1, 1], [2, 5, 2], [1, 2, 4]])\n",
    "b = np.array([8, 3, 11])\n",
    "A_esc = escalona(A)\n",
    "\n",
    "x = np.empty(len(b))\n",
    "\n",
    "for i in range(len(b)): \n",
    "    x[i] = (b[i] - np.dot(A_esc[i,0:i],b[0:i]))/A[i][i] \n",
    "\n",
    "print(x)\n",
    "print(np.linalg.solve(A, b))"
   ]
  },
  {
   "cell_type": "code",
   "execution_count": null,
   "metadata": {},
   "outputs": [],
   "source": [
    "A = np.array([[4, 1, 3], [2, 5, 2], [1, 2, 4]])\n",
    "b = np.array([8, 3, 11])\n",
    "A_esc = escalona(A)\n",
    "\n",
    "x = np.empty(len(b))\n",
    "\n",
    "for i in range(len(b)): \n",
    "    x[i] = (b[i] - np.dot(A[i,0:i],b[0:i]))/A[i][i] \n",
    "\n",
    "print(x)"
   ]
  },
  {
   "cell_type": "markdown",
   "metadata": {},
   "source": [
    "### Exercício resolvido:\n",
    "\n",
    "Represente o sistema linear\n",
    "$$\n",
    "\\begin{aligned}\n",
    "x_1-x_2+2 x_3-x_4 & =-8, \\\\\n",
    "2 x_1-2 x_2+3 x_3-3 x_4 & =-20, \\\\\n",
    "x_1+x_2+x_3 & =-2, \\\\\n",
    "x_1-x_2+4 x_3+3 x_4 & =4 .\n",
    "\\end{aligned}\n",
    "$$\n",
    "\n",
    "e use a eliminação de Gauss para encontrar sua solução. "
   ]
  },
  {
   "cell_type": "code",
   "execution_count": 42,
   "metadata": {},
   "outputs": [
    {
     "name": "stdout",
     "output_type": "stream",
     "text": [
      "[[  1.  -1.   2.  -1.  -8.]\n",
      " [  2.  -2.   3.  -3. -20.]\n",
      " [  1.   1.   1.   0.  -2.]\n",
      " [  1.  -1.   4.   3.   4.]]\n"
     ]
    }
   ],
   "source": [
    "A = np.array([[1,-1,2,-1],\n",
    "              [2,-2,3,-3],\n",
    "              [1,1,1,0],\n",
    "              [1,-1,4,3]]).astype(float)\n",
    "b = np.array([-8, -20, -2, 4])\n",
    "\n",
    "M = np.hstack((A,b.reshape(4,1)))\n",
    "print (M)"
   ]
  },
  {
   "cell_type": "code",
   "execution_count": 7,
   "metadata": {},
   "outputs": [
    {
     "name": "stderr",
     "output_type": "stream",
     "text": [
      "/tmp/ipykernel_1753/622910900.py:6: RuntimeWarning: divide by zero encountered in scalar divide\n",
      "  m = M[i+1,j]/M[j,j]\n",
      "/tmp/ipykernel_1753/622910900.py:7: RuntimeWarning: invalid value encountered in multiply\n",
      "  M[i+1] = M[i+1]-m*M[j]\n",
      "/tmp/ipykernel_1753/622910900.py:6: RuntimeWarning: invalid value encountered in scalar divide\n",
      "  m = M[i+1,j]/M[j,j]\n"
     ]
    }
   ],
   "source": [
    "Mesc = escalona(M)"
   ]
  },
  {
   "cell_type": "markdown",
   "metadata": {},
   "source": [
    "Observe que aqui ocorreu um problema de divisão por zero. Vamos modificar o código da eliminação de gaus e incluir o pivoteamento. Para isso vamos usar a função `np.argsort` que devolve os índices dos elementos uma coluna ordenados. Vejamos um exemplo:"
   ]
  },
  {
   "cell_type": "code",
   "execution_count": 8,
   "metadata": {},
   "outputs": [],
   "source": [
    "M = np.hstack((A,b.reshape(4,1)))"
   ]
  },
  {
   "cell_type": "code",
   "execution_count": 9,
   "metadata": {},
   "outputs": [],
   "source": [
    "# ordem crescente dos elementos da 3ª coluna (em valor absoluto) \n",
    "idx = np.argsort(abs(M[:,2]))"
   ]
  },
  {
   "cell_type": "code",
   "execution_count": 41,
   "metadata": {},
   "outputs": [
    {
     "data": {
      "text/plain": [
       "array([[  0. ,   0. ,   2.5,   4.5,  14. ],\n",
       "       [  0. ,   2. ,  -0.5,   1.5,   8. ],\n",
       "       [  0. ,   0. ,   0. ,  -0.4,  -0.8],\n",
       "       [  2. ,  -2. ,   3. ,  -3. , -20. ]])"
      ]
     },
     "execution_count": 41,
     "metadata": {},
     "output_type": "execute_result"
    }
   ],
   "source": [
    "# trocando linhas para deixar a 3ª coluna em ordem decrescente\n",
    "M = M[np.flip(idx)]\n",
    "M"
   ]
  },
  {
   "cell_type": "markdown",
   "metadata": {},
   "source": [
    "Agora vamos usar esse procedimento para incluir o pivoteamento na eliminação de Gauss."
   ]
  },
  {
   "cell_type": "code",
   "execution_count": 32,
   "metadata": {},
   "outputs": [
    {
     "ename": "ValueError",
     "evalue": "cannot reshape array of size 5 into shape (4,1)",
     "output_type": "error",
     "traceback": [
      "\u001b[0;31m---------------------------------------------------------------------------\u001b[0m",
      "\u001b[0;31mValueError\u001b[0m                                Traceback (most recent call last)",
      "Cell \u001b[0;32mIn [32], line 1\u001b[0m\n\u001b[0;32m----> 1\u001b[0m M \u001b[38;5;241m=\u001b[39m np\u001b[38;5;241m.\u001b[39mhstack((A,\u001b[43mb\u001b[49m\u001b[38;5;241;43m.\u001b[39;49m\u001b[43mreshape\u001b[49m\u001b[43m(\u001b[49m\u001b[38;5;241;43m4\u001b[39;49m\u001b[43m,\u001b[49m\u001b[38;5;241;43m1\u001b[39;49m\u001b[43m)\u001b[49m))\n",
      "\u001b[0;31mValueError\u001b[0m: cannot reshape array of size 5 into shape (4,1)"
     ]
    }
   ],
   "source": [
    "M = np.hstack((A,b.reshape(4,1)))"
   ]
  },
  {
   "cell_type": "code",
   "execution_count": 55,
   "metadata": {},
   "outputs": [],
   "source": [
    "def escalonap(M):\n",
    "    n = len(M)\n",
    "    for j in range(n-1):\n",
    "        # pivoteamento\n",
    "        m = M[j:,j:]\n",
    "        idx=np.flip(np.argsort(abs(m[:,0])))\n",
    "        M[j:,j:] = m[idx]\n",
    "        \n",
    "        for i in range(j,n-1):\n",
    "            m = M[i+1,j]/M[j,j]\n",
    "            M[i+1] = M[i+1]-m*M[j]\n",
    "            \n",
    "    return (M)"
   ]
  },
  {
   "cell_type": "code",
   "execution_count": 56,
   "metadata": {},
   "outputs": [],
   "source": [
    "A = np.array([[1,-1,2,-1],\n",
    "              [2,-2,3,-3],\n",
    "              [1,1,1,0],\n",
    "              [1,-1,4,3]]).astype(float)\n",
    "b = np.array([-8, -20, -2, 4])\n",
    "\n",
    "M = np.hstack((A,b.reshape(4,1)))\n",
    "Mesc = escalonap(M)"
   ]
  },
  {
   "cell_type": "code",
   "execution_count": 17,
   "metadata": {},
   "outputs": [
    {
     "data": {
      "text/plain": [
       "array([-7.,  3.,  2.,  2.])"
      ]
     },
     "execution_count": 17,
     "metadata": {},
     "output_type": "execute_result"
    }
   ],
   "source": [
    "x = solve_U(Mesc[:,:-1], Mesc[:,-1])\n",
    "x"
   ]
  },
  {
   "cell_type": "code",
   "execution_count": 47,
   "metadata": {},
   "outputs": [
    {
     "data": {
      "text/plain": [
       "True"
      ]
     },
     "execution_count": 47,
     "metadata": {},
     "output_type": "execute_result"
    }
   ],
   "source": [
    "# checando se a solução está correta\n",
    "np.allclose(np.dot(A, x), b)"
   ]
  },
  {
   "cell_type": "markdown",
   "metadata": {},
   "source": [
    "**Exercício:**\n",
    "Resolva o sistema linear\n",
    "$$\n",
    "\\begin{aligned}\n",
    "x_1+x_2-x_3+x_4-x_5 & =2, \\\\\n",
    "2 x_1+2 x_2+x_3-x_4+x_5 & =4, \\\\\n",
    "3 x_1+x_2-3 x_3-2 x_4+3 x_5 & =8, \\\\\n",
    "4 x_1+x_2-x_3+4 x_4-5 x_5 & =16, \\\\\n",
    "16 x_1-x_2+x_3-x_4-x_5 & =32 .\n",
    "\\end{aligned}\n",
    "$$"
   ]
  },
  {
   "cell_type": "code",
   "execution_count": null,
   "metadata": {},
   "outputs": [],
   "source": []
  },
  {
   "cell_type": "code",
   "execution_count": null,
   "metadata": {},
   "outputs": [],
   "source": []
  },
  {
   "cell_type": "markdown",
   "metadata": {},
   "source": [
    "### Condição de unicidade de soluções\n",
    "<br>\n",
    "\n",
    "Note que, em um sistema \n",
    "\n",
    "$$Ax=b,$$ \n",
    "\n",
    "a matriz de coeficientes $A$ é **quadrada** se e somente se **o número de equações do sistema é igual ao número de incógnitas**.\n",
    "\n",
    "Algumas matrizes quadradas são **invertíveis**. Isto é, se $A$ é uma matriz quadrada $n\\times n$, pode existir outra matriz de mesmo ordem, denotada por $A^{-1}$, tal que\n",
    "\n",
    "$$\n",
    "AA^{-1} = A^{-1}A = I,\n",
    "$$\n",
    "onde $I$ é a matriz identidade de ordem $n$.\n",
    "\n",
    "No caso específico em que $A$ é quadrada, vale que o sistema $Ax=b$ tem **solução única** se e somente se **$A$ é invertível**. \n",
    "\n",
    "Isso vale pois nesses casos podemos isolar o vetor $x$ multiplicando ambos os lados da equação matricial pela inversa $A^{-1}$:\n",
    "\n",
    "$$\n",
    "Ax=b\\quad \\implies\\quad A^{-1}Ax=A^{-1}b\\quad \\implies\\quad x = A^{-1}b.\n",
    "$$\n",
    "\n",
    "Ou seja, nesse caso, $x$ fica unicamente definido por $x = A^{-1}b$."
   ]
  },
  {
   "cell_type": "markdown",
   "metadata": {},
   "source": [
    "**Exercícios:**\n",
    "\n",
    "**1.** Dada a matriz \n",
    "$M= \\left[\\begin{array}{ccc} \n",
    "\t         1 & 2  & 3 \\\\ \n",
    "\t         -1 & 5 &  0 \\\\\n",
    "\t         7 & -2 &  4 \\\\\n",
    "\t         \\end{array} \\right]$\n",
    "e o vetor $v = \\left[ \n",
    "            \\begin{array}{c} \n",
    "\t          3 \\\\ \n",
    "\t         -1  \\\\\n",
    "\t          0 \\\\\n",
    "\t         \\end{array} \\right]$\n",
    "             \n",
    "defina os *arrays* para a matriz e o vetor e faça as seguintes operações:\n",
    "\n",
    "a) somar o 1º elemento de $v$ com o 2º elemento da terceira linha de $M$\n",
    "\n",
    "b) escrever a 3ª linha de $M$ somada à 1ª multiplicada por $-7$\n",
    "\n",
    "c) multiplicar $M$ por $v$\n",
    "\n",
    "d) obter os produtos escalar e vetorial de $v$ por $u=[5,-1,4]^T$\n",
    "\n",
    "e) calcular o módulo (norma Euclidiana) do vetor $v$\n",
    "\n",
    "f) escalonar a matriz $M$"
   ]
  },
  {
   "cell_type": "code",
   "execution_count": 46,
   "metadata": {},
   "outputs": [
    {
     "data": {
      "text/plain": [
       "array([[  1,   2,   3],\n",
       "       [  0,   7,   3],\n",
       "       [  0,   0, -10]])"
      ]
     },
     "execution_count": 46,
     "metadata": {},
     "output_type": "execute_result"
    }
   ],
   "source": [
    "M = np.array([[1, 2, 3], [-1, 5, 0], [7, -2, 4]])\n",
    "v = np.array([3, -1, 0])\n",
    "\n",
    "# a)\n",
    "a = v[0] + M[2][1]\n",
    "\n",
    "# b\n",
    "B = M[2] * -7\n",
    "\n",
    "# c)\n",
    "c = M@v\n",
    "\n",
    "# d)\n",
    "u = np.array([5, -1, 4])\n",
    "dot = np.dot(v, u)\n",
    "cross = np.cross(v, u)\n",
    "\n",
    "# e)\n",
    "euclid_norm = np.sqrt(v.dot(v))\n",
    "\n",
    "# f)\n",
    "M[1] = M[1] + M[0]\n",
    "M[2] = M[2] - 7*M[0]\n",
    "M[2] = M[2] - (-16/7) * M[1]\n",
    "M"
   ]
  },
  {
   "cell_type": "markdown",
   "metadata": {},
   "source": [
    "**Exercício 2:** Considere o sistema linear\n",
    "\n",
    "$$\\begin{cases} \n",
    "    x_1 + 3x_2 -2x_3 = -22\\\\\n",
    "    2x_1 -x_2 + 3x_3 = -9\\\\\n",
    "    -2x_2 + 4x_3= -2\n",
    "\\end{cases}. $$\n",
    "\n",
    "(a) Defina a matriz de coeficientes $A$ e o vetor de termos independentes $b$ como *arrays* e verifique que $x = \\begin{bmatrix}x_1\\\\x_2\\\\x_3\\end{bmatrix}= \\begin{bmatrix}-1\\\\-11\\\\-6\\end{bmatrix}$ é uma solução do sistema."
   ]
  },
  {
   "cell_type": "code",
   "execution_count": 58,
   "metadata": {},
   "outputs": [
    {
     "data": {
      "text/plain": [
       "True"
      ]
     },
     "execution_count": 58,
     "metadata": {},
     "output_type": "execute_result"
    }
   ],
   "source": [
    "A = np.array([[1, 3, -2], [2, -1, 3], [0, -2, 4]])\n",
    "b = np.array([-22, -9, -2])\n",
    "x = np.array([-1, -11, -6])\n",
    "\n",
    "np.allclose(A@x,  b) # é solução"
   ]
  },
  {
   "cell_type": "markdown",
   "metadata": {},
   "source": [
    "(b) Verifique que $A^{-1}=\\begin{bmatrix}-\\frac17& \\frac47&-\\frac12\\\\ \\frac47&-\\frac27&\\frac12\\\\ \\frac27&-\\frac17&\\frac12\\end{bmatrix}$."
   ]
  },
  {
   "cell_type": "code",
   "execution_count": 58,
   "metadata": {},
   "outputs": [
    {
     "data": {
      "text/plain": [
       "array([[-0.14285714,  0.57142857, -0.5       ],\n",
       "       [ 0.57142857, -0.28571429,  0.5       ],\n",
       "       [ 0.28571429, -0.14285714,  0.5       ]])"
      ]
     },
     "execution_count": 58,
     "metadata": {},
     "output_type": "execute_result"
    }
   ],
   "source": [
    "A_inv = np.linalg.inv(A)\n",
    "\n",
    "A_inv # é a inversa dada"
   ]
  },
  {
   "cell_type": "markdown",
   "metadata": {},
   "source": [
    "**Exercício 3:** Dado o sistema\n",
    "\n",
    "$$\\begin{cases} \n",
    "   -2x_1 + x_2 +3x_3 = 2\\\\\n",
    "     x_1 -3 x_2 -x_3 = -3\\\\\n",
    "    -x_1 - 2x_2 +2x_3= -1\n",
    "\\end{cases}, $$\n",
    "mostre que $\\begin{bmatrix}1\\\\1 \\\\1 \\end{bmatrix}$ e $\\begin{bmatrix}-7\\\\0 \\\\-4 \\end{bmatrix}$ pertencem ao conjunto solução."
   ]
  },
  {
   "cell_type": "code",
   "execution_count": 57,
   "metadata": {},
   "outputs": [
    {
     "data": {
      "text/plain": [
       "True"
      ]
     },
     "execution_count": 57,
     "metadata": {},
     "output_type": "execute_result"
    }
   ],
   "source": [
    "A = np.array([[-2, 1, 3], [1, -3, -1], [-1, -2, 2]])\n",
    "b = np.array([2, -3, -1])\n",
    "x1 = np.array([1, 1, 1])\n",
    "x2 = np.array([-7, 0, -4])\n",
    "\n",
    "np.allclose(A @ x1, b)\n",
    "np.allclose(A @ x2, b)"
   ]
  },
  {
   "cell_type": "markdown",
   "metadata": {},
   "source": [
    "**Exercício 4:** Verifique se o sistema linear\n",
    "$$\n",
    "\\begin{aligned}\n",
    "x_1+x_2-x_3+x_4-x_5 & =2, \\\\\n",
    "2 x_1+2 x_2+x_3-x_4+x_5 & =4, \\\\\n",
    "3 x_1+x_2-3 x_3-2 x_4+3 x_5 & =8, \\\\\n",
    "4 x_1+x_2-x_3+4 x_4-5 x_5 & =16, \\\\\n",
    "16 x_1-x_2+x_3-x_4-x_5 & =32 .\n",
    "\\end{aligned}\n",
    "$$\n",
    "\n",
    "possui solução única calculando o determinante da matriz dos coeficientes. Então obtenha a mariz inversa e encontre a solução fazendo $x = A^{-1}b$. Por fim, verifique a solução obtida comparando o produto $Ax$ com o vetor $b$. "
   ]
  },
  {
   "cell_type": "code",
   "execution_count": 29,
   "metadata": {},
   "outputs": [
    {
     "name": "stdout",
     "output_type": "stream",
     "text": [
      "-366.00000000000017\n"
     ]
    },
    {
     "data": {
      "text/plain": [
       "array([ 3.37704918, -0.33879781,  1.55737705, 13.78142077, 10.14754098])"
      ]
     },
     "execution_count": 29,
     "metadata": {},
     "output_type": "execute_result"
    }
   ],
   "source": [
    "A = np.array([\n",
    "    [1, 1, -3, 1, -1],\n",
    "    [2, 2, 1, -1, 1],\n",
    "    [3, 1, -3, -2, 3],\n",
    "    [4, 1, -1, 4, -5],\n",
    "    [16, -1, 1, -1, -1]\n",
    "])\n",
    "\n",
    "b = np.array([2, 4, 8, 16, 32])\n",
    "\n",
    "det = np.linalg.det(A)\n",
    "print(f\"det(A) = {det}\")\n",
    "\n",
    "A_inv = np.linalg.inv(A)\n",
    "x = A_inv @ b\n",
    "\n",
    "x"
   ]
  },
  {
   "cell_type": "code",
   "execution_count": 39,
   "metadata": {},
   "outputs": [
    {
     "data": {
      "text/plain": [
       "array([[ 1., -1.,  2., -1.],\n",
       "       [ 2., -2.,  3., -3.],\n",
       "       [ 1.,  1.,  1.,  0.],\n",
       "       [ 1., -1.,  4.,  3.]])"
      ]
     },
     "execution_count": 39,
     "metadata": {},
     "output_type": "execute_result"
    }
   ],
   "source": []
  }
 ],
 "metadata": {
  "kernelspec": {
   "display_name": "Python 3 (ipykernel)",
   "language": "python",
   "name": "python3"
  },
  "language_info": {
   "codemirror_mode": {
    "name": "ipython",
    "version": 3
   },
   "file_extension": ".py",
   "mimetype": "text/x-python",
   "name": "python",
   "nbconvert_exporter": "python",
   "pygments_lexer": "ipython3",
   "version": "3.11.2"
  }
 },
 "nbformat": 4,
 "nbformat_minor": 4
}
