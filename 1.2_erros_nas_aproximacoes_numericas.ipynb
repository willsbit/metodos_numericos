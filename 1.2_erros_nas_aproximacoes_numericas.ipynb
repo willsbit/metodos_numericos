{
 "cells": [
  {
   "cell_type": "markdown",
   "metadata": {
    "collapsed": true,
    "jupyter": {
     "outputs_hidden": true
    }
   },
   "source": [
    "# 1.2 Erros nas aproximações numéricas\n",
    "\n",
    "Uma solução numérica é geralmente uma solução aproximada, não exata. A diferença entre a solução exata e a solução aproximada é chamada de erro e é muitas vezes inerente ao processo. Em problemas reais, erros numéricos raramente podem ser evitados. \n",
    "\n",
    "Os erros podem ocorrer na fase de modelagem matemática, devido a simplificações e a imprecisão nos dados, quanto na fase de resolução, no processo de conversão de base e devido à limitações da máquina em armazenar um número muito grande de dígitos. Ou também, na aproximação de funções representadas por séries infinitas. Como não é possível realizar a soma infinita, então, as série são truncadas e considera-se apenas um número finito de termos, introduzindo o que chamamos de **erro de truncamento**.\n",
    "\n",
    "Sabemos também que o computador realiza operações aritméticas retendo apenas um número um número fixo de algarismos significativos. Números como o $\\pi$, $e$ ou $\\sqrt{7}$ não podem ser expressos por um número fixo de algarismos, portanto não podem ser representtados exatamente por um computador. Além disso, alguns números que têm representação fracionária finita no sistema decimal, não podem ser representados com exatidão no sistema binário. A discrepância introduzida pela omissão de algarismos significativos é chamada **erro de arredondamento**. \n"
   ]
  },
  {
   "cell_type": "markdown",
   "metadata": {},
   "source": [
    "**Arredondamento:** Dizemos que um número $n_r$ na base decimal foi arredondado na posição $k$ se todos os dígitos de ordem maior que $k$ forem descartados segundo o seguinte critério:\n",
    "\n",
    " - O dígito de ordem $k$ é acrescido de uma unidade se o de ordem $(k + 1)$ for maior ou igual a metade da base\n",
    " - do contrário, o número $nr$ é representado com os $k$ dígitos iniciais.\n"
   ]
  },
  {
   "cell_type": "markdown",
   "metadata": {},
   "source": [
    "**Exemplo 1:**\n",
    "\n",
    "Consideremos o sistema $ SPF (b, n, exp_{min} , exp_{max}) = SPF (10, 4, -5, 5) $\n",
    "\n",
    "a) Se $a=0,5324 \\times 10^3$ e $b=0,4212 \\times 10^{-2}$, então $a \\times b = 0,22424688 \\times 10^1$, que é arredondado e armazenado como $a \\times b = 0,2242 \\times 10^1 = 2,242$.\n",
    "\n",
    "b) Se $a=0,5324 \\times 10^3$ e $b=0,1237 \\times 10^{2}$, então $a + b = 0,54477 \\times 10^3$, que é arredondado e armazenado como $a + b = 0,5448 \\times 10^3=544,8$.\n",
    "\n",
    "Usando Python, podemos reproduzir o os resultados acima fazendo:"
   ]
  },
  {
   "cell_type": "code",
   "execution_count": 1,
   "metadata": {},
   "outputs": [
    {
     "name": "stdout",
     "output_type": "stream",
     "text": [
      "Exato: 2.2424688\n"
     ]
    }
   ],
   "source": [
    "#a)\n",
    "a = 0.5324*10**3\n",
    "b = 0.4212*10**-2\n",
    "print('Exato:',a*b)\n"
   ]
  },
  {
   "cell_type": "code",
   "execution_count": 2,
   "metadata": {},
   "outputs": [
    {
     "name": "stdout",
     "output_type": "stream",
     "text": [
      "Arredondado: 2.242\n"
     ]
    }
   ],
   "source": [
    "print('Arredondado:',round(0.22424688, 4)*10**1)"
   ]
  },
  {
   "cell_type": "code",
   "execution_count": 3,
   "metadata": {},
   "outputs": [
    {
     "name": "stdout",
     "output_type": "stream",
     "text": [
      "Exato: 544.77\n"
     ]
    }
   ],
   "source": [
    "#b)\n",
    "a = 0.5324*10**3\n",
    "b = 0.1237*10**2\n",
    "print('Exato:',a+b)"
   ]
  },
  {
   "cell_type": "code",
   "execution_count": 4,
   "metadata": {},
   "outputs": [
    {
     "name": "stdout",
     "output_type": "stream",
     "text": [
      "Arredondado: 544.8\n"
     ]
    }
   ],
   "source": [
    "print('Arredondado:',round(0.54477, 4)*10**3)"
   ]
  },
  {
   "cell_type": "markdown",
   "metadata": {},
   "source": [
    "**Exemplo 2:**  Neste exemplo vamos calcular o polinômio $y=x^3-5x^2+6x+0,55$\r",
    "em $x = 1,37$ usando aritmética de ponto flutuante com 3 algarismos significativos. \n",
    "Em seguida, vamos repetir os cálculos expressando $y$ como $y = ((x – 5)x + 6)x + 0,55$ e comparar.\r"
   ]
  },
  {
   "cell_type": "code",
   "execution_count": 5,
   "metadata": {},
   "outputs": [
    {
     "name": "stdout",
     "output_type": "stream",
     "text": [
      "x³= 2.5713530000000007\n",
      "x²= 1.8769000000000002\n"
     ]
    }
   ],
   "source": [
    "x = 1.37\n",
    "print('x³=',x**3)\n",
    "print('x²=',x**2)"
   ]
  },
  {
   "cell_type": "code",
   "execution_count": 6,
   "metadata": {},
   "outputs": [
    {
     "name": "stdout",
     "output_type": "stream",
     "text": [
      "5x²= 9.399999999999999\n"
     ]
    }
   ],
   "source": [
    "print('5x²=',5*1.88)"
   ]
  },
  {
   "cell_type": "code",
   "execution_count": 7,
   "metadata": {},
   "outputs": [
    {
     "data": {
      "text/plain": [
       "8.22"
      ]
     },
     "execution_count": 7,
     "metadata": {},
     "output_type": "execute_result"
    }
   ],
   "source": [
    "6*x"
   ]
  },
  {
   "cell_type": "code",
   "execution_count": 8,
   "metadata": {},
   "outputs": [
    {
     "name": "stdout",
     "output_type": "stream",
     "text": [
      "Letra a: y= 1.94\n"
     ]
    }
   ],
   "source": [
    "y = (0.257 - 0.94 + 0.822 + 0.055)*10\n",
    "print('Letra a: y=', y)"
   ]
  },
  {
   "cell_type": "code",
   "execution_count": 9,
   "metadata": {},
   "outputs": [
    {
     "name": "stdout",
     "output_type": "stream",
     "text": [
      "Valor exato: y= 1.956853\n"
     ]
    }
   ],
   "source": [
    "ye = x**3 - 5*x**2 + 6*x+ 0.55\n",
    "print('Valor exato: y=',ye)"
   ]
  },
  {
   "cell_type": "code",
   "execution_count": 10,
   "metadata": {},
   "outputs": [
    {
     "name": "stdout",
     "output_type": "stream",
     "text": [
      "Erro letra a: 0.016853000000000007\n"
     ]
    }
   ],
   "source": [
    "print('Erro letra a:', abs(y-ye))"
   ]
  },
  {
   "cell_type": "code",
   "execution_count": 11,
   "metadata": {},
   "outputs": [
    {
     "name": "stdout",
     "output_type": "stream",
     "text": [
      "Letra b: y= 1.96\n"
     ]
    }
   ],
   "source": [
    "y = round((round((x-5)*x,2)+6)*x,2)+0.55\n",
    "print('Letra b: y=', y)"
   ]
  },
  {
   "cell_type": "code",
   "execution_count": 12,
   "metadata": {},
   "outputs": [
    {
     "name": "stdout",
     "output_type": "stream",
     "text": [
      "Erro letra b: 0.003147000000000011\n"
     ]
    }
   ],
   "source": [
    "print('Erro letra b:', abs(y-ye))"
   ]
  },
  {
   "cell_type": "markdown",
   "metadata": {},
   "source": [
    "**Truncamento:** Quando representamos uma função utilizando uma série infinita mas considerarmos apenas um número finito de termos na série, dizemos que estamos cometendo um erro de truncamento.\n",
    "\n",
    "**Exemplo 3:** A função exponencial $e^x$ pode ser representada pela série\n",
    "\n",
    "$$e^x=\\sum_{n=0}^{\\infty} \\frac{x^n}{n!}.$$\n",
    "                                   \n",
    "Sabemos que $e$ é um número irracional e portanto sua representação fracionária têm infinitas casas decimais. Podemos obter uma aproximação para o número $e$ truncando a série \n",
    "\n",
    "\n",
    "$$e=\\sum_{n=0}^{\\infty} \\frac{1}{n!} = 1+\\frac{1}{2}+\\frac{1}{3!}+\\frac{1}{4!}+...$$\n",
    "\r",
    "Por exemplo, com 5 termos da série obtemos:"
   ]
  },
  {
   "cell_type": "code",
   "execution_count": 13,
   "metadata": {},
   "outputs": [
    {
     "name": "stdout",
     "output_type": "stream",
     "text": [
      "Valor aproximado: 1.7166666666666668\n"
     ]
    }
   ],
   "source": [
    "e = 1+1/2+1/6+1/24+1/120\n",
    "print ('Valor aproximado:',e)"
   ]
  },
  {
   "cell_type": "code",
   "execution_count": 14,
   "metadata": {},
   "outputs": [
    {
     "name": "stdout",
     "output_type": "stream",
     "text": [
      "Valor \"exato\": 2.718281828459045\n"
     ]
    }
   ],
   "source": [
    "import math\n",
    "print ('Valor \"exato\":', math.e)"
   ]
  },
  {
   "cell_type": "markdown",
   "metadata": {},
   "source": [
    "**Exercício:** A função seno pode ser representada pela série de Maclaurin, fazendo\n",
    "$$\n",
    "\\sin x=\\sum_{n=0}^{\\infty} \\frac{(-1)^n}{(2 n+1)!} x^{2 n+1}\n",
    "$$\n",
    "\n",
    "Encontre aproximações para $\\sin(\\pi/4)$ com 3, 5 e 20 termos."
   ]
  },
  {
   "cell_type": "code",
   "execution_count": 6,
   "metadata": {},
   "outputs": [
    {
     "name": "stdout",
     "output_type": "stream",
     "text": [
      "sin(pi/4): 0.7071430457793603\n",
      "sqrt(2)/2: 0.7071067811865475\n",
      "Erro absoluto: 3.626459281280692e-05\n",
      "Erro relativo: 0.005128587898980941%\n"
     ]
    }
   ],
   "source": [
    "import math\n",
    "x = math.pi / 4\n",
    "\n",
    "result = 0\n",
    "for n in range(0, 3):\n",
    "    result += ((-1)**n / math.factorial(2*n + 1)) * x**(2*n + 1)\n",
    "\n",
    "expected_result = math.sin(x)\n",
    "abs_error = abs(expected_result - result)\n",
    "\n",
    "print(f\"sin(pi/4): {result}\")\n",
    "print(f\"sqrt(2)/2: {expected_result}\")\n",
    "print(f\"Erro absoluto: {abs_error}\")\n",
    "print(f\"Erro relativo: {(abs_error/expected_result)*100}%\")"
   ]
  },
  {
   "cell_type": "markdown",
   "metadata": {},
   "source": [
    "### Erro absoluto\n",
    "Definimos erro absoluto por\n",
    "\n",
    "$$ E_{abs} = \\left| a_{ex}-a_{aprox} \\right| $$\n",
    "\n",
    "em que $a_{ex}$ é o valor exato da grandeza considerada e $a_{aprox}$ é o valor aproximado da mesma grandeza numérica.\n",
    "\n",
    "### Erro relativo \n",
    "Definimos erro relativo por\n",
    "\n",
    "$$ E_{rel} = \\frac{E_{abs} }{\\left| a_{ex} \\right|} $$\n",
    "\n",
    "em que $a_{ex}$ é o valor exato da grandeza considerada e $a_{aprox}$ é o valor aproximado da mesma grandeza.\n",
    "\n",
    "Podemos observar que o erro relativo nos fornece mais informações sobre a qua- lidade do erro que estamos cometendo num determinado cálculo, uma vez que no erro absoluto não é levada em consideração a ordem de grandeza do valor calculado, enquanto no erro relativo esta ordem é contemplada.\n",
    "\n",
    "Quando obtemos uma aproximação numérica por meio de uma sequência convergete $x_0, x_1, x_2,...,x_k,...$mas não conhecemos a solução exata, o erro relativo no termo $k$ pode ser expresso como _diferença relativa_, dada por  \n",
    "\n",
    "$$ \\frac{\\left|x_{k-1}-x_k \\right|}{\\left| x_k \\right|} $$\n"
   ]
  },
  {
   "cell_type": "markdown",
   "metadata": {},
   "source": [
    "**Exemplo:**\n",
    "A equação $f(x)=x^2-a=0$, com $a>0$, podemos utilizar o seguinte processo iterativo:\n",
    "\n",
    "$$ x_{n+1}=\\frac{1}{2} \\left( x_n + \\frac{a}{x_n} \\right), \\,\\,\\, n=1,2,...$$\n",
    "\n",
    "A partir de uma aproximação inicial $x_0$, usamos essa expressão para gerar a sequência de soluções aproximadas $x_1$, $x_2$, ...\n",
    "\n",
    "Assim, por exemplo, para calcular aproximações para $\\sqrt{2}$, podemos fazer\n",
    "\n",
    "$ x_0 = 1.5 $\n",
    "\n",
    "$ x_1 = 1/2(1.5 + 2/1.5) = 1.4166666666666665 $\n",
    "\n",
    "$x_2 = 1/2(1.4166666666666665 + 2/1.4166666666666665) = 1.4142156862745097 $\n",
    "\n",
    "E assim por diante.\n",
    "\n",
    "Em Python podemos fazer:"
   ]
  },
  {
   "cell_type": "code",
   "execution_count": 23,
   "metadata": {},
   "outputs": [
    {
     "name": "stdout",
     "output_type": "stream",
     "text": [
      "3.0 1.0\n",
      "2.3333333333333335 0.28571428571428564\n",
      "2.238095238095238 0.04255319148936175\n",
      "2.2360688956433634 0.0009062075215225861\n",
      "2.236067977499978 4.10606204533442e-07\n"
     ]
    }
   ],
   "source": [
    "x = 1.0\n",
    "x_ant = 0.0\n",
    "\n",
    "err = 10.0\n",
    "\n",
    "while err>0.0001:\n",
    "    x = 0.5*(x + 2/x)\n",
    "    err = abs(x-x_ant)/abs(x)\n",
    "    x_ant = x\n",
    "    print (x, err)"
   ]
  },
  {
   "cell_type": "markdown",
   "metadata": {},
   "source": [
    "**Exercício:** Usando o exemplo acima, encontre o valor de $\\sqrt{3}$ com um erro relativo mentor que $10^{-5}$. Quantas iterações são necessárias fazendo $x_0=1$? O número de iterações diminui se fizermos $x_0=1.5$?"
   ]
  },
  {
   "cell_type": "code",
   "execution_count": 34,
   "metadata": {},
   "outputs": [
    {
     "name": "stdout",
     "output_type": "stream",
     "text": [
      "2.0 1.0 1\n",
      "1.75 0.14285714285714285 2\n",
      "1.7321428571428572 0.010309278350515427 3\n",
      "1.7320508100147274 5.314343412884141e-05 4\n",
      "1.7320508075688772 1.4121122650442792e-09 5\n"
     ]
    }
   ],
   "source": [
    "x = 1\n",
    "x_prev = 0\n",
    "err = 1\n",
    "n = 0\n",
    "\n",
    "while err > 1e-5:\n",
    "    x = 0.5*(x + 3/x)\n",
    "    err = abs(x - x_prev) / abs(x)\n",
    "    x_prev = x\n",
    "    n += 1\n",
    "    print(x, err, n)"
   ]
  },
  {
   "cell_type": "markdown",
   "metadata": {},
   "source": [
    "**Exemplo:**\n",
    "\n",
    "A sequência $x_k = 1+ \\frac{1}{x_{k-1}}$ converge para $\\overline{x} = \\frac{1+\\sqrt{5}}{2}$. Fazendo $i = 0,1,2,...,10$ e $x_0 = 1$, mostre a sequência de aproximações juntamente com as diferenças relativas e os erros relativos para cada termo."
   ]
  },
  {
   "cell_type": "code",
   "execution_count": 23,
   "metadata": {},
   "outputs": [
    {
     "name": "stdout",
     "output_type": "stream",
     "text": [
      "Approx: 2.0, diff: 0.5, err: 0.23606797749978967\n",
      "Approx: 1.5, diff: 0.3333333333333333, err: 0.07294901687515776\n",
      "Approx: 1.6666666666666665, diff: 0.09999999999999992, err: 0.030056647916491288\n",
      "Approx: 1.6, diff: 0.04166666666666652, err: 0.01114561800016822\n",
      "Approx: 1.625, diff: 0.01538461538461533, err: 0.004305231718579094\n",
      "Approx: 1.6153846153846154, diff: 0.005952380952380931, err: 0.0016374027886314115\n",
      "Approx: 1.619047619047619, diff: 0.002262443438914019, err: 0.0006264579760202099\n",
      "Approx: 1.6176470588235294, diff: 0.0008658008658008628, err: 0.0002391358457583512\n",
      "Approx: 1.6181818181818182, diff: 0.00033046926635820254, err: 9.136361346616536e-05\n",
      "Approx: 1.6179775280898876, diff: 0.00012626262626264404, err: 3.48946069117676e-05\n"
     ]
    }
   ],
   "source": [
    "import math\n",
    "x = 1.\n",
    "x_ant = x\n",
    "x_exa = (1+math.sqrt(5))/2\n",
    "\n",
    "for k in range(10):\n",
    "    x = 1.+1./x\n",
    "    dif = abs(x-x_ant)/abs(x)\n",
    "    err = abs(x-x_exa)/abs(x_exa)\n",
    "    print (f\"Approx: {x}, diff: {dif}, err: {err}\")\n",
    "    x_ant = x"
   ]
  },
  {
   "cell_type": "markdown",
   "metadata": {},
   "source": [
    "**Exercício:** A função cosseno pode ser representada pela série de Maclaurin, fazendo\n",
    "$$\n",
    "\\cos x=\\sum_{n=0}^{\\infty} \\frac{(-1)^n}{(2 n)!} x^{2 n}.\n",
    "$$\n",
    "Descubra quantos termos da série são necessários para obter uma aproximação para $\\cos(\\pi/6)$ com erro relativo menor que $10^4$."
   ]
  },
  {
   "cell_type": "code",
   "execution_count": 44,
   "metadata": {},
   "outputs": [
    {
     "name": "stdout",
     "output_type": "stream",
     "text": [
      "valor aproxx: 0.8660252641005711, com um erro relativo de 0.0033046743972051%, que levou 4 iterações\n"
     ]
    }
   ],
   "source": [
    "cos_x = 0\n",
    "x = math.pi/6\n",
    "x_ant = 0\n",
    "err = 1\n",
    "n = 0\n",
    "\n",
    "while err > 1e-4:\n",
    "    cos_x += ((-1)**n / math.factorial(2*n)) * x**(2*n)\n",
    "    err = abs(cos_x -x_ant) / abs(cos_x)\n",
    "    x_ant = cos_x\n",
    "    n += 1\n",
    "\n",
    "print(f\"valor aproxx: {cos_x}, com um erro relativo de {err*100}%, que levou {n} iterações\")\n"
   ]
  },
  {
   "cell_type": "markdown",
   "metadata": {},
   "source": [
    "**Exercício:** Sabendo que a função $ln(1+x)$ pode ser representada pela série de Maclaurin, fazendo\n",
    "$$\n",
    "\\ln (1+x)=\\sum_{n=0}^{\\infty} \\frac{(-1)^n}{n+1} x^{n+1} \\quad \\text { para }|x|<1\n",
    "$$\n",
    "\n",
    "Descubra quantos termos da série são necessários para obter uma aproximação para $ln(0.2)$ com erro relativo menor que $10^4$."
   ]
  },
  {
   "cell_type": "code",
   "execution_count": 7,
   "metadata": {},
   "outputs": [
    {
     "name": "stdout",
     "output_type": "stream",
     "text": [
      "valor aproxx: -1.6089250020106074, com um erro relativo de 0.009392341300123553%, que levou 25 iterações\n",
      "-1.6094379124341003\n"
     ]
    }
   ],
   "source": [
    "import math\n",
    "\n",
    "ln_02 = 0\n",
    "x = -0.8\n",
    "x_ant = 0\n",
    "err = 1\n",
    "n = 0\n",
    "\n",
    "while err > 1e-4:\n",
    "    ln_02 += ((-1)**n / (n+1)) * x**(n+1)\n",
    "    err = abs(ln_02 - x_ant) / abs(ln_02)\n",
    "    x_ant = ln_02\n",
    "    n += 1\n",
    "\n",
    "print(f\"valor aproxx: {ln_02}, com um erro relativo de {err*100}%, que levou {n} iterações\")\n",
    "print(math.log(0.2))\n"
   ]
  },
  {
   "cell_type": "markdown",
   "metadata": {},
   "source": [
    "**Exercício:** Podemos obter uma aproximação para a derivada primeira de uma função $y=f(x)$ usando a fórmula:\n",
    "\n",
    "$$ \\frac{dy}{dx} \\cong \\frac{\\Delta y}{\\Delta x} = \\frac{f(x+\\Delta x)-f(x)}{\\Delta x} $$\n",
    "\n",
    "tomando um valor pequeno de $\\Delta x$. \n",
    "\n",
    "Encontre uma aproximação para a derivada de $f(x)=2^xsen(x)$ em $x=1,23$ e calcule o erro relativo.\n",
    "\n"
   ]
  },
  {
   "cell_type": "code",
   "execution_count": 20,
   "metadata": {},
   "outputs": [
    {
     "name": "stdout",
     "output_type": "stream",
     "text": [
      "Aprox: 2.316400404822616\n",
      "Erro relativo: 1.747636920729587e-05%\n"
     ]
    }
   ],
   "source": [
    "import sys\n",
    "\n",
    "x = 1.23\n",
    "true_val = 2.3164\n",
    "del_x = 1e-10\n",
    "\n",
    "dy_dx = ((2**(x+del_x) * math.sin(x+del_x)) - (2**(x) * math.sin(x))) / del_x\n",
    "\n",
    "print(f\"Aprox: {dy_dx}\")\n",
    "print(f\"Erro relativo: {(abs(dy_dx - true_val) / true_val)*100}%\")\n"
   ]
  },
  {
   "cell_type": "markdown",
   "metadata": {},
   "source": [
    "**Exemplo:** Sabemos que a derivada primeira de $f(x)=sen(x)$ é $f'(x)=cos(x)$. Vamos calcular as derivadas numericamente para deversos pontos no intervalo $[0,2\\pi]$ e fazer o gráfico."
   ]
  },
  {
   "cell_type": "code",
   "execution_count": 17,
   "metadata": {},
   "outputs": [],
   "source": [
    "import numpy as np\n",
    "import matplotlib.pyplot as plt"
   ]
  },
  {
   "cell_type": "code",
   "execution_count": 18,
   "metadata": {},
   "outputs": [
    {
     "data": {
      "image/png": "[encoded data removed]",
      "text/plain": [
       "<Figure size 640x480 with 1 Axes>"
      ]
     },
     "metadata": {},
     "output_type": "display_data"
    }
   ],
   "source": [
    "xi = np.linspace(0, 2*np.pi, 21)\n",
    "h=(xi[-1]-xi[0])/(len(xi)-1)\n",
    "f = lambda x: np.sin(x)\n",
    "\n",
    "dxi = (f(xi[1:])-f(xi[0:-1]))/h\n",
    "\n",
    "xplot = np.linspace(0, 2*np.pi, 61)\n",
    "\n",
    "plt.plot(xplot,np.cos(xplot),'-',\n",
    "         alpha=0.5,label='Analítica')\n",
    "plt.plot(xi[1:],dxi,'--',label='Para trás')\n",
    "\n",
    "plt.grid()\n",
    "plt.legend()\n",
    "plt.show()"
   ]
  },
  {
   "cell_type": "markdown",
   "metadata": {},
   "source": [
    "**Exemplo:** A **Série de Taylor** é pode ser usada para aproximar funções em torno de um ponto $a$ truncando a somatória infinita \n",
    "\n",
    "$$\n",
    "f(x)=\\sum_{n=0}^{\\infty} \\frac{f^{(n)}(a)}{n!}(x-a)^n .\n",
    "$$\n",
    "\n",
    "Nos códigos a seguir vamos usar a série de Taylor para calculas $\\cos(x)$ e $e^x$ em um conjunto de pontos e, então, fazer o gráfico dessas funções."
   ]
  },
  {
   "cell_type": "code",
   "execution_count": 19,
   "metadata": {},
   "outputs": [
    {
     "name": "stdout",
     "output_type": "stream",
     "text": [
      "[-4.   -3.86 -3.72 -3.58 -3.44 -3.3  -3.16 -3.02 -2.88 -2.74 -2.6  -2.46\n",
      " -2.32 -2.18 -2.04 -1.9  -1.76 -1.62 -1.48 -1.34 -1.2  -1.06 -0.92 -0.78\n",
      " -0.64 -0.5  -0.36 -0.22 -0.08  0.06  0.2   0.34  0.48  0.62  0.76  0.9\n",
      "  1.04  1.18  1.32  1.46  1.6   1.74  1.88  2.02  2.16  2.3   2.44  2.58\n",
      "  2.72  2.86  3.  ]\n"
     ]
    },
    {
     "data": {
      "image/png": "[encoded data removed]",
      "text/plain": [
       "<Figure size 640x480 with 1 Axes>"
      ]
     },
     "metadata": {},
     "output_type": "display_data"
    }
   ],
   "source": [
    "# cos(x)\n",
    "import numpy as np\n",
    "import matplotlib.pyplot as plt\n",
    "import math\n",
    "\n",
    "X = np.linspace(-4., 3., 51)\n",
    "print(X)\n",
    "\n",
    "     \n",
    "Y = []\n",
    "#x=1.0\n",
    "for x in X:   \n",
    "    valor = 1.0\n",
    "    for i in range(1,3,1):\n",
    "        fat = math.factorial(2*i)\n",
    "        valor = valor + (x**(2*i)*(-1)**i)/fat\n",
    "        #fat = math.factorial(2*i+1)\n",
    "        #valor = valor + (x**(2*i+1)*(-1)**i)/fat\n",
    "\n",
    "        #print (x, valor)\n",
    "    Y.append(valor)        \n",
    "\n",
    "\n",
    "\n",
    "plt.plot(X, np.cos(X),X, Y)\n",
    "plt.grid()\n",
    "plt.show()\n"
   ]
  },
  {
   "cell_type": "code",
   "execution_count": 20,
   "metadata": {},
   "outputs": [
    {
     "data": {
      "text/plain": [
       "<function matplotlib.pyplot.show(close=None, block=None)>"
      ]
     },
     "execution_count": 20,
     "metadata": {},
     "output_type": "execute_result"
    },
    {
     "data": {
      "image/png": "[encoded data removed]",
      "text/plain": [
       "<Figure size 640x480 with 1 Axes>"
      ]
     },
     "metadata": {},
     "output_type": "display_data"
    }
   ],
   "source": [
    "#e^x\n",
    "\n",
    "X = np.linspace(-2., 2., 21)\n",
    "#print(X)\n",
    "\n",
    "Y = []\n",
    "#x=1.0\n",
    "for x in X:   \n",
    "    valor = 1.0\n",
    "    fat_i = 1.0\n",
    "    for i in range(1,3,1):\n",
    "        fat_i = fat_i * i\n",
    "        valor = valor + (x**i)/fat_i\n",
    "        #print (x, valor)\n",
    "    Y.append(valor)        \n",
    "\n",
    "\n",
    "\n",
    "plt.plot(X, np.exp(X), X, Y)\n",
    "plt.show"
   ]
  },
  {
   "cell_type": "code",
   "execution_count": null,
   "metadata": {},
   "outputs": [],
   "source": []
  },
  {
   "cell_type": "code",
   "execution_count": null,
   "metadata": {},
   "outputs": [],
   "source": []
  }
 ],
 "metadata": {
  "kernelspec": {
   "display_name": "Python 3 (ipykernel)",
   "language": "python",
   "name": "python3"
  },
  "language_info": {
   "codemirror_mode": {
    "name": "ipython",
    "version": 3
   },
   "file_extension": ".py",
   "mimetype": "text/x-python",
   "name": "python",
   "nbconvert_exporter": "python",
   "pygments_lexer": "ipython3",
   "version": "3.12.4"
  }
 },
 "nbformat": 4,
 "nbformat_minor": 4
}
