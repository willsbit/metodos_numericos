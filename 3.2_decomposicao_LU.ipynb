{
 "cells": [
  {
   "cell_type": "markdown",
   "id": "13653e1a",
   "metadata": {},
   "source": [
    "## 3.2 Métodos diretos: decomposição LU\n",
    "\n",
    "Os métodos diretos para resolução de sistemas lineares teoricamente dão a solução exata do sistema em um número finito de passos. Na prática, as soluções podem sofrer erros de arredondamento devido à aritmética que está sendo usada. \n",
    "\n",
    "Os métodos diretos de eliminação consistem no processo \n",
    "de transformar um sistema de equações lineares $Ax=b$, em que $A= [a_{ij}]_i,j=1,..,n$, \n",
    "$x=[x_1,x_2,...,x_n]^t$ e $b=[b_1, b_2,...,b_n]^t$, em um sistema equivalente, \n",
    "aplicando operações elementares sobre as linhas da matriz aumentada $[A \\mid b]$. O sistema equivalente obtido ao final do processo, deve ser de \n",
    "resolução mais simples ou imediata, por substituição direta. \n",
    "\n",
    "O método de eliminação de Gauss é o método direto usado para escalonar a matriz que representa um sistema linear com o objetivo de obter um ou mais sistemas triangulares, os quais podem ser resolvidos por subtituições subsequentes. Outros métodos diretos podem envolver fatorar a matriz dos coeficientes do sistema em um produto de duas ou mais matrizes, como é o caso do método por fatoração LU, que será abordado nesse texto. \n"
   ]
  },
  {
   "cell_type": "markdown",
   "id": "86cc6409",
   "metadata": {},
   "source": [
    "Antes disso, vamos relembrar as função já desenvolvidas nas aulas anteriores.\n",
    "#### Funções para escalonar uma matriz e para resolver sistemas triangulares"
   ]
  },
  {
   "cell_type": "code",
   "execution_count": 1,
   "id": "bf38517d",
   "metadata": {},
   "outputs": [],
   "source": [
    "import numpy as np\n",
    "\n",
    "# função para escalonar (sem pivoteamento)\n",
    "def escalona(M):\n",
    "    n = len(M)\n",
    "    for j in range(n-1):\n",
    "        for i in range(j,n-1):            \n",
    "            m = M[i+1,j]/M[j,j]\n",
    "            M[i+1] = M[i+1]-m*M[j]\n",
    "    return (M)\n",
    "\n",
    "# função para sistema triangular inferior\n",
    "def solve_tril(L,b):\n",
    "    y = np.empty(len(b))\n",
    "    for i in range(len(b)): \n",
    "        y[i] = (b[i] - np.dot(L[i,0:i],y[0:i]))/L[i][i] \n",
    "    return y\n",
    "\n",
    "# função para sistema triangular superior\n",
    "def solve_triu(U,y):\n",
    "    n=len(y)\n",
    "    x = np.empty(n)\n",
    "    for i in range(n-1, -1, -1):\n",
    "        x[i] = (y[i] - np.sum(U[i,i+1:n+1]*x[i+1:n+1]))/U[i,i]\n",
    "    return x"
   ]
  },
  {
   "cell_type": "markdown",
   "id": "815372d4",
   "metadata": {},
   "source": [
    "**Exemplo 1:** Vamos neste exemplo revisar o sistema linear abaixo, já estudado anteriormente ([fonte](https://integrada.minhabiblioteca.com.br/reader/books/9788522123414/pageid/418)). \n",
    "$$\n",
    "\\begin{aligned}\n",
    "x_1-x_2+2 x_3-x_4 & =-8, \\\\\n",
    "2 x_1-2 x_2+3 x_3-3 x_4 & =-20, \\\\\n",
    "x_1+x_2+x_3 & =-2, \\\\\n",
    "x_1-x_2+4 x_3+3 x_4 & =4 .\n",
    "\\end{aligned}\n",
    "$$\n"
   ]
  },
  {
   "cell_type": "markdown",
   "id": "cb893d1a",
   "metadata": {},
   "source": [
    "Para isso, vamos analisar o escalonamento, coluna por coluna."
   ]
  },
  {
   "cell_type": "code",
   "execution_count": 2,
   "id": "cdfa4941",
   "metadata": {},
   "outputs": [],
   "source": [
    "# escrevendo a matriz ampliada\n",
    "M = np.array([[1,-1,2,-1,-8],\n",
    "              [2,-2,3,-3,-20],\n",
    "              [1,1,1,0,-2],\n",
    "              [1,-1,4,3,4]], dtype=float)"
   ]
  },
  {
   "cell_type": "code",
   "execution_count": 3,
   "id": "a705e587",
   "metadata": {},
   "outputs": [
    {
     "name": "stdout",
     "output_type": "stream",
     "text": [
      "[[ 1. -1.  2. -1. -8.]\n",
      " [ 0.  0. -1. -1. -4.]\n",
      " [ 0.  2. -1.  1.  6.]\n",
      " [ 0.  0.  2.  4. 12.]]\n"
     ]
    }
   ],
   "source": [
    "# zerando os elementos da primeira coluna \n",
    "for i in range(3):            \n",
    "    m = M[i+1,0]/M[0,0]\n",
    "    M[i+1] = M[i+1] - m*M[0]\n",
    "print (M)"
   ]
  },
  {
   "cell_type": "markdown",
   "id": "0d3df5d2",
   "metadata": {},
   "source": [
    "Observemos que o elemento pivô na segunda linha é zero, portanto, para que o processo de eliminação possa ser continuado, é necessário realizar uma troca de linhas."
   ]
  },
  {
   "cell_type": "code",
   "execution_count": 4,
   "id": "703d3453",
   "metadata": {},
   "outputs": [
    {
     "name": "stdout",
     "output_type": "stream",
     "text": [
      "[[ 1. -1.  2. -1. -8.]\n",
      " [ 0.  2. -1.  1.  6.]\n",
      " [ 0.  0. -1. -1. -4.]\n",
      " [ 0.  0.  2.  4. 12.]]\n"
     ]
    }
   ],
   "source": [
    "M[[1,2]] = M[[2,1]]\n",
    "print(M)"
   ]
  },
  {
   "cell_type": "markdown",
   "id": "26ee2e4a",
   "metadata": {},
   "source": [
    "Agora podemos seguir o escalonamento na terceira coluna."
   ]
  },
  {
   "cell_type": "code",
   "execution_count": 5,
   "id": "b4d18886",
   "metadata": {},
   "outputs": [
    {
     "name": "stdout",
     "output_type": "stream",
     "text": [
      "[[ 1. -1.  2. -1. -8.]\n",
      " [ 0.  2. -1.  1.  6.]\n",
      " [ 0.  0. -1. -1. -4.]\n",
      " [ 0.  0.  0.  2.  4.]]\n"
     ]
    }
   ],
   "source": [
    "# zerando os elementos da terceira coluna \n",
    "m = M[3,2]/M[2,2]\n",
    "M[3] = M[3] - m*M[2]\n",
    "print (M)"
   ]
  },
  {
   "cell_type": "code",
   "execution_count": 6,
   "id": "cfdc0fea",
   "metadata": {},
   "outputs": [
    {
     "name": "stdout",
     "output_type": "stream",
     "text": [
      "[-7.  3.  2.  2.]\n"
     ]
    }
   ],
   "source": [
    "# solução do sistema\n",
    "x = solve_triu(M[:,:-1], M[:,-1])\n",
    "print(x)"
   ]
  },
  {
   "cell_type": "markdown",
   "id": "8d104e2a",
   "metadata": {},
   "source": [
    "***"
   ]
  },
  {
   "cell_type": "markdown",
   "id": "b43f956b",
   "metadata": {},
   "source": [
    "Uma função bastante útil para tratar esse tipo de situação é a função `numpy.roll()`, que \"rola\" os elementos do array ao longo do eixo especificado. Se o elemento a ser desclocado estiver na última posição, ele será levado de volta para a primeira posição. Veja um exemplo a seguir."
   ]
  },
  {
   "cell_type": "code",
   "execution_count": 7,
   "id": "183140c8",
   "metadata": {},
   "outputs": [
    {
     "data": {
      "text/plain": [
       "array([[ 0.,  0.,  0.,  2.,  4.],\n",
       "       [ 1., -1.,  2., -1., -8.],\n",
       "       [ 0.,  2., -1.,  1.,  6.],\n",
       "       [ 0.,  0., -1., -1., -4.]])"
      ]
     },
     "execution_count": 7,
     "metadata": {},
     "output_type": "execute_result"
    }
   ],
   "source": [
    "# rolando as linhas de M para baixo uma vez\n",
    "np.roll(M, 1, axis=0)"
   ]
  },
  {
   "cell_type": "code",
   "execution_count": 8,
   "id": "2039e954",
   "metadata": {},
   "outputs": [
    {
     "data": {
      "text/plain": [
       "array([[ 0.,  0., -1., -1., -4.],\n",
       "       [ 0.,  0.,  0.,  2.,  4.],\n",
       "       [ 1., -1.,  2., -1., -8.],\n",
       "       [ 0.,  2., -1.,  1.,  6.]])"
      ]
     },
     "execution_count": 8,
     "metadata": {},
     "output_type": "execute_result"
    }
   ],
   "source": [
    "# rolando as linhas de M para cima duas vezes\n",
    "np.roll(M, -2, axis=0)"
   ]
  },
  {
   "cell_type": "markdown",
   "id": "ba558abe",
   "metadata": {},
   "source": [
    "**Exercício 1:** \n",
    "Use a função `roll` para modificar a função `escalona` mostrada abaixo, de modo que elementos nulos na posição dos pivôs sejam substituídos pela troca de linhas da matriz.\n",
    "Use a matriz do Exemplo 1 para testar.\n"
   ]
  },
  {
   "cell_type": "code",
   "execution_count": 9,
   "id": "c1c5fcc4",
   "metadata": {},
   "outputs": [],
   "source": [
    "M = np.array([[1,-1,2,-1,-8],\n",
    "              [2,-2,3,-3,-20],\n",
    "              [1,1,1,0,-2],\n",
    "              [1,-1,4,3,4]], dtype=float)"
   ]
  },
  {
   "cell_type": "code",
   "execution_count": 10,
   "id": "d3d7f233",
   "metadata": {},
   "outputs": [],
   "source": [
    "def escalona2(M):\n",
    "    n = len(M)\n",
    "    for j in range(n-1):\n",
    "        for i in range(j,n-1): \n",
    "            # rolando as linhas\n",
    "            while M[j,j]==0:\n",
    "                M[j:,:] = np.roll(M[j:,:], -1, axis=0)\n",
    "            m = M[i+1,j]/M[j,j]\n",
    "            M[i+1] = M[i+1]-m*M[j]\n",
    "    return (M)"
   ]
  },
  {
   "cell_type": "code",
   "execution_count": 11,
   "id": "17335e45",
   "metadata": {},
   "outputs": [
    {
     "name": "stdout",
     "output_type": "stream",
     "text": [
      "[[ 1. -1.  2. -1. -8.]\n",
      " [ 0.  2. -1.  1.  6.]\n",
      " [ 0.  0.  2.  4. 12.]\n",
      " [ 0.  0.  0.  1.  2.]]\n"
     ]
    }
   ],
   "source": [
    "M = escalona2(M)\n",
    "print(M)"
   ]
  },
  {
   "cell_type": "code",
   "execution_count": 12,
   "id": "674e3159",
   "metadata": {},
   "outputs": [
    {
     "name": "stdout",
     "output_type": "stream",
     "text": [
      "[-7.  3.  2.  2.]\n"
     ]
    }
   ],
   "source": [
    "# solução do sistema\n",
    "x = solve_triu(M[:,:-1], M[:,-1])\n",
    "print(x)"
   ]
  },
  {
   "cell_type": "markdown",
   "id": "dd074b9e",
   "metadata": {},
   "source": [
    "Observe que a matriz escalonada é diferente da matriz obtida no Exemplo 1 pois a troca de linha ocorreu de forma diferente durante o processo. Mesmo assim, o resultado final é o mesmo, como já era esperado."
   ]
  },
  {
   "cell_type": "markdown",
   "id": "b36bf756",
   "metadata": {},
   "source": [
    "**Exercício 2:**\n",
    "Resolva o seguinte sistema pelo método de eliminação de Gauss.\n",
    "\n",
    "$$\n",
    "\\begin{aligned}\n",
    "2 x_1+x_2-x_3+x_4-3 x_5 & =7 \\\\\n",
    "x_1+2 x_3-x_4+x_5 & =2 \\\\\n",
    "-2 x_2-x_3+x_4-x_5 & =-5 \\\\\n",
    "3 x_1+x_2-4 x_3+5 x_5 & =6 \\\\\n",
    "x_1-x_2-x_3-x_4+x_5 & =3\n",
    "\\end{aligned}\n",
    "$$"
   ]
  },
  {
   "cell_type": "code",
   "execution_count": 13,
   "id": "3b75d598",
   "metadata": {},
   "outputs": [],
   "source": [
    "M = np.array([[2,1,-1,1,-3,7],\n",
    "             [1,0,2,-1,1,2],\n",
    "             [0,-2,-1,1,-1,-5],\n",
    "             [3,1,-4,0,5,6],\n",
    "             [1,-1,-1,-1,1,3]], dtype=float)"
   ]
  },
  {
   "cell_type": "code",
   "execution_count": 14,
   "id": "77e343d4",
   "metadata": {},
   "outputs": [
    {
     "data": {
      "text/plain": [
       "array([[  2.   ,   1.   ,  -1.   ,   1.   ,  -3.   ,   7.   ],\n",
       "       [  0.   ,  -0.5  ,   2.5  ,  -1.5  ,   2.5  ,  -1.5  ],\n",
       "       [  0.   ,   0.   , -11.   ,   7.   , -11.   ,   1.   ],\n",
       "       [  0.   ,   0.   ,   0.   ,  -3.182,  12.   ,  -3.455],\n",
       "       [  0.   ,   0.   ,   0.   ,   0.   ,  -4.886,   5.543]])"
      ]
     },
     "execution_count": 14,
     "metadata": {},
     "output_type": "execute_result"
    }
   ],
   "source": [
    "Mt = escalona(M.copy())\n",
    "np.round(Mt,3)"
   ]
  },
  {
   "cell_type": "code",
   "execution_count": 15,
   "id": "693b7501",
   "metadata": {},
   "outputs": [
    {
     "name": "stdout",
     "output_type": "stream",
     "text": [
      "[ 1.91812865  1.96491228 -0.98830409 -3.19298246 -1.13450292]\n"
     ]
    }
   ],
   "source": [
    "# solução do sistema\n",
    "x = solve_triu(Mt[:,:-1], Mt[:,-1])\n",
    "print(x)"
   ]
  },
  {
   "cell_type": "code",
   "execution_count": 16,
   "id": "41db99b1",
   "metadata": {},
   "outputs": [
    {
     "data": {
      "text/plain": [
       "array([[ 2.,  1., -1.,  1., -3.,  7.],\n",
       "       [ 1.,  0.,  2., -1.,  1.,  2.],\n",
       "       [ 0., -2., -1.,  1., -1., -5.],\n",
       "       [ 3.,  1., -4.,  0.,  5.,  6.],\n",
       "       [ 1., -1., -1., -1.,  1.,  3.]])"
      ]
     },
     "execution_count": 16,
     "metadata": {},
     "output_type": "execute_result"
    }
   ],
   "source": [
    "M"
   ]
  },
  {
   "cell_type": "code",
   "execution_count": 17,
   "id": "6b52185b",
   "metadata": {},
   "outputs": [
    {
     "data": {
      "text/plain": [
       "array([ 7.,  2., -5.,  6.,  3.])"
      ]
     },
     "execution_count": 17,
     "metadata": {},
     "output_type": "execute_result"
    }
   ],
   "source": [
    "M[:,:-1]@x"
   ]
  },
  {
   "cell_type": "markdown",
   "id": "2619c4f1",
   "metadata": {},
   "source": [
    "**Exercício 3:** Use o algoritmo de eliminação de Gauss para resolver os seguintes sistemas lineares, se possível, e determine se são necessárias trocas de linhas ([fonte](https://integrada.minhabiblioteca.com.br/reader/books/9788522123414/pageid/424))\n",
    "\n",
    "a)$\n",
    "\\begin{aligned}\n",
    "x_1+x_2+x_4 & =2, \\\\\n",
    "2 x_1+x_2-x_3+x_4 & =1, \\\\\n",
    "4 x_1-x_2-2 x_3+2 x_4 & =0, \\\\\n",
    "3 x_1-x_2-x_3+2 x_4 & =-3 .\n",
    "\\end{aligned}\n",
    "\\quad \\quad$\n",
    "b)\n",
    "$\n",
    "\\begin{aligned}\n",
    "x_1-\\frac{1}{2} x_2+x_3 & =4 \\\\\n",
    "2 x_1-x_2-x_3+x_4 & =5 \\\\\n",
    "x_1+x_2+\\frac{1}{2} x_3 & =2 \\\\\n",
    "x_1-\\frac{1}{2} x_2+x_3+x_4 & =5\n",
    "\\end{aligned}\n",
    "\\quad \\quad$\n",
    "c)\n",
    "$\\begin{aligned} \n",
    "x_1+x_2+x_4 & =2, \\\\ \n",
    "2 x_1+x_2-x_3+x_4 & =1, \\\\ \n",
    "-x_1+2 x_2+3 x_3-x_4 & =4, \\\\ \n",
    "3 x_1-x_2-x_3+2 x_4 & =-3 .\n",
    "\\end{aligned}$"
   ]
  },
  {
   "cell_type": "code",
   "execution_count": 18,
   "id": "29492aae",
   "metadata": {},
   "outputs": [],
   "source": [
    "M1 = np.array([[1,1,0,1,2],[2,1,-1,1,1],[4,-1,-2,2,0],[3,-1,-1,2,-3]],dtype=float)\n",
    "M2 = np.array([[1,-0.5,1,0,4],[2,-1,-1,1,5],[1,1,0.5,0,2],[1,-0.5,1,1,5]],dtype=float)\n",
    "M3 = np.array([[1,1,0,1,2],[2,1,-1,1,1],[-1,2,3,-1,4],[3,-1,-1,2,-3]],dtype=float)"
   ]
  },
  {
   "cell_type": "markdown",
   "id": "87a536de",
   "metadata": {},
   "source": [
    "*Solução letra a):*"
   ]
  },
  {
   "cell_type": "code",
   "execution_count": 19,
   "id": "f24a26dd",
   "metadata": {},
   "outputs": [
    {
     "data": {
      "text/plain": [
       "array([[ 1.,  1.,  0.,  1.,  2.],\n",
       "       [ 0., -1., -1., -1., -3.],\n",
       "       [ 0.,  0.,  3.,  3.,  7.],\n",
       "       [ 0.,  0.,  0.,  0., -4.]])"
      ]
     },
     "execution_count": 19,
     "metadata": {},
     "output_type": "execute_result"
    }
   ],
   "source": [
    "M1e = escalona(M1)\n",
    "M1e"
   ]
  },
  {
   "cell_type": "markdown",
   "id": "79654095",
   "metadata": {},
   "source": [
    "Sistema impossível.\n",
    "\n",
    "*Solução letra b):*"
   ]
  },
  {
   "cell_type": "code",
   "execution_count": 20,
   "id": "c58757c7",
   "metadata": {},
   "outputs": [
    {
     "name": "stderr",
     "output_type": "stream",
     "text": [
      "<ipython-input-1-f865995d359a>:8: RuntimeWarning: divide by zero encountered in double_scalars\n",
      "  m = M[i+1,j]/M[j,j]\n",
      "<ipython-input-1-f865995d359a>:9: RuntimeWarning: invalid value encountered in multiply\n",
      "  M[i+1] = M[i+1]-m*M[j]\n",
      "<ipython-input-1-f865995d359a>:8: RuntimeWarning: invalid value encountered in double_scalars\n",
      "  m = M[i+1,j]/M[j,j]\n"
     ]
    },
    {
     "data": {
      "text/plain": [
       "array([[ 1. , -0.5,  1. ,  0. ,  4. ],\n",
       "       [ 0. ,  0. , -3. ,  1. , -3. ],\n",
       "       [ nan,  nan,  inf, -inf,  inf],\n",
       "       [ nan,  nan,  nan,  nan,  nan]])"
      ]
     },
     "execution_count": 20,
     "metadata": {},
     "output_type": "execute_result"
    }
   ],
   "source": [
    "M2e = escalona(M2.copy())\n",
    "M2e"
   ]
  },
  {
   "cell_type": "code",
   "execution_count": 21,
   "id": "7aa84498",
   "metadata": {},
   "outputs": [
    {
     "data": {
      "text/plain": [
       "array([[ 1. , -0.5,  1. ,  0. ,  4. ],\n",
       "       [ 0. ,  1.5, -0.5,  0. , -2. ],\n",
       "       [ 0. ,  0. , -3. ,  1. , -3. ],\n",
       "       [ 0. ,  0. ,  0. ,  1. ,  1. ]])"
      ]
     },
     "execution_count": 21,
     "metadata": {},
     "output_type": "execute_result"
    }
   ],
   "source": [
    "M2e = escalona2(M2.copy())\n",
    "M2e"
   ]
  },
  {
   "cell_type": "code",
   "execution_count": 22,
   "id": "ac40ebc0",
   "metadata": {},
   "outputs": [
    {
     "name": "stdout",
     "output_type": "stream",
     "text": [
      "[ 2.22222222 -0.88888889  1.33333333  1.        ]\n"
     ]
    }
   ],
   "source": [
    "# solução do sistema\n",
    "x = solve_triu(M2e[:,:-1], M2e[:,-1])\n",
    "print(x)"
   ]
  },
  {
   "cell_type": "code",
   "execution_count": 23,
   "id": "d2c19043",
   "metadata": {},
   "outputs": [
    {
     "data": {
      "text/plain": [
       "array([4., 5., 2., 5.])"
      ]
     },
     "execution_count": 23,
     "metadata": {},
     "output_type": "execute_result"
    }
   ],
   "source": [
    "M2[:,:-1]@x"
   ]
  },
  {
   "cell_type": "markdown",
   "id": "2b2c90d3",
   "metadata": {},
   "source": [
    "*Solução letra c):*"
   ]
  },
  {
   "cell_type": "code",
   "execution_count": 24,
   "id": "2adac524",
   "metadata": {},
   "outputs": [
    {
     "data": {
      "text/plain": [
       "array([[ 1.,  1.,  0.,  1.,  2.],\n",
       "       [ 2.,  1., -1.,  1.,  1.],\n",
       "       [-1.,  2.,  3., -1.,  4.],\n",
       "       [ 3., -1., -1.,  2., -3.]])"
      ]
     },
     "execution_count": 24,
     "metadata": {},
     "output_type": "execute_result"
    }
   ],
   "source": [
    "M3"
   ]
  },
  {
   "cell_type": "code",
   "execution_count": 25,
   "id": "8a18dd3f",
   "metadata": {},
   "outputs": [
    {
     "data": {
      "text/plain": [
       "array([[ 1.,  1.,  0.,  1.,  2.],\n",
       "       [ 0., -1., -1., -1., -3.],\n",
       "       [ 0.,  0.,  3.,  3.,  3.],\n",
       "       [ 0.,  0.,  0., -3., -3.]])"
      ]
     },
     "execution_count": 25,
     "metadata": {},
     "output_type": "execute_result"
    }
   ],
   "source": [
    "M3e = escalona2(M3.copy())\n",
    "M3e"
   ]
  },
  {
   "cell_type": "code",
   "execution_count": 26,
   "id": "3804869f",
   "metadata": {},
   "outputs": [
    {
     "name": "stdout",
     "output_type": "stream",
     "text": [
      "[-1.  2.  0.  1.]\n"
     ]
    }
   ],
   "source": [
    "# solução do sistema\n",
    "x = solve_triu(M3e[:,:-1], M3e[:,-1])\n",
    "print(x)"
   ]
  },
  {
   "cell_type": "code",
   "execution_count": 27,
   "id": "9f606b19",
   "metadata": {},
   "outputs": [
    {
     "data": {
      "text/plain": [
       "array([ 2.,  1.,  4., -3.])"
      ]
     },
     "execution_count": 27,
     "metadata": {},
     "output_type": "execute_result"
    }
   ],
   "source": [
    "M3[:,:-1]@x"
   ]
  },
  {
   "cell_type": "markdown",
   "id": "60918ff2",
   "metadata": {},
   "source": [
    "***"
   ]
  },
  {
   "cell_type": "markdown",
   "id": "8467bf26",
   "metadata": {},
   "source": [
    "### DecomposiçãoLU\n",
    "\n",
    "Os passos utilizados para resolver um sistema da forma $Ax = b$ por eliminação de Gauss podem ser utilizados para fatorar uma matriz $A$ em um produto de duas matrizes triangulares $L$ (triangular inferior) e $U$ (triangular superior).  "
   ]
  },
  {
   "cell_type": "markdown",
   "id": "c118ac55",
   "metadata": {},
   "source": [
    "**Exemplo 3:** Vejamos como resolver o sistema \n",
    "\n",
    "$$\n",
    "\\left[\\begin{array}{lll}\n",
    "2 & 0 & 1 \\\\\n",
    "0 & 2 & 1 \\\\\n",
    "1 & 1 & 3\n",
    "\\end{array}\\right]\\left[\\begin{array}{l}\n",
    "x_1 \\\\\n",
    "x_2 \\\\\n",
    "x_3\n",
    "\\end{array}\\right]=\\left[\\begin{array}{l}\n",
    "3 \\\\\n",
    "3 \\\\\n",
    "5\n",
    "\\end{array}\\right]\n",
    "$$\n",
    "\n",
    "usando o processo de fatoração $LU$."
   ]
  },
  {
   "cell_type": "code",
   "execution_count": 28,
   "id": "700798f2",
   "metadata": {},
   "outputs": [],
   "source": [
    "# criamos as matrizes\n",
    "A = np.array([[2,0,1],[0,2,1],[1,1,3]], dtype=float)\n",
    "b = np.array([3,3,5], dtype=float)"
   ]
  },
  {
   "cell_type": "markdown",
   "id": "6db973ed",
   "metadata": {},
   "source": [
    "Então, vamos elimintar os elementos da 1ª coluna, abaixo do pivô:"
   ]
  },
  {
   "cell_type": "code",
   "execution_count": 29,
   "id": "048ca7c5",
   "metadata": {},
   "outputs": [
    {
     "name": "stdout",
     "output_type": "stream",
     "text": [
      "[[2.  0.  1. ]\n",
      " [0.  2.  1. ]\n",
      " [0.  1.  2.5]]\n"
     ]
    }
   ],
   "source": [
    "# segunda linha\n",
    "m21 = A[1,0]/A[0,0]\n",
    "A[1] = A[1] - m21*A[0]\n",
    "\n",
    "#terceira linha\n",
    "m31 = A[2,0]/A[0,0]\n",
    "A[2] = A[2] - m31*A[0]\n",
    "\n",
    "print (A)"
   ]
  },
  {
   "cell_type": "markdown",
   "id": "42b48328",
   "metadata": {},
   "source": [
    "Observe que o resultado é o mesmo que se multiplicar a matriz\n",
    "\n",
    "$$M=\n",
    "\\left[\\begin{array}{lll}\n",
    "1 & 0 & 0 \\\\\n",
    "-m21 & 1 & 0 \\\\\n",
    "-m31 & 0 & 1\n",
    "\\end{array}\\right]\n",
    "=\n",
    "\\left[\\begin{array}{lll}\n",
    "1 & 0 & 0 \\\\\n",
    "0 & 1 & 0 \\\\\n",
    "-0.5 & 0 & 1\n",
    "\\end{array}\\right]\n",
    "$$.\n",
    "\n",
    "pela matriz $A$ como é mostrado abaixo"
   ]
  },
  {
   "cell_type": "code",
   "execution_count": 30,
   "id": "18940880",
   "metadata": {},
   "outputs": [
    {
     "name": "stdout",
     "output_type": "stream",
     "text": [
      "[[2.  0.  1. ]\n",
      " [0.  2.  1. ]\n",
      " [0.  1.  2.5]]\n"
     ]
    }
   ],
   "source": [
    "M = np.array([[1,0,0],[0,1,0],[-0.5,0,1]])\n",
    "A =np.array([[2,0,1],[0,2,1],[1,1,3]])\n",
    "A = M@A\n",
    "print(A)"
   ]
  },
  {
   "cell_type": "markdown",
   "id": "5298a51c",
   "metadata": {},
   "source": [
    "Por fim, concluímos a eliminação de Gauss fazendo:"
   ]
  },
  {
   "cell_type": "code",
   "execution_count": 31,
   "id": "8b3fa69b",
   "metadata": {},
   "outputs": [
    {
     "name": "stdout",
     "output_type": "stream",
     "text": [
      "[[2. 0. 1.]\n",
      " [0. 2. 1.]\n",
      " [0. 0. 2.]]\n"
     ]
    }
   ],
   "source": [
    "#terceira linha segunda coluna\n",
    "m32 = A[2,1]/A[1,1]\n",
    "A[2] = A[2] - m32*A[1]\n",
    "print (A)"
   ]
  },
  {
   "cell_type": "markdown",
   "id": "8d8edcd8",
   "metadata": {},
   "source": [
    "Podemos chegar a esse mesmo resultado fazendo  \n",
    "\n",
    "$$\n",
    "\\left[\\begin{array}{lll}\n",
    "1 & 0 & 0 \\\\\n",
    "0 & 1 & 0 \\\\\n",
    "0 & -m32 & 1\n",
    "\\end{array}\\right]\n",
    "\\left[\\begin{array}{lll}\n",
    "1 & 0 & 0 \\\\\n",
    "-m21 & 1 & 0 \\\\\n",
    "-m31 & 0 & 1\n",
    "\\end{array}\\right]\n",
    "\\left[\\begin{array}{lll}\n",
    "2 & 0 & 1 \\\\\n",
    "0 & 2 & 1 \\\\\n",
    "1 & 1 & 3\n",
    "\\end{array}\\right]\n",
    "=\n",
    "\\left[\\begin{array}{lll}\n",
    "1 & 0 & 0 \\\\\n",
    "-m21 & 1 & 0 \\\\\n",
    "-m31 & -m32 & 1\n",
    "\\end{array}\\right]\n",
    "\\left[\\begin{array}{lll}\n",
    "2 & 0 & 1 \\\\\n",
    "0 & 2 & 1 \\\\\n",
    "1 & 1 & 3\n",
    "\\end{array}\\right]\n",
    "=\n",
    "\\left[\\begin{array}{lll}\n",
    "2 & 0 & 1 \\\\\n",
    "0 & 2 & 1 \\\\\n",
    "0 & 0 & 2\n",
    "\\end{array}\\right]\n",
    "$$\n"
   ]
  },
  {
   "cell_type": "markdown",
   "id": "32fa0a5b",
   "metadata": {},
   "source": [
    "Além disso, note que \n",
    "\n",
    "$$\n",
    "\\left[\\begin{array}{lll}\n",
    "1 & 0 & 0 \\\\\n",
    "-m21 & 1 & 0 \\\\\n",
    "-m31 & -m32 & 1\n",
    "\\end{array}\\right]^{-1}=\n",
    "\\left[\\begin{array}{lll}\n",
    "1 & 0 & 0 \\\\\n",
    "-m21 & 1 & 0 \\\\\n",
    "-m31 & -m32 & 1\n",
    "\\end{array}\\right]$$\n",
    "\n",
    "e portanto podemos escrever a fatoração como \n",
    "\n",
    "$$\n",
    "A=LU \\quad \\rightarrow \\quad \n",
    "\\left[\\begin{array}{lll}\n",
    "2 & 0 & 1 \\\\\n",
    "0 & 2 & 1 \\\\\n",
    "1 & 1 & 3\n",
    "\\end{array}\\right]=\n",
    "\\left[\\begin{array}{lll}\n",
    "1 & 0 & 0 \\\\\n",
    "0 & 1 & 0 \\\\\n",
    "-0.5 & -0.5 & 1\n",
    "\\end{array}\\right]\n",
    "\\left[\\begin{array}{lll}\n",
    "2 & 0 & 1 \\\\\n",
    "0 & 2 & 1 \\\\\n",
    "0 & 0 & 2\n",
    "\\end{array}\\right]\n",
    "$$\n",
    "\n",
    "Como pode ser veificado como é mostrado abaixo"
   ]
  },
  {
   "cell_type": "code",
   "execution_count": 32,
   "id": "39b08650",
   "metadata": {},
   "outputs": [
    {
     "data": {
      "text/plain": [
       "array([[2., 0., 1.],\n",
       "       [0., 2., 1.],\n",
       "       [1., 1., 3.]])"
      ]
     },
     "execution_count": 32,
     "metadata": {},
     "output_type": "execute_result"
    }
   ],
   "source": [
    "L = np.array([[1,0,0],[0,1,0],[0.5,0.5,1]])\n",
    "U = np.array([[2,0,1],[0,2,1],[0,0,2]])\n",
    "L@U"
   ]
  },
  {
   "cell_type": "markdown",
   "id": "cec05db6",
   "metadata": {},
   "source": [
    "Para obter a solução do sistema linear $Ax=b$ por decomposição $LU$ fazemos\n",
    "\n",
    "$$Ax=b \\rightarrow LUx=b$$\n",
    "\n",
    "escrevendo $Ux=y$ tem-se dois sitemas triangulares \n",
    "\n",
    "<p>\n",
    "<div align=\"center\">\n",
    "$Ly=b\\,\\,\\,$ e, então, $\\,\\,\\,Ux=y$\n",
    "</div>\n",
    "\n",
    "Resolvendo o sistema $Ly=b$ obtem-se $y$, então, resolvendo o sistema $Ux=y$, obtem-se a solução procurada $x = (x_1,...,x_n)^T$.\n",
    "\n",
    "Assim, a resolução do sistema $Ax=b$ é feita resolvendo-se o sistema triangular inferior e, em seguida, o sistema triagular superior."
   ]
  },
  {
   "cell_type": "code",
   "execution_count": 33,
   "id": "f1740d12",
   "metadata": {},
   "outputs": [
    {
     "name": "stdout",
     "output_type": "stream",
     "text": [
      "[3. 3. 2.]\n"
     ]
    }
   ],
   "source": [
    "y = solve_tril(L,b)\n",
    "print(y)"
   ]
  },
  {
   "cell_type": "code",
   "execution_count": 34,
   "id": "6cd415ba",
   "metadata": {},
   "outputs": [
    {
     "name": "stdout",
     "output_type": "stream",
     "text": [
      "[1. 1. 1.]\n"
     ]
    }
   ],
   "source": [
    "x = solve_triu(U,y)\n",
    "print(x)"
   ]
  },
  {
   "cell_type": "markdown",
   "id": "5f86d6f7",
   "metadata": {},
   "source": [
    "Agora, podemos sintetizar os resultados escrevendo uma funação para fatorar uma matriz por eliminação de Gauss , fazendo:"
   ]
  },
  {
   "cell_type": "code",
   "execution_count": 35,
   "id": "827d33c6",
   "metadata": {},
   "outputs": [],
   "source": [
    "def fatoraLU(A):\n",
    "    L = np.eye(len(A))\n",
    "    U = A.copy()\n",
    "    n = len(A)\n",
    "    for j in range(n-1):\n",
    "        for i in range(j,n-1):            \n",
    "            m = U[i+1,j]/U[j,j]\n",
    "            U[i+1] = U[i+1]-m*U[j]\n",
    "            L[i+1,j] = m \n",
    "    return (L,U)"
   ]
  },
  {
   "cell_type": "code",
   "execution_count": 36,
   "id": "dc858cb8",
   "metadata": {},
   "outputs": [
    {
     "name": "stdout",
     "output_type": "stream",
     "text": [
      "[[1.  0.  0. ]\n",
      " [0.  1.  0. ]\n",
      " [0.5 0.5 1. ]]\n",
      "[[2. 0. 1.]\n",
      " [0. 2. 1.]\n",
      " [0. 0. 2.]]\n"
     ]
    }
   ],
   "source": [
    "# testando\n",
    "A = np.array([[2,0,1],[0,2,1],[1,1,3]], dtype=float)\n",
    "L,U = fatoraLU(A) \n",
    "print(L)\n",
    "print(U)"
   ]
  },
  {
   "cell_type": "markdown",
   "id": "e0e90bfd",
   "metadata": {},
   "source": [
    "**Exemplo 3:** Agora vamos considerar novamente o sistema do exemplo 1 e resolver usando fatoração LU."
   ]
  },
  {
   "cell_type": "code",
   "execution_count": 37,
   "id": "13b05087",
   "metadata": {},
   "outputs": [],
   "source": [
    "M = np.array([[2,1,-1,1,-3,7],\n",
    "             [1,0,2,-1,1,2],\n",
    "             [0,-2,-1,1,-1,-5],\n",
    "             [3,1,-4,0,5,6],\n",
    "             [1,-1,-1,-1,1,3]], dtype=float)"
   ]
  },
  {
   "cell_type": "code",
   "execution_count": 38,
   "id": "0436c1eb",
   "metadata": {},
   "outputs": [],
   "source": [
    "A = M[:,0:5]\n",
    "b = M[:,-1]"
   ]
  },
  {
   "cell_type": "code",
   "execution_count": 39,
   "id": "1cd6a988",
   "metadata": {},
   "outputs": [
    {
     "name": "stdout",
     "output_type": "stream",
     "text": [
      "[ 1.91812865  1.96491228 -0.98830409 -3.19298246 -1.13450292]\n"
     ]
    }
   ],
   "source": [
    "L,U = fatoraLU(A)\n",
    "y = solve_tril(L,b)\n",
    "x = solve_triu(U,y)\n",
    "print(x)"
   ]
  },
  {
   "cell_type": "code",
   "execution_count": null,
   "id": "c6a2e466",
   "metadata": {},
   "outputs": [],
   "source": []
  },
  {
   "cell_type": "markdown",
   "id": "229672f4",
   "metadata": {},
   "source": [
    "### Fatoração LU por redução de Doolittle"
   ]
  },
  {
   "cell_type": "markdown",
   "id": "9da2e151",
   "metadata": {},
   "source": [
    "\n",
    "Uma forma de obter a fatoração $LU$ da matriz $A$, conhecido como processo Redução de Doolittle será apresentado a seguir ([fonte](https://integrada.minhabiblioteca.com.br/reader/books/9788522112821/pageid/43)). Considere a fatoração da matriz $A = (a_{ij})_{i,j=1,...,n}$ nas matrizes $L = (l_{ij})_{i,j=1,...,n}$ e $U = (u_{ij})_{i,j=1,...,n}$ como é mostrado a seguir\n",
    "\n",
    "$$\\left[\\begin{array}{cccc} \n",
    "\t         1      & 0      & \\cdots & 0      \\\\ \n",
    "\t         l_{21} & 1      & \\cdots & 0      \\\\\n",
    "\t         \\vdots & \\vdots & \\vdots & \\vdots \\\\\n",
    "\t         l_{n1} & l_{n2} & \\cdots & 1 \\\\\n",
    "\t         \\end{array} \\right] \n",
    "\\left[\\begin{array}{cccc} \n",
    "\t         u_{11} & u_{12} & \\cdots & u_{1n} \\\\ \n",
    "\t         0      & u_{22} & \\cdots & u_{2n} \\\\\n",
    "\t         \\vdots & \\vdots & \\vdots & \\vdots \\\\\n",
    "\t         0      & 0      & \\cdots & u_{nn} \\\\\n",
    "\t         \\end{array} \\right]\n",
    "\t         =\n",
    "\\left[\\begin{array}{cccc} \n",
    "\t         a_{11} & a_{12} & \\cdots & a_{1n} \\\\ \n",
    "\t         a_{21} & a_{22} & \\cdots & a_{2n} \\\\\n",
    "\t         \\vdots & \\vdots & \\vdots & \\vdots \\\\\n",
    "\t         a_{n1} & a_{n2} & \\cdots & a_{nn} \\\\\n",
    "\t         \\end{array} \\right]$$\n",
    "\n",
    "o processo de múltiplicação de matrizes nos leva às seguintes equações, que fornecem a primeira linha da matriz $U$: $u_{11}=a_{11}$, $u_{12}=a_{12}$, $u_{12}=a_{12}$,..., $u_{1n}=a_{1n}$. Seguindo o procedimento de multiplicar matrizes, podemos encontrar a 1ª coluna da matriz $L$: $l_{21}=a_{21}/u_{11}$, $l_{31}=a_{31}/u_{11}$,..., $u_{n1}=a_{n1}/u_{11}$. Continuando o processo para a 2ª linha de $U$, 2ª coluna de $L$, 3ª linha de $U$, 3ª coluna de $L$, e assim por diante, chegamos nas seguintes fórmulas:\n",
    "$$u_{ij}=a_{ij}-\\sum\\limits_{k=1}^{i-1}l_{ik}u_{kj} \\qquad i,j=1,...,n$$\n",
    "e\n",
    "$$l_{ij}=\\frac{a_{ij}-\\sum\\limits_{k=1}^{j-1}l_{ik}u_{kj}}{ujj} \\qquad i,j=1,...,n$$"
   ]
  },
  {
   "cell_type": "markdown",
   "id": "8afd9513",
   "metadata": {},
   "source": [
    "Uma implementação desse algoritmo é mostrado a seguir."
   ]
  },
  {
   "cell_type": "code",
   "execution_count": 40,
   "id": "32e16a2c",
   "metadata": {},
   "outputs": [],
   "source": [
    "def fatoracao_LU(A):\n",
    "    n = len(A)     \n",
    "    U = np.zeros((n,n))\n",
    "    L = np.identity(n)\n",
    "    for m in range(n):\n",
    "        for j in range(m, n):\n",
    "            U[m,j] = A[m,j] - np.sum(L[m,0:m] * U[0:m,j])\n",
    "        for i in range(m+1, n):\n",
    "            L[i,m] = (A[i,m] - np.sum(L[i,0:m] * U[0:m,m]))/U[m,m]\n",
    "    return L,U"
   ]
  },
  {
   "cell_type": "markdown",
   "id": "6121f55f",
   "metadata": {},
   "source": [
    "Testando para a mesma matriz do exemplo 3."
   ]
  },
  {
   "cell_type": "code",
   "execution_count": 41,
   "id": "95b9a5d2",
   "metadata": {},
   "outputs": [
    {
     "name": "stdout",
     "output_type": "stream",
     "text": [
      "Matriz L:\n",
      "[[1.  0.  0. ]\n",
      " [0.  1.  0. ]\n",
      " [0.5 0.5 1. ]]\n",
      "Matriz U:\n",
      "[[2. 0. 1.]\n",
      " [0. 2. 1.]\n",
      " [0. 0. 2.]]\n"
     ]
    }
   ],
   "source": [
    "A = np.array([[2,0,1],\n",
    "              [0,2,1],\n",
    "              [1,1,3]])\n",
    "L,U = fatoracao_LU(A)\n",
    "\n",
    "print (\"Matriz L:\")\n",
    "print (np.array(L))\n",
    "print (\"Matriz U:\")\n",
    "print(np.array(U))"
   ]
  },
  {
   "cell_type": "markdown",
   "id": "e1781f2e",
   "metadata": {},
   "source": [
    "**Exercícios ([fonte](https://integrada.minhabiblioteca.com.br/reader/books/9788522123414/pageid/464)):**\n",
    "\n",
    "\n",
    "\n",
    "**1.** Determine a fatoração $LU$ da matriz $A$ e resolva o sistema linear $Ax = b$, em que \n",
    "\n",
    "$$\n",
    "A=\\left[\\begin{array}{rrrr}\n",
    "1 & 1 & 0 & 3 \\\\\n",
    "2 & 1 & -1 & 1 \\\\\n",
    "3 & -1 & -1 & 2 \\\\\n",
    "-1 & 2 & 3 & -1\n",
    "\\end{array}\\right] \\quad \\text { e } \\quad \\mathbf{b}=\\left[\\begin{array}{r}\n",
    "4 \\\\\n",
    "1 \\\\\n",
    "-3 \\\\\n",
    "4\n",
    "\\end{array}\\right]\n",
    "$$\n",
    "\n",
    "\n",
    "**2.** Use a fatoração do exercício anterior para resolver o sistema \n",
    "$$\n",
    "\\begin{aligned}\n",
    "x_1+x_2+3 x_4 & =8, \\\\\n",
    "2 x_1+x_2-x_3+x_4 & =7, \\\\\n",
    "3 x_1-x_2-x_3+2 x_4 & =14, \\\\\n",
    "-x_1+2 x_2+3 x_3-x_4 & =-7 .\n",
    "\\end{aligned}\n",
    "$$"
   ]
  },
  {
   "cell_type": "code",
   "execution_count": null,
   "id": "86ce47cb",
   "metadata": {},
   "outputs": [],
   "source": []
  },
  {
   "cell_type": "markdown",
   "id": "ed95c9bc",
   "metadata": {},
   "source": [
    "### Usando o módulo `scipy.linalg` para fatorar uma matriz\n",
    "https://docs.scipy.org/doc/scipy/reference/linalg.html"
   ]
  },
  {
   "cell_type": "code",
   "execution_count": 44,
   "id": "9e3193a1",
   "metadata": {},
   "outputs": [],
   "source": [
    "import scipy\n",
    "import scipy.linalg"
   ]
  },
  {
   "cell_type": "code",
   "execution_count": 45,
   "id": "0c2e0751",
   "metadata": {},
   "outputs": [],
   "source": [
    "A = np.array([[2,0,1],\n",
    "              [0,2,1],\n",
    "              [1,1,3]])"
   ]
  },
  {
   "cell_type": "code",
   "execution_count": 46,
   "id": "7099464d",
   "metadata": {},
   "outputs": [
    {
     "data": {
      "text/plain": [
       "(array([[1., 0., 0.],\n",
       "        [0., 1., 0.],\n",
       "        [0., 0., 1.]]),\n",
       " array([[1. , 0. , 0. ],\n",
       "        [0. , 1. , 0. ],\n",
       "        [0.5, 0.5, 1. ]]),\n",
       " array([[2., 0., 1.],\n",
       "        [0., 2., 1.],\n",
       "        [0., 0., 2.]]))"
      ]
     },
     "execution_count": 46,
     "metadata": {},
     "output_type": "execute_result"
    }
   ],
   "source": [
    "scipy.linalg.lu(A)"
   ]
  },
  {
   "cell_type": "code",
   "execution_count": 53,
   "id": "e10af247",
   "metadata": {},
   "outputs": [],
   "source": [
    "A = np.array([[1,2,4],[2,8,10],[4,10,26]])\n",
    "b = np.array([1,-4,10])"
   ]
  },
  {
   "cell_type": "code",
   "execution_count": 54,
   "id": "cf5db01b",
   "metadata": {},
   "outputs": [
    {
     "data": {
      "text/plain": [
       "array([[1., 0., 0.],\n",
       "       [2., 2., 0.],\n",
       "       [4., 1., 3.]])"
      ]
     },
     "execution_count": 54,
     "metadata": {},
     "output_type": "execute_result"
    }
   ],
   "source": [
    "R = np.linalg.cholesky(A)\n",
    "R"
   ]
  },
  {
   "cell_type": "code",
   "execution_count": 55,
   "id": "3abffc9a",
   "metadata": {},
   "outputs": [
    {
     "data": {
      "text/plain": [
       "array([[ 1.,  2.,  4.],\n",
       "       [ 2.,  8., 10.],\n",
       "       [ 4., 10., 26.]])"
      ]
     },
     "execution_count": 55,
     "metadata": {},
     "output_type": "execute_result"
    }
   ],
   "source": [
    "R@R.T"
   ]
  },
  {
   "cell_type": "code",
   "execution_count": 60,
   "id": "9b3c3f4d",
   "metadata": {},
   "outputs": [
    {
     "name": "stdout",
     "output_type": "stream",
     "text": [
      "[[-0.21821789  0.27263927 -0.93704257]\n",
      " [-0.43643578 -0.88607763 -0.15617376]\n",
      " [-0.87287156  0.374879    0.31234752]]\n",
      "[[ -4.58257569 -12.65663763 -27.93188995]\n",
      " [  0.          -2.79455252   1.97663471]\n",
      " [  0.           0.           2.81112771]]\n"
     ]
    }
   ],
   "source": [
    "Q,R = np.linalg.qr(A)\n",
    "print(Q)\n",
    "print(R)"
   ]
  },
  {
   "cell_type": "code",
   "execution_count": 61,
   "id": "66db1ef0",
   "metadata": {},
   "outputs": [
    {
     "data": {
      "text/plain": [
       "array([[ 1.,  2.,  4.],\n",
       "       [ 2.,  8., 10.],\n",
       "       [ 4., 10., 26.]])"
      ]
     },
     "execution_count": 61,
     "metadata": {},
     "output_type": "execute_result"
    }
   ],
   "source": [
    "Q@R"
   ]
  },
  {
   "cell_type": "markdown",
   "id": "85dbfad8",
   "metadata": {},
   "source": [
    "### Exercício\n",
    "\n",
    "**1.** Obtenha, caso exista, a solução para os seguintes sistemas lineares utilizando os métodos estudados (eliminação de Gauss e decomposição LU).\n",
    "\n",
    "\n",
    "a) $\\begin{cases} \n",
    "\t         2x_1 + 3x_2 + x_3 +5x_4= 11\\\\ \n",
    "\t         x_1  + 3.5x_2  + x_3 +7.5x_4= 13\\\\\n",
    "\t         1.4x_1 + 2.7x_2 + 5.5x_3 + 12x_4 = 21.6\\\\\n",
    "\t         -2x_1 + 1x_2 + 3x_3 +28x_4 = 30\n",
    "\t         \\end{cases}$\n",
    "    \n",
    "b) $\\begin{cases} \n",
    "\t         6.1x_1 + 0.32x_2 + 1.3x_3 +2.1x_4 + 0.11x_5 = 19.52\\\\ \n",
    "\t         0.82x_1  + 8.81x_2  + 1.01x_3 +3x_4 + 3.12x_5= 15.83\\\\\n",
    "\t         0.5x_1 + 1.78x_2 + 15.2x_3 + 4.2x_4 +8.1x_5= -22.14\\\\\n",
    "\t         4.2x_1 + 5.3x_2 + 1.8x_3 +20.9x_4 +7.51x_5 = 27.28\\\\\n",
    "\t         0.2x_1 + 9.1x_2 + 4.68x_3 +4.3x_4 +20.1x_5  = -21.78\n",
    "\t         \\end{cases}$\n",
    "             \n",
    "c)$ \\begin{cases} \n",
    "    12.1756 x_1 + 4.0231 x_2 - 2.1732 x_3 + 5.1967 x_4 = 17.1020\\\\ \n",
    "   -4.0231 x_1 + 6.0030 x_2              + 1.1973 x_4 = -6.1593\\\\\n",
    "   -1.0000 x_1 - 5.2107 x_2 + 11.1111 x_3              =  3.0004\\\\\n",
    "\t6.0235 x_1 + 7.0000 x_2 +            - 14.1561 x_4 =  0.0000\n",
    "\\end{cases} $"
   ]
  },
  {
   "cell_type": "markdown",
   "id": "5e03ddb1-2cc1-42e3-ae8f-06c1d1b3b40c",
   "metadata": {},
   "source": [
    "**2.** ([Burden et al, 2016, p. 420](https://integrada.minhabiblioteca.com.br/reader/books/9788522123414/pageid/436)) Resolva o seguinte sistema linear por eliminação de Gauss e decomposição LU (se possível).\n",
    "\n",
    "$$\n",
    "\\begin{aligned}\n",
    "1,19 x_1+2,11 x_2-100 x_3+x_4 & =1,12 \\\\\n",
    "14,2 x_1-0,122 x_2+12,2 x_3-x_4 & =3,44 \\\\\n",
    "100 x_2-99,9 x_3+x_4 & =2,15 \\\\\n",
    "15,3 x_1+0,110 x_2-13,1 x_3-x_4 & =4,16\n",
    "\\end{aligned}\n",
    "$$\n"
   ]
  },
  {
   "cell_type": "markdown",
   "id": "d1b7c61c-10cf-470d-9646-fde56800f75f",
   "metadata": {},
   "source": [
    "**3.** ([Burden et al, 2016, p.455](https://integrada.minhabiblioteca.com.br/reader/books/9788522123414/pageid/471)) Use fatoração LU para resolver o sistema linear a seguir. \n",
    "\n",
    "$$\n",
    "\\begin{aligned}\n",
    "2 x_1+x_2 & =0, \\\\\n",
    "-x_1+3 x_2+3 x_3 & =5, \\\\\n",
    "2 x_1-2 x_2+x_3+4 x_4 & =-2, \\\\\n",
    "-2 x_1+2 x_2+2 x_3+5 x_4 & =6 .\n",
    "\\end{aligned}\n",
    "$$"
   ]
  },
  {
   "cell_type": "code",
   "execution_count": null,
   "id": "0b7a2a50-90c4-4620-b899-58f974aa48a8",
   "metadata": {},
   "outputs": [],
   "source": []
  }
 ],
 "metadata": {
  "kernelspec": {
   "display_name": "Python 3 (ipykernel)",
   "language": "python",
   "name": "python3"
  },
  "language_info": {
   "codemirror_mode": {
    "name": "ipython",
    "version": 3
   },
   "file_extension": ".py",
   "mimetype": "text/x-python",
   "name": "python",
   "nbconvert_exporter": "python",
   "pygments_lexer": "ipython3",
   "version": "3.11.2"
  }
 },
 "nbformat": 4,
 "nbformat_minor": 5
}
