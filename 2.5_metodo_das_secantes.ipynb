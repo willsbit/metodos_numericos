{
 "cells": [
  {
   "cell_type": "markdown",
   "metadata": {},
   "source": [
    "# 2.5 Método das Secantes\n",
    "\n",
    "O método das secantes consiste em aproximarmos a derivada da função $f'(x_i)$ que ocorre no método de Newton da seguinte forma:\n",
    "\n",
    "$$ f'(x_i) \\approx \\frac{f(x_i) - f(x_{i-1})}{x_i-x_{i-1}}$$\n",
    "\n",
    "\n",
    "Observe que, neste caso, estamos trocando a inclinação da reta tangente pela inclinação da reta secante à curva, conforme a figura abaixo. Assim, dados os pontos $x_{i−1}$ e $x_i$ , onde a reta secante, passando por $(x_{i−1}, f(x_{i−1}) )$ e $(x_i , f(x_i))$, cortar o eixo das abscissas, temos a aproximação $x_{i+1}$ para a raiz $\\overline{x}$, conforme ilustrado \n",
    "\n",
    "<img src=\"imagens/secantes.png\" width=\"500\">\n",
    "<p style=\"text-align:center\"> Figura 2.5.1 - Interpretação geométrica do método das secantes</p>\n",
    "\n",
    "Assim, o método de Newton, dado por\n",
    "\n",
    "$$ x_{i+1} = x_i-\\frac{f(x_i)}{f'x_i)}$$\n",
    "\n",
    "é modificado da seguinte forma\n",
    "\n",
    "$$ x_{i+1} = x_i-\\frac{ f(x_i)}{ \\,\\, \\large \\frac{f(x_i) - f(x_{i-1})}{x_i-x_{i-1}}\\,\\,}$$\n",
    "\n",
    "Que pode ser reescrito como \n",
    "\n",
    "$$ x_{i+1} = x_i-\\frac{ x_{i-1}f(x_i) - x_i f(x_{i-1})}{ f(x_i) - f(x_{i-1})}$$"
   ]
  },
  {
   "cell_type": "markdown",
   "metadata": {},
   "source": [
    "**Exemplo 2.5.1:** Vamos encontrar a raiz da equação $ln(x)+x-4=0$ com tolerância $\\epsilon = 0.0001$ usando o método das secantes.\n",
    "\n",
    "Com base no que já foi feito no exemplo 2.4.1 podemos obter as iterações com o código mostrado a seguir."
   ]
  },
  {
   "cell_type": "code",
   "execution_count": 2,
   "metadata": {},
   "outputs": [
    {
     "name": "stdout",
     "output_type": "stream",
     "text": [
      "x=2.87832 , err=0.30515\n",
      "x=2.92390 , err=0.01559\n",
      "x=2.92627 , err=0.00081\n",
      "x=2.92627 , err=0.00000\n"
     ]
    }
   ],
   "source": [
    "import math\n",
    "err = 10.0\n",
    "x0 = 2.1\n",
    "x1 = 2.0\n",
    "\n",
    "f = lambda x: math.log(x)+x-4.0\n",
    "\n",
    "while err> 0.0001:\n",
    "    x = (x0*f(x1)-x1*f(x0))/(f(x1)-f(x0))\n",
    "    err = abs(x-x1)/abs(x)   # calcula o erro relativo\n",
    "    x0 = x1\n",
    "    x1 = x\n",
    "    print (\"x=%.5f\"%x, \", err=%.5f\"%err)\n"
   ]
  },
  {
   "cell_type": "markdown",
   "metadata": {},
   "source": [
    "Em [Nogueira (2024)](https://github.com/JonathanWNogueira) é disponibilizada uma implementação do método da secante como uma função cujos parÂmetros de entrada são a função (`f`), a precisão desejada (`e`) e as aproximações iniciais (`x_0`e `x_1`). O código abaixo mostra como utilizar a função `secant`. "
   ]
  },
  {
   "cell_type": "code",
   "execution_count": 2,
   "metadata": {},
   "outputs": [],
   "source": [
    "# definindo a funcao secant\n",
    "def secant(f, e, x0, x1):\n",
    "    error = 1    \n",
    "    while error > e:\n",
    "        x2 = x1 - f(x1)*(x1-x0)/(f(x1)-f(x0))\n",
    "        error = abs(x2-x1)/abs(x2)\n",
    "        x0 = x1\n",
    "        x1 = x2\n",
    "    return x2"
   ]
  },
  {
   "cell_type": "code",
   "execution_count": 3,
   "metadata": {},
   "outputs": [
    {
     "name": "stdout",
     "output_type": "stream",
     "text": [
      "Método da Secante:  2.92627\n"
     ]
    }
   ],
   "source": [
    "# chamando a funcao secant\n",
    "x = secant(f, 0.0001, 1.0, 2.0)\n",
    "print(\"Método da Secante: \", round(x, 5))"
   ]
  },
  {
   "cell_type": "markdown",
   "metadata": {},
   "source": [
    "**Exercício 2.5.1:** Seja $f(x)=-x^3-\\cos x$. Com $x_0=-1$ e $x_1=0$. Obtenha uma solução com precisão de 5 casas decimais utilizando o método da secante."
   ]
  },
  {
   "cell_type": "code",
   "execution_count": 33,
   "metadata": {},
   "outputs": [
    {
     "name": "stdout",
     "output_type": "stream",
     "text": [
      "x=-0.86547 , err=0.00000\n",
      "Raiz: -0.8654740331019471 encontrada em 8 iterações\n"
     ]
    },
    {
     "data": {
      "image/png": "[encoded data removed]",
      "text/plain": [
       "<Figure size 432x288 with 1 Axes>"
      ]
     },
     "metadata": {
      "needs_background": "light"
     },
     "output_type": "display_data"
    }
   ],
   "source": [
    "import numpy as np\n",
    "import matplotlib.pyplot as plt\n",
    "\n",
    "err = 1\n",
    "eps = 1e-5\n",
    "f = lambda x: -x**3 - np.cos(x)\n",
    "x = np.linspace(-1, -0.5)\n",
    "plt.plot(x, f(x))\n",
    "plt.grid()\n",
    "\n",
    "x0 = -1\n",
    "x1 = 0\n",
    "n = 0\n",
    "\n",
    "while err > eps:\n",
    "    x = (x0*f(x1)-x1*f(x0))/(f(x1)-f(x0))\n",
    "    err = abs(x-x1)/abs(x)\n",
    "    x0 = x1\n",
    "    x1 = x\n",
    "    n += 1\n",
    "    \n",
    "print (\"x=%.5f\"%x, \", err=%.5f\"%err)\n",
    "print(f\"Raiz: {x} encontrada em {n} iterações\")\n"
   ]
  },
  {
   "cell_type": "markdown",
   "metadata": {},
   "source": [
    "**Exercício 22.5.2:** Obtenha uma solução para a equação $e^x+2^{-x}+2 \\cos x-6=0$ utilizando o método das secantes com $\\epsilon = 10^{-5}$ e faça um gráfico do erro relativo em função do número de iterações. "
   ]
  },
  {
   "cell_type": "code",
   "execution_count": 31,
   "metadata": {},
   "outputs": [
    {
     "name": "stdout",
     "output_type": "stream",
     "text": [
      "Raiz: 1.8293836015385934 encontrada em 5 iterações\n",
      "x=1.82938 , err=0.00000\n"
     ]
    },
    {
     "data": {
      "image/png": "[encoded data removed]",
      "text/plain": [
       "<Figure size 432x288 with 1 Axes>"
      ]
     },
     "metadata": {
      "needs_background": "light"
     },
     "output_type": "display_data"
    }
   ],
   "source": [
    "import numpy as np\n",
    "import matplotlib.pyplot as plt\n",
    "\n",
    "err = 1\n",
    "errors = []\n",
    "eps = 1e-5\n",
    "f = lambda x: np.exp(x) + 2**(-x) + 2*np.cos(x) - 6\n",
    "x = np.linspace(1.5, 2)\n",
    "plt.plot(x, f(x))\n",
    "plt.grid()\n",
    "\n",
    "x0 = 1.5\n",
    "x1 = 2\n",
    "n = 0\n",
    "\n",
    "while err > eps:\n",
    "    x = (x0*f(x1)-x1*f(x0))/(f(x1)-f(x0))\n",
    "    err = abs(x-x1)/abs(x)\n",
    "    errors.append(err)\n",
    "    x0 = x1\n",
    "    x1 = x\n",
    "    n += 1\n",
    "\n",
    "print(f\"Raiz: {x} encontrada em {n} iterações\")\n",
    "print (\"x=%.5f\"%x, \", err=%.5f\"%err)"
   ]
  },
  {
   "cell_type": "code",
   "execution_count": 24,
   "metadata": {},
   "outputs": [
    {
     "data": {
      "image/png": "[encoded data removed]",
      "text/plain": [
       "<Figure size 432x288 with 1 Axes>"
      ]
     },
     "metadata": {
      "needs_background": "light"
     },
     "output_type": "display_data"
    }
   ],
   "source": [
    "# plot de erro relativo\n",
    "plt.plot(np.arange(0, len(errors), 1), errors)\n",
    "plt.grid()"
   ]
  },
  {
   "cell_type": "markdown",
   "metadata": {},
   "source": [
    "O método da **falsa posição** (também conhecido como *regula falsi*) gera aproximações da mesma maneira que o método da secante, mas inclui um teste para garantir que a raiz esteja sempre no intervalo delimitado por \n",
    "iterações sucessivas. "
   ]
  },
  {
   "cell_type": "markdown",
   "metadata": {},
   "source": [
    "Primeiramente, escolha as aproximações iniciais $x_0$  e $x_1$ com $f(x_0)\\cdot f(x_1)<0$. Então, do mesmo modo que no método da secante, a aproximação $x_2$ é escolhida como a interseção da reta que liga os pontos $(x_0, f(x_0))$ e $(x_1, f(x_1))$ com o eixo $x$. O ponto de intersecção $x_2$ divide o intervalo $(x_0,x_1)$ em dois subintervalos. Para a próxima iteração escolhe-se o intervalo que contém a raiz, verificando se \n",
    "$f(x_0)\\cdot f(x_2)$ ou $f(x_1)\\cdot f(x_2)<0$."
   ]
  },
  {
   "cell_type": "markdown",
   "metadata": {},
   "source": [
    "Em [Nogueira (2024)](https://github.com/JonathanWNogueira) é disponibilizada uma implementação do método da falsa posição, `false_pos`como uma função cujos parâmetros de entrada são os mesmos da função `secant`. O código abaixo mostra como utilizar a método da falsa posição para o mesmo problema do exemplo 2.5.1. "
   ]
  },
  {
   "cell_type": "code",
   "execution_count": 4,
   "metadata": {},
   "outputs": [],
   "source": [
    "def false_pos(f, e, x0, x1):\n",
    "    if f(x0) * f(x1) >= 0:\n",
    "        return \n",
    "    error = 1\n",
    "    while error > e:\n",
    "        x2 = x1 - f(x1)*(x1-x0)/(f(x1)-f(x0))\n",
    "        if x2==0:\n",
    "            print('raiz')\n",
    "        if f(x0) * f(x2) < 0:\n",
    "            x1 = x2\n",
    "        else:\n",
    "            x0 = x2\n",
    "        error = abs(x1 - x0) / abs(x2)\n",
    "    return x2"
   ]
  },
  {
   "cell_type": "code",
   "execution_count": 5,
   "metadata": {},
   "outputs": [
    {
     "name": "stdout",
     "output_type": "stream",
     "text": [
      "Método da Falsa Posição:  2.92627\n"
     ]
    }
   ],
   "source": [
    "f = lambda x: math.log(x)+x-4.0\n",
    "x = false_pos(f, 0.0001, 2.0, 4.0)\n",
    "print(\"Método da Falsa Posição: \", round(x, 5))"
   ]
  },
  {
   "cell_type": "markdown",
   "metadata": {},
   "source": [
    "**Exercício 2.5.3:** Resolva os exercícios 2.5.1 e 2.5.2 usando o método da falsa posição e compare os resultados.\n"
   ]
  },
  {
   "cell_type": "code",
   "execution_count": 30,
   "metadata": {},
   "outputs": [
    {
     "name": "stdout",
     "output_type": "stream",
     "text": [
      "Raiz: -0.8654740331019471 encontrada em 8 iterações\n"
     ]
    },
    {
     "data": {
      "image/png": "[encoded data removed]",
      "text/plain": [
       "<Figure size 432x288 with 1 Axes>"
      ]
     },
     "metadata": {
      "needs_background": "light"
     },
     "output_type": "display_data"
    }
   ],
   "source": [
    "import numpy as np\n",
    "import matplotlib.pyplot as plt\n",
    "\n",
    "err = 1\n",
    "eps = 1e-5\n",
    "f = lambda x: np.exp(x) + 2**(-x) + 2*np.cos(x) - 6\n",
    "x = np.linspace(1.5, 2)\n",
    "plt.plot(x, f(x))\n",
    "plt.grid()\n",
    "\n",
    "x0 = -1\n",
    "x1 = 0\n",
    "n = 0\n",
    "\n",
    "while err > eps:\n",
    "    x = (x0*f(x1)-x1*f(x0))/(f(x1)-f(x0))\n",
    "    \n",
    "    if (x == 0):\n",
    "        print('Raiz encontrada.')\n",
    "        break\n",
    "    \n",
    "    if (x0 * x) < 0:\n",
    "        x1 = x\n",
    "    else:\n",
    "        x0 = x\n",
    "    err = abs(x-x1)/abs(x)\n",
    "    errors.append(err)\n",
    "    x0 = x1\n",
    "    x1 = x\n",
    "    n += 1\n",
    "\n",
    "print(f\"Raiz: {x} encontrada em {n} iterações\")"
   ]
  },
  {
   "cell_type": "markdown",
   "metadata": {},
   "source": [
    "**Exercício 2.5.4:** Faça um programa para resolver equações utilizando os métodos da secante e da falsa posição, e plotar um gráfico do erro relativo em função do número de iterações para cada método. Use alguma das equações dos exercícios a seguir para testar.\n"
   ]
  },
  {
   "cell_type": "code",
   "execution_count": 32,
   "metadata": {},
   "outputs": [
    {
     "name": "stdout",
     "output_type": "stream",
     "text": [
      "Raiz: -2.587291490463739 encontrada em 4 iterações\n"
     ]
    },
    {
     "data": {
      "image/png": "[encoded data removed]",
      "text/plain": [
       "<Figure size 432x288 with 1 Axes>"
      ]
     },
     "metadata": {
      "needs_background": "light"
     },
     "output_type": "display_data"
    }
   ],
   "source": [
    "import numpy as np\n",
    "import matplotlib.pyplot as plt\n",
    "\n",
    "err = 1\n",
    "eps = 1e-5\n",
    "f = lambda x: -x**3 - np.cos(x)\n",
    "x = np.linspace(-1, -0.5)\n",
    "plt.plot(x, f(x))\n",
    "plt.grid()\n",
    "\n",
    "x0 = 1.5\n",
    "x1 = 2\n",
    "n = 0\n",
    "\n",
    "while err > eps:\n",
    "    x = (x0*f(x1)-x1*f(x0))/(f(x1)-f(x0))\n",
    "    \n",
    "    if (x == 0):\n",
    "        print('Raiz encontrada.')\n",
    "        break\n",
    "    \n",
    "    if (x0 * x) < 0:\n",
    "        x1 = x\n",
    "    else:\n",
    "        x0 = x\n",
    "    err = abs(x-x1)/abs(x)\n",
    "    errors.append(err)\n",
    "    x0 = x1\n",
    "    x1 = x\n",
    "    n += 1\n",
    "\n",
    "print(f\"Raiz: {x} encontrada em {n} iterações\")"
   ]
  },
  {
   "cell_type": "markdown",
   "metadata": {},
   "source": [
    "**Exercícios:**\n",
    "\n",
    "**1.** Calcule, se possível, as raízes das seguintes funções com pelo menos 6 casas de precisão. Use diferentes métodos e compare a velocidade de convergência.\n",
    "\n",
    "a) $f(x) = \\sqrt{x}-5^{-x}$  \n",
    "\n",
    "b) $f(x) = e^{x} + x$\n",
    "\n",
    "c) $f(x) = xln(x)-1$\n",
    "\n",
    "d) $f(x) = sen(x)-1/2$\n",
    "\n",
    "e) $x^3-7x^2+14x-6=0$  \n",
    "\n",
    "f) $2x cos(2x)-(x+1)^2=0$\n",
    "\n",
    "g) $x-2^{-x}=0$\n",
    "\n",
    "h) $2+cos(e^x-2)-e^x=0$\n",
    "\n",
    "i) $f(x) = –0.5x^2 + 2.5x + 4.5$\n",
    "\n",
    "j) $f(x) = 5x^2 – 5x^2 + 6x -2$\n",
    "\n",
    "k) $f(x) = –25 + 82x – 90x^2 + 44x^3 – 8x^4 + 0.7x^5$\n",
    "\n",
    "l) $f(x) = – 12 – 21x + 18x^2 – 2.75x^3$"
   ]
  },
  {
   "cell_type": "code",
   "execution_count": 43,
   "metadata": {
    "scrolled": true
   },
   "outputs": [
    {
     "name": "stdout",
     "output_type": "stream",
     "text": [
      "Raiz: 1.0076239716585016 encontrada em 9 iterações\n"
     ]
    },
    {
     "data": {
      "image/png": "[encoded data removed]",
      "text/plain": [
       "<Figure size 432x288 with 1 Axes>"
      ]
     },
     "metadata": {
      "needs_background": "light"
     },
     "output_type": "display_data"
    }
   ],
   "source": [
    "import numpy as np\n",
    "import matplotlib.pyplot as plt\n",
    "\n",
    "err = 1\n",
    "eps = 1e-5\n",
    "f = lambda x: 2 + np.cos(np.exp(x) - 2) - np.exp(x)\n",
    "x = np.linspace(0.99, 1.01)\n",
    "plt.plot(x, f(x))\n",
    "plt.grid()\n",
    "\n",
    "x0 = 0\n",
    "x1 = 1.5\n",
    "n = 0\n",
    "\n",
    "while err > eps:\n",
    "    x = (x0*f(x1)-x1*f(x0))/(f(x1)-f(x0))\n",
    "    \n",
    "    if (x == 0):\n",
    "        print('Raiz encontrada.')\n",
    "        break\n",
    "    \n",
    "    if (x0 * x) < 0:\n",
    "        x1 = x\n",
    "    else:\n",
    "        x0 = x\n",
    "    err = abs(x-x1)/abs(x)\n",
    "    errors.append(err)\n",
    "    x0 = x1\n",
    "    x1 = x\n",
    "    n += 1\n",
    "\n",
    "print(f\"Raiz: {x} encontrada em {n} iterações\")"
   ]
  }
 ],
 "metadata": {
  "kernelspec": {
   "display_name": "Python 3",
   "language": "python",
   "name": "python3"
  },
  "language_info": {
   "codemirror_mode": {
    "name": "ipython",
    "version": 3
   },
   "file_extension": ".py",
   "mimetype": "text/x-python",
   "name": "python",
   "nbconvert_exporter": "python",
   "pygments_lexer": "ipython3",
   "version": "3.7.3"
  }
 },
 "nbformat": 4,
 "nbformat_minor": 4
}
