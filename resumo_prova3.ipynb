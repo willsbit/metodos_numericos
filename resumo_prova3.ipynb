{
 "cells": [
  {
   "cell_type": "markdown",
   "metadata": {},
   "source": [
    "## Interpolação de Lagrange"
   ]
  },
  {
   "cell_type": "code",
   "execution_count": null,
   "metadata": {},
   "outputs": [],
   "source": [
    "def calculaP(x,X,Y):\n",
    "    valor = 0\n",
    "    for k in range(len(X)):\n",
    "        lk = 1.0\n",
    "        for i in range(len(X)):\n",
    "            if k != i:\n",
    "                lk = lk*(x - X[i])/(X[k]-X[i])\n",
    "        valor = valor + Y[k]*lk \n",
    "    return valor"
   ]
  },
  {
   "cell_type": "markdown",
   "metadata": {},
   "source": [
    "## Interpolação de Newton"
   ]
  },
  {
   "cell_type": "code",
   "execution_count": null,
   "metadata": {},
   "outputs": [],
   "source": [
    "# uma função para calcular as diferenças divididas\n",
    "def difdiv(x,y):\n",
    "    m = len(x)\n",
    "    dd = y.copy()\n",
    "    for k in range(1,m):\n",
    "        dd[k:m]=(dd[k:m]-dd[k-1])/(x[k:m]-x[k-1])\n",
    "    return dd"
   ]
  }
 ],
 "metadata": {
  "language_info": {
   "name": "python"
  }
 },
 "nbformat": 4,
 "nbformat_minor": 2
}
