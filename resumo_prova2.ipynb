{
 "cells": [
  {
   "cell_type": "markdown",
   "metadata": {},
   "source": [
    "Escalonamento"
   ]
  },
  {
   "cell_type": "code",
   "execution_count": null,
   "metadata": {},
   "outputs": [],
   "source": [
    "import numpy as np\n",
    "import copy\n",
    "\n",
    "def escalona(M):\n",
    "    n = len(M)\n",
    "    for j in range(n-1):\n",
    "        for i in range(j,n-1): \n",
    "            # rolando as linhas\n",
    "            while M[j,j]==0:\n",
    "                M[j:,:] = np.roll(M[j:,:], -1, axis=0)\n",
    "            m = M[i+1,j]/M[j,j]\n",
    "            M[i+1] = M[i+1]-m*M[j]\n",
    "    return (M)\n",
    "\n",
    "def solve_tril(L,b):\n",
    "    y = np.empty(len(b))\n",
    "    for i in range(len(b)): \n",
    "        y[i] = (b[i] - np.dot(L[i,0:i],y[0:i]))/L[i][i] \n",
    "    return y\n",
    "\n",
    "# função para sistema triangular superior\n",
    "def solve_triu(U,y):\n",
    "    n=len(y)\n",
    "    x = np.empty(n)\n",
    "    for i in range(n-1, -1, -1):\n",
    "        x[i] = (y[i] - np.sum(U[i,i+1:n+1]*x[i+1:n+1]))/U[i,i]\n",
    "    return x"
   ]
  },
  {
   "cell_type": "markdown",
   "metadata": {},
   "source": [
    "Fatoração LU"
   ]
  },
  {
   "cell_type": "code",
   "execution_count": null,
   "metadata": {},
   "outputs": [],
   "source": [
    "def fatoraLU(A):\n",
    "    L = np.eye(len(A))\n",
    "    U = A.copy()\n",
    "    n = len(A)\n",
    "    for j in range(n-1):\n",
    "        for i in range(j,n-1):            \n",
    "            m = U[i+1,j]/U[j,j]\n",
    "            U[i+1] = U[i+1]-m*U[j]\n",
    "            L[i+1,j] = m \n",
    "    return (L,U)\n",
    "\n",
    "# usando o algoritmo de doolitle\n",
    "def fatoracao_LU(A):\n",
    "    n = len(A)     \n",
    "    U = np.zeros((n,n))\n",
    "    L = np.identity(n)\n",
    "    for m in range(n):\n",
    "        for j in range(m, n):\n",
    "            U[m,j] = A[m,j] - np.sum(L[m,0:m] * U[0:m,j])\n",
    "        for i in range(m+1, n):\n",
    "            L[i,m] = (A[i,m] - np.sum(L[i,0:m] * U[0:m,m]))/U[m,m]\n",
    "    return L,U"
   ]
  },
  {
   "cell_type": "markdown",
   "metadata": {},
   "source": [
    "Eliminação de Gauss"
   ]
  },
  {
   "cell_type": "code",
   "execution_count": null,
   "metadata": {},
   "outputs": [],
   "source": [
    "def gaussElimin(a,b): \n",
    "    n = len(b) \n",
    "    for k in range(0,n-1): \n",
    "        for i in range(k+1,n): \n",
    "            if a[i][k] != 0.0: \n",
    "                lam = a [i][k]/a[k][k] \n",
    "                a[i][k+1:n] = a[i][k+1:n] - lam*a[k][k+1:n] \n",
    "                b[i] = b[i] - lam*b[k] \n",
    "    for k in range(n-1,-1,-1): \n",
    "        b[k] = (b[k] - np.dot(a[k][k+1:n],b[k+1:n]))/a[k][k] \n",
    "    return b\n",
    "\n",
    "\n",
    "# GaussJordan\n",
    "def gaussJordan(M):\n",
    "    n = len(M)\n",
    "    for k in range(n):\n",
    "        M[k] = M[k]/M[k,k]\n",
    "        for i in range(n):\n",
    "            if i!=k:\n",
    "                M[i] = M[i] - M[i,k]*M[k]\n",
    "    return (M)\n",
    "\n",
    "A = np.array([[2,1,3],[0,-1,1],[1,0,3]], float)\n",
    "I = np.identity(len(A))\n",
    "M = np.concatenate((A,I), axis=1)\n",
    "\n",
    "print ('Matriz ampliada:')\n",
    "print (M)\n",
    "\n",
    "print ('Matriz após eliminação:')\n",
    "Mgj = gaussJordan(M)\n",
    "print (Mgj )\n",
    "\n",
    "print ('Matriz inversa:')\n",
    "Ainv = Mgj[:,3:6]\n",
    "print(Ainv)"
   ]
  },
  {
   "cell_type": "markdown",
   "metadata": {},
   "source": [
    "Método de Jacobi-Richardson"
   ]
  },
  {
   "cell_type": "code",
   "execution_count": null,
   "metadata": {},
   "outputs": [],
   "source": [
    "from pprint import pprint\n",
    "from numpy import array, zeros, diag, diagflat, dot\n",
    "\n",
    "def jacobi(A,b,x=zeros(len(A)), eps=1e-5):\n",
    "    \"\"\"Solves the equation Ax=b via the Jacobi iterative method.\"\"\"\n",
    "    # Create a vector of the diagonal elements of A                                                                                                                                                \n",
    "    # and subtract them from A\n",
    "    err = 1\n",
    "    x_ant = x\n",
    "    D = diag(A)\n",
    "    R = A - diagflat(D)\n",
    "\n",
    "    # Iterate for N times                                                                                                                                                                          \n",
    "    while err > eps:\n",
    "        x = (b - dot(R,x)) / D\n",
    "        err = abs(max(x-x_ant)/max(x))\n",
    "        x_ant = x\n",
    "    return x"
   ]
  },
  {
   "cell_type": "markdown",
   "metadata": {},
   "source": [
    "Método de Gauss Seidel"
   ]
  },
  {
   "cell_type": "code",
   "execution_count": null,
   "metadata": {},
   "outputs": [],
   "source": [
    "from numpy.linalg import inv\n",
    "\n",
    "def gauss_seidel(A, b, x=np.zeros(len(A)), eps=1e-5):\n",
    "    err = 1\n",
    "    x_ant = x\n",
    "    n = len(A)\n",
    "    P = np.zeros((n,n)).astype(float)\n",
    "    Q = np.zeros((n,n)).astype(float)\n",
    "    g = np.zeros(n).astype(float)\n",
    "\n",
    "\n",
    "    for i in range(n):\n",
    "        P[i,0:i] = -A[i,0:i]/A[i,i]\n",
    "        Q[i,i+1:n] = -A[i,i+1:n]/A[i,i]\n",
    "        g[i] = b[i]/A[i,i] \n",
    "\n",
    "    I = np.eye(n)\n",
    "    H = np.dot(inv(I-P),Q)\n",
    "    g = np.dot(inv(I-P),g)\n",
    "\n",
    "    \n",
    "    # verificar convergência\n",
    "#    beta = []\n",
    "#    for i in range(len(H)):\n",
    "#        bi = np.dot(beta,abs(H[i,0:i]))+ np.sum(abs(H[i,i+1:]))\n",
    "#        beta.append(bi)\n",
    "#    print(f'max(beta) ={np.array(beta).max()}')\n",
    "    \n",
    "    while err>eps:\n",
    "        x = np.dot(H,x) + g\n",
    "        err = abs(max(x-x_ant)/max(x))\n",
    "        x_ant = x\n",
    "        \n",
    "    return x"
   ]
  }
 ],
 "metadata": {
  "language_info": {
   "name": "python"
  }
 },
 "nbformat": 4,
 "nbformat_minor": 2
}
