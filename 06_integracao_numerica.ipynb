{
 "cells": [
  {
   "cell_type": "markdown",
   "metadata": {},
   "source": [
    "## 6. Integração Numérica\n",
    "A integração numérica é útil em situações nas quais não se conhece a expressão analítica da função a ser integrada ou quando a função primitiva é difícil de se obter. Uma forma de se calcular uma aproximação numérica para uma integral é por meio da integração do polinômio interpolador. Esse processo é conhecido como quadratura de Newton-Cotes e é desenvolvido por meio das sistemáticas conhecidas como *Regra dos Trapézios*, *Regra 1/3 de Simpson* e *Regra 3/8 de Simpson*. Antes de apresentarmos as fórmulas de Newton-Cotes, vamos relembrar um pouco do Cálculo. \n",
    "\n",
    "Considere uma função $f(x)$ contínua no intervalo $[a,b]$. Então, sabemos que\n",
    "\n",
    "$$I=\\int_a^b f(x)dx = F(b) - F(a)$$\n",
    "\n",
    "em que a função $F(x)$ é a primitiva (ou antiderivada) de $f$, ou seja, é tal que $F'(x) = f(x)$.\n",
    "\n",
    "Graficamente, considerando a função $f(x) \\geq 0$, para todo $x \\in [a,b]$ podemos interpretar a intergral $I=\\int_a^b f(x)dx$ como a área entre a curva de $f$ e o eixo das abcissas:\n",
    "\n",
    "<img src=\"imagens/integral.png\" width=\"400\">\n",
    "Figura 6.1 - A integral definida como área sob o gráfico"
   ]
  },
  {
   "cell_type": "markdown",
   "metadata": {},
   "source": [
    "#### 6.1 Soma de Riemann"
   ]
  },
  {
   "cell_type": "markdown",
   "metadata": {},
   "source": [
    "A forma mais simples de obter um valor aproximado para uma integral definida é por meio da soma de Riemann. Para isto, divide-se o intervalo de integração $(a,b)$ em $n$ subintervalos e somam-se as áreas dos retângulos definidos em cada subintervalo. A largura de cada retângulo será dado por $h=\\frac{x_n-x_0}{n}$ e a altura será dada por $f(x)$ para algum $x$ dentro do subintervalo $[x_i,x_{i+1}]$, com $i=0,1,...,n$. Uma escolha natural para o valor de $x$ é um dos extremos do intervalo, o extremo esquerdo $x_i$ (\"pela esquerda\") ou o extremo direito $x_{i+1}$ (\"pela direita\"):"
   ]
  },
  {
   "cell_type": "markdown",
   "metadata": {},
   "source": [
    "\n",
    "<img src=\"imagens/RiemannRight.png\" width=\"400\">\n",
    "<img src=\"imagens/RiemannLeft.png\" width=\"400\">\n",
    "Figura 6.2 - Somas de Riemann \"pela direita\" e \"pela esquerda\""
   ]
  },
  {
   "cell_type": "markdown",
   "metadata": {},
   "source": [
    "Claramente podemos aumentar a acurácia da aproximação obtida aumentando o número de subintervalos. A _regra do ponto médio_ considera a altura do retângulo definida em cada subintervalo como sendo o valor da função no ponto médio entre $x_i$ e $x_{i+1}$:\n",
    "\n",
    "$$\\int_a^b f(x)dx \\approx \\sum_{i = 0}^{n-1} hf\\left(\\frac{x_i+x_{i+1}}{2} \\right)$$\n",
    "\n"
   ]
  },
  {
   "cell_type": "markdown",
   "metadata": {},
   "source": [
    "**Exemplo 6.1:** Nesse exemplo vamos calcular a integral $\\int_{0.1}^{0.8} x^2ln(x)dx$ usando aproximações da soma de Riemann pela esquerda, pela direita e pela regra do ponto médio, e comparar os resultados. Então vamos comparar com a solução exata \n",
    "($\\approx -0.0940934155044049$)."
   ]
  },
  {
   "cell_type": "code",
   "execution_count": 18,
   "metadata": {},
   "outputs": [
    {
     "data": {
      "text/latex": [
       "$\\displaystyle \\frac{x^{3} \\log{\\left(x \\right)}}{3} - \\frac{x^{3}}{9}$"
      ],
      "text/plain": [
       "x**3*log(x)/3 - x**3/9"
      ]
     },
     "execution_count": 18,
     "metadata": {},
     "output_type": "execute_result"
    }
   ],
   "source": [
    "import sympy as sp\n",
    "\n",
    "x = sp.symbols(\"x\")\n",
    "sp.integrate(x**2 * sp.log(x))"
   ]
  },
  {
   "cell_type": "code",
   "execution_count": 2,
   "metadata": {},
   "outputs": [
    {
     "name": "stdout",
     "output_type": "stream",
     "text": [
      "-0.0940934155044049\n"
     ]
    }
   ],
   "source": [
    "import numpy as np\n",
    "\n",
    "F = lambda x: x**3*np.log(x)/3 - x**3/9\n",
    "I = F(0.8)-F(0.1)\n",
    "print(I)"
   ]
  },
  {
   "cell_type": "markdown",
   "metadata": {},
   "source": [
    "Aproximado pela soma de Riemann com 7 subintervalos, ou seja, $h = 0.1$"
   ]
  },
  {
   "cell_type": "code",
   "execution_count": 19,
   "metadata": {},
   "outputs": [
    {
     "name": "stdout",
     "output_type": "stream",
     "text": [
      "h= 0.1\n"
     ]
    }
   ],
   "source": [
    "import numpy as np\n",
    "xi = np.linspace(0.1, 0.8, 8)\n",
    "h = xi[1]-xi[0]\n",
    "print (\"h=\",h)"
   ]
  },
  {
   "cell_type": "code",
   "execution_count": 24,
   "metadata": {},
   "outputs": [],
   "source": [
    "f = lambda x: x**2*np.log(x)"
   ]
  },
  {
   "cell_type": "code",
   "execution_count": 21,
   "metadata": {},
   "outputs": [
    {
     "name": "stdout",
     "output_type": "stream",
     "text": [
      "Ie= -0.08743221791422254 Erro= 0.006661197590182369\n"
     ]
    }
   ],
   "source": [
    "Ie = h*np.sum(f(xi[0:-1]))\n",
    "print(\"Ie=\",Ie, \"Erro=\",abs(I-Ie))"
   ]
  },
  {
   "cell_type": "code",
   "execution_count": 22,
   "metadata": {},
   "outputs": [
    {
     "name": "stdout",
     "output_type": "stream",
     "text": [
      "Id= -0.09941082010533792 Erro= 0.0053174046009330095\n"
     ]
    }
   ],
   "source": [
    "Id = h*np.sum(f(xi[1:]))\n",
    "print(\"Id=\",Id, \"Erro=\",abs(I-Id))"
   ]
  },
  {
   "cell_type": "code",
   "execution_count": 25,
   "metadata": {},
   "outputs": [
    {
     "name": "stdout",
     "output_type": "stream",
     "text": [
      "Im= -0.09443022564968762 Erro= 0.00033681014528270936\n"
     ]
    }
   ],
   "source": [
    "Im = h*np.sum(f((xi[0:-1]+xi[1:])/2))\n",
    "print(\"Im=\",Im, \"Erro=\",abs(I-Im))"
   ]
  },
  {
   "cell_type": "markdown",
   "metadata": {},
   "source": [
    "Nesse exemplo é possivel notar que a regra do ponto médio forneceu a melhor aproximação.\n",
    "\n",
    "---"
   ]
  },
  {
   "cell_type": "markdown",
   "metadata": {
    "collapsed": true,
    "jupyter": {
     "outputs_hidden": true
    }
   },
   "source": [
    "De modo geral, os métodos numéricos para cálculo de integrais definidas consistem em aproximar a função $f(x)$ pelo polinômio interpolador $P(x)$ e integrar o polinômio. Os casos ilustrados acima são polinômios de grau zero, mas poderiamos utilizar polinômios de grau maior.\n",
    "\n",
    "Assim, de forma geral temos:\n",
    "\n",
    "$$ \\int_{a}^{b} f(x) dx \\approx \\int_{x_0}^{x_n} P(x) dx $$\n",
    "\n"
   ]
  },
  {
   "cell_type": "markdown",
   "metadata": {},
   "source": [
    "A seguir serão apresentados três métodos para integração numérica baseados na integração do polinômio interpolador conhecidos como Regras de Newton-Cotes. São eles, a regra dos trapézios, a regra 1/3 de Simpson e a regra 3/8 de Simpson."
   ]
  },
  {
   "cell_type": "markdown",
   "metadata": {},
   "source": [
    "#### 6.3 Regra dos trapézios \n",
    "\n",
    "Consiste am aproximar a integral da função em um intervalo [𝑎,𝑏] pela integral do polinômio de grau 1 que passa pelos pontos (𝑎,𝑓(𝑎)) e (𝑏,𝑓(𝑏)). Se 𝑓(𝑥)>0 em [𝑎,𝑏] a área entre o gráfico da função e o eixo 𝑥 é aproximado pela área do trapézio de altura ℎ=𝑏−𝑎 e bases 𝑓(𝑎) e 𝑓(𝑏).\n",
    "\n",
    "Considere uma função $f(x)$ definida nos pontos $x_0$ e $x_1$ no intervalo $[a,b]$. O polinômio de Lagrange para  esses pontos, considerando a mudança de variável $u = \\frac{x-x_0}{h}$, é dado por\n",
    "\n",
    "$$P(u) =  f(x_0) (1-u) + f(x_1)(u)$$\n",
    "\n",
    "e a integral pode ser aproximada como segue \n",
    "\n",
    "$$\\int_{x_0}^{x_n} f(x) dx \\approx \\int_{x_0}^{x_1} P_1(x) dx= h \\int_{0}^{1} P_1(u) du$$\n",
    "\n",
    "ou, ainda,\n",
    "\n",
    "$$h \\int_{0}^{1} P_1(u) du  = h \\int_{0}^{1} [f(x_0) (1-u) + f(x_1)(u)] du = h f(x_0) \\int_{0}^{1} (1-u) du + hf(x_1)\\int_{0}^{1} (u) du$$\n",
    "\n",
    "que resulta em \n",
    "\n",
    "$$\\int_{x_0}^{x_n} f(x) dx \\approx \\frac{h}{2} [f(x_0)+f(x_1)]$$\n",
    "\n",
    "ou seja, tem-se aqui a fórmula da área do trapézio.\n",
    "\n",
    "\n",
    "Graficamente, tem-se\n",
    "\n",
    "<img src=\"imagens/trapezio.png\" width=\"400\">\n",
    "Figura 6.3 - Interpretação geométrica da regra dos trapézios\n",
    "\n",
    "\n",
    "Um **limitante superior** para o erro será dado por \n",
    "\n",
    "$$|E_1| \\leq \\frac{h^3}{12} max.\\{|f^{(2)}(x)|, x_0 \\leq x \\leq x_1 \\}$$\n",
    "\n",
    "\n",
    "A **regra dos trapézios repetida** (ou generalizada), consiste na subdivisão do intervalo $[a,b]$ em $n$ subintervalos iguais, de amplitude $h=\\frac{x_n-x_0}{n}$, $x_0=a$ e $x_n=b$ e na aplicação da regra dos trapézios repetidamente a cada dois pontos consecutivos.\n",
    "\n",
    "Assim, temos \n",
    "\n",
    "$$\\int_{x_0}^{x_n} f(x) dx \\approx \\frac{h}{2} [f(x_0)+f(x_1)] + \\frac{h}{2} [f(x_1)+f(x_2)] + ... + \\frac{h}{2} [f(x_{n-1})+f(x_n)]=$$\n",
    "\n",
    "$$= \\frac{h}{2} [f(x_0)+ 2f(x_1) + 2f(x_2)+...+2f(x_{n-1})+f(x_n)] =$$\n",
    "\n",
    "$$= \\frac{h}{2} \\{f(x_0)+ 2[f(x_1) + f(x_2)+...+f(x_{n-1})]+f(x_n)\\}$$\n",
    "\n",
    "E o **limitante superior** para o erro será dado por\n",
    "\n",
    "$$|E_t| \\leq \\frac{h^2}{12}(x_n-x_0) max.\\{|f^{(2)}(x)|, x_0 \\leq x \\leq x_n \\}$$"
   ]
  },
  {
   "cell_type": "markdown",
   "metadata": {},
   "source": [
    "**Exemplo 6.2:** Vamos calcular o valor aproximado da integral \n",
    "\n",
    "$$\\int_{1.5}^{5.5} \\frac{1}{x}dx$$\n",
    "\n",
    "usando a regra dos trapézios.\n",
    "\n",
    "_Solução:_ Basta fazer  $$\\int_{1.5}^{5.5} \\frac{1}{x} dx \\approx \\frac{4}{2} [f(1.5)+f(5.5)] = 2 \\left( \\frac{1}{1.5} + \\frac{1}{5.5} \\right) \\approx 1.697$$\n",
    "\n",
    "<img src=\"imagens/trapezioExemplo.png\" width=\"400\">\n",
    "\n",
    "Resolvendo analiticamente o valor exato é $ln(5.5)$ - $ln(1.5)$ que pode ser calculado usando  uma calculadora obtendo-se $1.2992829841302609$. O valor obtido pela regra do trapézio é maior, como pode ser verificado observando na figura, comparando-se as áreas. Vamos usar a regra dos trapézios repetida para 5, 10 e 100 subintervalos para ver como fica."
   ]
  },
  {
   "cell_type": "code",
   "execution_count": 35,
   "metadata": {},
   "outputs": [
    {
     "name": "stdout",
     "output_type": "stream",
     "text": [
      "n= 5 , I= 1.3206255135651455\n",
      "n= 10 , I= 1.304727563368882\n",
      "n= 100 , I= 1.2993378314867685\n"
     ]
    }
   ],
   "source": [
    "x0 = 1.5; xn = 5.5 \n",
    "f = lambda x: 1/x\n",
    "\n",
    "for n in [5,10,100]:\n",
    "    h = (xn-x0)/n\n",
    "    xi = np.linspace(x0, xn, n+1)   \n",
    "    It = h*((f(xi[0])+f(xi[-1]))/2 + np.sum(f(xi[1:-1])))\n",
    "    print(\"n=\",n,\", I=\",It)"
   ]
  },
  {
   "cell_type": "markdown",
   "metadata": {},
   "source": [
    "A biblioteca `numpy` já traz uma implementação da regra dos trapézios. Veja como usar no exemplo a seguir com os pontos, o espaçameto e a função definidos acima."
   ]
  },
  {
   "cell_type": "code",
   "execution_count": 45,
   "metadata": {},
   "outputs": [
    {
     "data": {
      "text/plain": [
       "1.2993378314867685"
      ]
     },
     "execution_count": 45,
     "metadata": {},
     "output_type": "execute_result"
    }
   ],
   "source": [
    "np.trapz(f(xi), dx=0.04)"
   ]
  },
  {
   "cell_type": "markdown",
   "metadata": {},
   "source": [
    "A biblioteca `scipy` também possui funções para integrais definidas. Para saber mais pesquise por  `scipy.integrate`. "
   ]
  },
  {
   "cell_type": "markdown",
   "metadata": {},
   "source": [
    "**Exemplo 6.2:** Vamos calcular o valor aproximado da integral \n",
    "\n",
    "$$\\int_1^4 \\sqrt{x}dx$$\n",
    "\n",
    "usando a regra dos trapézios generalizada para 2, 4 e 6 subintervalos e obter um limitante superior para o erro."
   ]
  },
  {
   "cell_type": "code",
   "execution_count": 50,
   "metadata": {},
   "outputs": [
    {
     "data": {
      "image/png": "[encoded data removed]",
      "text/latex": [
       "$\\displaystyle 6.772340295647981$"
      ],
      "text/plain": [
       "6.772340295647981"
      ]
     },
     "execution_count": 50,
     "metadata": {},
     "output_type": "execute_result"
    }
   ],
   "source": [
    "f = lambda x: np.sqrt(x)\n",
    "xi = np.linspace(1, 5, 6)\n",
    "np.trapz(f(xi), xi)"
   ]
  },
  {
   "cell_type": "code",
   "execution_count": 51,
   "metadata": {},
   "outputs": [
    {
     "data": {
      "image/png": "[encoded data removed]",
      "text/latex": [
       "$\\displaystyle 6.78322070363297$"
      ],
      "text/plain": [
       "6.78322070363297"
      ]
     },
     "execution_count": 51,
     "metadata": {},
     "output_type": "execute_result"
    }
   ],
   "source": [
    "xi = np.linspace(1, 5, 11)\n",
    "np.trapz(f(xi), xi)"
   ]
  },
  {
   "cell_type": "code",
   "execution_count": 52,
   "metadata": {},
   "outputs": [
    {
     "data": {
      "image/png": "[encoded data removed]",
      "text/latex": [
       "$\\displaystyle 6.786856407214704$"
      ],
      "text/plain": [
       "6.786856407214704"
      ]
     },
     "execution_count": 52,
     "metadata": {},
     "output_type": "execute_result"
    }
   ],
   "source": [
    "xi = np.linspace(1, 5, 101)\n",
    "np.trapz(f(xi), xi)"
   ]
  },
  {
   "cell_type": "markdown",
   "metadata": {},
   "source": [
    "####  6.4 Regra 1/3 de Simpson\n",
    "\n",
    "Consiste em aproximar a integral da função pela integral de um polinômio interpolador de grau 2. Para isso dividimos o intervalo de integração subintervalos e a cada 3 pontos usamos a integral do polinômio interplolador como aproximação da integral da função nesses dois subintervalos. \n",
    "\n",
    "Então, considere uma função $f(x)$ definida em três pontos distintos $x_0$, $x_1$ e $x_2$ equidistantes no intervalo $[a,b]$. O polinômio de Lagrange para esses pontos, considerando a mudança de variável $u = \\frac{x-x_0}{h}$ é dado por\n",
    "\n",
    "$$ P_2(u) =  f(x_0) \\left( \\frac{u^2-3u+2}{2}\\right) + f(x_1)\\left( \\frac{u^2-2u}{-1}\\right) + f(x_2)\\left( \\frac{u^2-u}{2}\\right)$$\n",
    "\n",
    "A integral pode ser aproximada como segue \n",
    "\n",
    "$$ \\int_{x_0}^{x_n} f(x) dx \\approx \\int_{x_0}^{x_2} P_2(x) dx= h \\int_{0}^{2} P_2(u) du $$\n",
    "\n",
    "ou, ainda,\n",
    "\n",
    "$$ h \\int_{0}^{2} P_2(u) du  = h f(x_0)(u) \\Big|_0^2 + h (f(x_1)-f(x_0))\\left( \\frac{u^2}{2} \\right) \\Big|_0^2\n",
    "+ \\frac{h}{2}(f(x_ 2)-2f(x_1)+f(x_ 0)) \\left(\\frac{u^3}{3}-\\frac{u^2}{2} \\right) \\Big|_0^2 =$$\n",
    "\n",
    "$$ = 2hf(x_0)+2hf(x_1)-2hf(x_0)+\\frac{h}{3} ( f(x_2)-2f(x_1)+f(x_0)) = $$\n",
    "\n",
    "$$ \\frac{h}{3}[f(x_0)+4f(x_1)+f(x_2)]$$\n",
    "\n",
    "Assim, temos \n",
    "\n",
    "$$ \\int_{x_0}^{x_n} f(x) dx \\approx \\frac{h}{3}[f(x_0)+4f(x_1)+f(x_2)]$$\n",
    "\n",
    "conhecida como **Regra 1/3 de Simpson**.\n",
    "\n",
    "\n",
    "Graficamente, tem-se\n",
    "<img src=\"imagens/integral2.png\" width=\"400\">\n",
    "Figura 6.4 - Aproximação pela integral do polinômio interpolador de grau 2\n",
    "\n",
    "\n",
    "Um **limitante superior** para o erro será dado por \n",
    "\n",
    "$$ |E_2| \\leq \\frac{h^5}{90} max.\\{|f^{(4)}(x)|, x_0 \\leq \\xi \\leq x_2 \\}$$"
   ]
  },
  {
   "cell_type": "markdown",
   "metadata": {},
   "source": [
    "**Exemplo 6.3:** Calcule o valor aproximado da integral $\\int_{0.5}^{1.5}cos(x)dx$ usando a regra 1/3 de Simpson."
   ]
  },
  {
   "cell_type": "code",
   "execution_count": 53,
   "metadata": {},
   "outputs": [
    {
     "name": "stdout",
     "output_type": "stream",
     "text": [
      "Resultado 1/3 Simpson:  0.5060852831621655\n"
     ]
    }
   ],
   "source": [
    "x0 = 0.5; xn = 1.5 \n",
    "n = 2\n",
    "h = (xn-x0)/n\n",
    "\n",
    "f = lambda x: np.cos(x)\n",
    "x = np.linspace(x0, xn, n+1)\n",
    "y = f(xi)\n",
    "\n",
    "# Regra 1/3 de Simpson \n",
    "Is = (h/3)*(y[0] + 4*y[1] + y[2])\n",
    "print (\"Resultado 1/3 Simpson: \", Is)"
   ]
  },
  {
   "cell_type": "markdown",
   "metadata": {},
   "source": [
    "A biblioteca `scipy` contém diversas funções para integração numérica, dentre elas as regras de Simpson. Veja um exemplo de como utilizar a seguir:"
   ]
  },
  {
   "cell_type": "code",
   "execution_count": 54,
   "metadata": {},
   "outputs": [
    {
     "data": {
      "image/png": "[encoded data removed]",
      "text/latex": [
       "$\\displaystyle 0.5182548311717724$"
      ],
      "text/plain": [
       "0.5182548311717724"
      ]
     },
     "execution_count": 54,
     "metadata": {},
     "output_type": "execute_result"
    }
   ],
   "source": [
    "import scipy.integrate as integrate\n",
    "integrate.simps(f(x), x)"
   ]
  },
  {
   "cell_type": "markdown",
   "metadata": {},
   "source": [
    "A **regra 1/3 de Simpson repetida** (ou generalizada) consiste em subdividirmos o intervalo de integração $[a,b]$ em $n$ subintervalos de ampliture $h$, que que $n$ é um número par de subintervalos, com $x_0=a$ e $x_n=b$, então, aplicando a regra 1/3 de Simpson a cada 2 subintervalos consecutivos, obtemos\n",
    "\n",
    "$$ \\int_{x_0}^{x_n} f(x) dx \\approx \\frac{h}{3} [f(x_0)+4f(x_1)+f(x_2)] + \\frac{h}{3} [f(x_2)+4f(x_3)+f(x_4)] + ... + \\frac{h}{3} [f(x_{n-2})+4f(x_{n-1})+f(x_n)]=$$\n",
    "\n",
    "$$ = \\frac{h}{3} [f(x_0)+ 4f(x_1) + 2f(x_2)+ 4f(x_3)+...+2f(x_{n-2})+4f(x_{n-1})+f(x_n)] = $$\n",
    "\n",
    "$$ = \\frac{h}{3} \\{f(x_0)+ 4[f(x_1) + f(x_3)+...+f(x_{n-1})]+ 2[f(x_2) + f(x_4)+...+f(x_{n-2})] + f(x_n)\\}  $$\n",
    "\n",
    "\n",
    "Um **limitante superior** para o erro será dado por \n",
    "\n",
    "$$ |E_2| \\leq \\frac{h^4}{180}(x_n-x_0)  \\,\\, max.\\left\\{\\left|f^{(4)}(x)\\right|, x_0 \\leq \\xi \\leq x_n  \\right\\}$$"
   ]
  },
  {
   "cell_type": "markdown",
   "metadata": {},
   "source": [
    "**Exemplo 6.4:** Calcule o valor aproximado da integral $\\int_1^4(xe^x+3)dx$ usando a regra 1/3 de Simpson para 10, 20 e 100 subintervalos."
   ]
  },
  {
   "cell_type": "code",
   "execution_count": 63,
   "metadata": {},
   "outputs": [
    {
     "name": "stdout",
     "output_type": "stream",
     "text": [
      "n= 10 , I= 172.8109327815904\n",
      "n= 20 , I= 172.79549085115607\n",
      "n= 100 , I= 172.79445177011632\n"
     ]
    }
   ],
   "source": [
    "x0 = 1.0; xn = 4.0 \n",
    "f = lambda x: x*np.exp(x)+3\n",
    "\n",
    "for n in [10,20,100]:\n",
    "    h = (xn-x0)/n\n",
    "    x = np.linspace(x0, xn, n+1) \n",
    "    y = f(x)\n",
    "    I = (h/3)*(y[0] + 4*np.sum(y[1:n:2]) + 2*np.sum(y[2:n:2])+ y[-1])\n",
    "    print (\"n=\",n,\", I=\",I)"
   ]
  },
  {
   "cell_type": "markdown",
   "metadata": {},
   "source": [
    "ou"
   ]
  },
  {
   "cell_type": "code",
   "execution_count": 64,
   "metadata": {},
   "outputs": [
    {
     "name": "stdout",
     "output_type": "stream",
     "text": [
      "172.81093278159045\n"
     ]
    }
   ],
   "source": [
    "x = np.linspace(1, 4, 11) \n",
    "print(scipy.integrate.simps(f(x), x))"
   ]
  },
  {
   "cell_type": "code",
   "execution_count": 65,
   "metadata": {},
   "outputs": [
    {
     "name": "stdout",
     "output_type": "stream",
     "text": [
      "172.79549085115613\n"
     ]
    }
   ],
   "source": [
    "x = np.linspace(1, 4, 21) \n",
    "print(scipy.integrate.simps(f(x), x))"
   ]
  },
  {
   "cell_type": "code",
   "execution_count": 58,
   "metadata": {},
   "outputs": [
    {
     "name": "stdout",
     "output_type": "stream",
     "text": [
      "172.79445177011632\n"
     ]
    }
   ],
   "source": [
    "x = np.linspace(1, 4, 101) \n",
    "print(scipy.integrate.simps(f(x), x))"
   ]
  },
  {
   "cell_type": "markdown",
   "metadata": {},
   "source": [
    "#### 6.4. Regra 3/8 de Simpson\n",
    "\n",
    "Consiste em aproximar a integral da função pela integral de um polinômio interpolador de grau 3. Para isso dividimos o intervalo de integração subintervalos e a cada 4 pontos usamos a integral do polinômio interpolador como aproximação da integral da função nesses 3 subintervalos. \n",
    "\n",
    "Então, considere uma função $f(x)$ definida em quatro pontos distintos $x_0$, $x_1$, $x_2$ e $x_3$ equidistantes no intervalo $[a,b]$. O polinômio interpolador de Lagrange para esses pontos, considerando a mudança de variável $u = \\frac{x-x_0}{h}$ é dado por\n",
    "\n",
    "$$P_3(u)=f(x_0) \\left[ \\frac{(u-1)(u-2)(u-3)}{-6}\\right] + f(x_1) \\left[ \\frac{u(u-2)(u-3)}{2} \\right] + f(x_2) \\left[\n",
    "\\frac{u(u-1)(u-3)}{-2}\\right]+ f(x_3)\\left[ \\frac{u(u-1)(u-2)}{6}  \\right]$$\n",
    "\n",
    "ou\n",
    "\n",
    "$$P_3(u)=f(x_0) \\left[ \\frac{u^3-6u^2+11u-6}{-6}\\right] + f(x_1) \\left[ \\frac{u^3-5u^2+6u}{2} \\right] + f(x_2) \\left[ \\frac{u^3-4u^2+3u}{-2}\\right]  + f(x_3)\\left[ \\frac{u^3-5u^2+6u}{6}  \\right]$$\n",
    "\n",
    "O que fornece\n",
    "\n",
    "$$ \\int_{x_0}^{x_3} f(x) dx \\approx  h \\int_{0}^{3} P_3(u) du = \\frac{3}{8}h \\left[f(x_0)+3f(x_1)+3f(f_2)+f(x_3) \\right]$$\n",
    "\n",
    "Então\n",
    "\n",
    " \n",
    "\n",
    "$$\\int_{x_0}^{x_3} f(x) dx \\approx \\frac{3}{8}h \\left[f(x_0)+3f(x_1)+3f(x_2)+f(x_3) \\right]$$\n",
    "\n",
    "que consiste na regra 3/8 de Simpson.\n",
    "\n",
    "Graficamente, tem-se\n",
    "<img src=\"imagens/simpson3p8.png\" width=\"400\">\n",
    "Figura 6.5 - Aproximação pela integral do polinômio interpolador de grau 3\n",
    "\n",
    "\n",
    "Um **limitante superior** para o erro será dado por \n",
    "\n",
    "$$ |E_3| \\leq \\frac{3h^5}{80} max.\\{|f^{(4)}(x)|, x_0 \\leq \\xi \\leq x_3 \\}$$"
   ]
  },
  {
   "cell_type": "markdown",
   "metadata": {},
   "source": [
    "**Exemplo 6.5:**\n",
    "Calcule o valor aproximado da integral $\\int_1^7 ln(x+9) dx$ usando a regra 3/8 de Simpson."
   ]
  },
  {
   "cell_type": "code",
   "execution_count": 59,
   "metadata": {},
   "outputs": [
    {
     "name": "stdout",
     "output_type": "stream",
     "text": [
      "15.335299315082702\n"
     ]
    }
   ],
   "source": [
    "x = np.linspace(1,7,4)\n",
    "h = x[1]-x[0]\n",
    "f = lambda x: np.log(x+9)\n",
    "I = (3*h/8)*(f(x[0]) + 3*f(x[1])+3*f(x[2])+f(x[3]))\n",
    "print(I)"
   ]
  },
  {
   "cell_type": "code",
   "execution_count": 60,
   "metadata": {},
   "outputs": [
    {
     "name": "stdout",
     "output_type": "stream",
     "text": [
      "15.331233468068582\n"
     ]
    }
   ],
   "source": [
    "print(scipy.integrate.simps(f(x), x))"
   ]
  },
  {
   "cell_type": "markdown",
   "metadata": {},
   "source": [
    "A **regra 3/8 de Simpson repetida** (ou generalizada) consiste em subdividir o intervalo de integração $[a,b]$ em $n$ subintervalos de ampliture $h$, em que $n$ é um número múltiplo de 3, com $x_0=a$ e $x_n=b$, então, aplicar a regra 3/8 de Simpson repetidamente a cada 3 subintervalos consecutivos. Com isso obtém-se:\n",
    "\n",
    "$$ \\int_{x_0}^{x_n} f(x) dx \\approx \\frac{3}{8}h \\left[\n",
    "f(x_0) + 3f(x_1)+3f(x_2)+f(x_3) \\right] +\n",
    "\\frac{3}{8}h \\left[f(x_3)+3f(x_4)+3f(x_5)+f(x_6) \\right] + \n",
    "... + \\frac{3}{8}h \\left[f(x_{n-3})+3f(x_{n-2})+3f(x_{n-1})+f(x_n) \\right]$$\n",
    "\n",
    "\n",
    "$$ = \\frac{3}{8}h \\left\\{ f(x_0) +\n",
    "3 \\left[f(x_1)+f(x_2)+f(x_4)+f(x_5)+....+ f(x_{n-2})+f(x_{n-1})\\right] +\n",
    "2 \\left[f(x_3)+f(x_6)+....+f(x_{n-3}) \\right] + f(x_n)\\right\\}$$\n",
    "\n",
    "que consiste na regra 3/8 de Simpson repetida."
   ]
  },
  {
   "cell_type": "markdown",
   "metadata": {},
   "source": [
    "Um **limitante superior** para o erro é dado por \n",
    "\n",
    "$$ |E_3| \\leq \\frac{h^4}{80}(x_n-x_0)  \\,\\, max.\\left\\{\\left|f^{(4)}(x)\\right|, x_0 \\leq \\xi \\leq x_n  \\right\\}$$"
   ]
  },
  {
   "cell_type": "markdown",
   "metadata": {},
   "source": [
    "**Exemplo 6.6:** Calcule o valor aproximado da integral $\\int_1^6 ln(x+9) dx$ usando a regra 3/8 de Simpson para 8, 20 e 40 subintervalos."
   ]
  },
  {
   "cell_type": "code",
   "execution_count": 67,
   "metadata": {},
   "outputs": [
    {
     "name": "stdout",
     "output_type": "stream",
     "text": [
      "n= 4 , I= 11.761407778686316\n",
      "n= 20 , I= 11.75388556350441\n",
      "n= 40 , I= 12.510405538009266\n"
     ]
    }
   ],
   "source": [
    "x0 = 1.0; xn = 6.0 \n",
    "f = lambda x: np.log(x+9)\n",
    "\n",
    "for n in [4,20,40]:\n",
    "    h = (xn-x0)/n\n",
    "    x = np.linspace(x0, xn, n+1) \n",
    "    y = f(x)\n",
    "    # Regra 3/8 de Simpson usando funções do numpy\n",
    "    I = (3*h/8)*(y[0] + 3*np.sum(y[1:n-1:3]+y[2:n:3]) +\\\n",
    "                 2*np.sum(y[3:n:3])+ y[-1])\n",
    "    print (\"n=\",n,\", I=\",I)"
   ]
  },
  {
   "cell_type": "markdown",
   "metadata": {},
   "source": [
    "O sub-pacote `scipy.integrate`, de SciPy, provê diversas funções para integração numérica, incluindo as regras de Newton-Cotes `trapezoid`, `cumulative_trapezoid` e `simpson`. Além destas, outras funções disponíveis são `quad`, `dblquad` e `tplquad` para integrais simples, duplas e triplas, respectivamente; `fixed_quad` e `quadrature`para quadratura Gaussiana e; `romberg`para integração de Romberg."
   ]
  },
  {
   "cell_type": "markdown",
   "metadata": {
    "collapsed": true,
    "jupyter": {
     "outputs_hidden": true
    }
   },
   "source": [
    "**Exercícios:**\n",
    "\n",
    "Encontre, se possível, a primitiva das seguintes funções usando `sympy`, então obtenha a solução exata e compare com soluções numéricas usando somas de Riemann e os métodos de Newton-Cotes para diferentes números de subintervalos. Compare os resultados.  \n",
    "\n",
    "\n",
    "a) $\\int_{1}^{1.6} \\frac{2x}{x^2-4} dx$  \n",
    "\n",
    "b) $\\int_{0}^{1} x^2 e^{-x} dx$\n",
    "\n",
    "c) $\\int_{0}^{\\pi/4} e^{x^3}sen(2x)dx$\n",
    "\n",
    "d) $\\int_{0}^{0.5} \\frac{2}{x-4} dx$\n",
    "\n",
    "e) $\\int_{0}^{1} x^{-1/4}sen(x) dx$\n",
    "\n",
    "f) $\\int_{0}^{1} \\frac{e^{2x}}{\\sqrt[5]{x^2}}dx$\n",
    "\n",
    "g) $\\int_{0}^{1} \\frac{ln(x)}{(1-x)^{1/5}}dx$\n",
    "\n",
    "h) $\\int_{0}^{1} \\frac{cos(2x)}{x^{1/3}}dx$\n",
    "\n",
    "i) $\\int e^{x^2} dx$\n",
    "\n",
    "j) $\\int \\frac{e^x}{x} dx$\n",
    "\n",
    "k) $\\int sen(x^2) dx$\n",
    "\n",
    "l) $\\int ln(lnx) dx$\n",
    "\n",
    "m) $\\int e^{-\\frac{x^2}{2}} dx$\n",
    "\n",
    "n) $\\int cos(x^2) dx$\n",
    "\n",
    "o) $\\int cos(e^x) dx$\n",
    "\n",
    "p) $\\int \\frac{1}{ln(x)} dx$\n",
    "\n",
    "q) $\\int \\sqrt{1-x^4} dx$\n",
    "\n",
    "r) $\\int \\sqrt{x^3+1} dx$\n",
    "\n",
    "s) $\\int x^2e^{x^3} dx$"
   ]
  },
  {
   "cell_type": "code",
   "execution_count": 91,
   "metadata": {},
   "outputs": [],
   "source": [
    "import numpy as np\n",
    "\n",
    "def riemann_integral_left(f, lower, upper, n):\n",
    "    xi = np.linspace(lower, upper, n)\n",
    "    h = xi[1]-xi[0]\n",
    "    return h*np.sum(f(xi[0:-1]))\n",
    "\n",
    "def riemann_integral_right(f, lower, upper, n):\n",
    "    xi = np.linspace(lower, upper, n)\n",
    "    h = xi[1]-xi[0]\n",
    "    return h*np.sum(f(xi[1:]))\n",
    "\n",
    "def riemann_integral_midpoint(f, lower, upper, n):\n",
    "    xi = np.linspace(lower, upper, n)\n",
    "    h = xi[1]-xi[0]\n",
    "    return h*np.sum(f((xi[0:-1]+xi[1:])/2))\n",
    "\n",
    "def trapezoid_integral(f, lower, upper, n):\n",
    "    h = (upper-lower)/n\n",
    "    xi = np.linspace(lower, upper, n+1)   \n",
    "    return h*((f(xi[0])+f(xi[-1]))/2 + np.sum(f(xi[1:-1])))\n",
    "\n",
    "def simpson_1_3_integral(f, lower, upper, n):\n",
    "    if (n % 2) != 0:\n",
    "        raise ValueError(\"n should be even\")\n",
    "    h = (upper-lower)/n\n",
    "    x = np.linspace(lower, upper, n+1) \n",
    "    return (h/3)*(\n",
    "                f(x[0]) +\\\n",
    "                4*np.sum(f(x[1:n:2])) +\\\n",
    "                2*np.sum(f(x[2:n:2]))+ f(x[-1])\n",
    "            )\n",
    "\n",
    "def simpson_3_8_integral(f, lower, upper, n):\n",
    "    if (n % 3) != 0:\n",
    "        raise ValueError(\"n should be a multiple of 3\")\n",
    "    h = (upper-lower)/n\n",
    "    x = np.linspace(lower, upper, n+1) \n",
    "    return (3*h/8)*(\n",
    "                f(x[0]) +\\\n",
    "                3*np.sum(f(x[1:n-1:3])+f(x[2:n:3])) +\\\n",
    "                2*np.sum(f(x[3:n:3]))+ f(x[-1])\n",
    "            )"
   ]
  },
  {
   "cell_type": "code",
   "execution_count": 93,
   "metadata": {},
   "outputs": [
    {
     "name": "stdout",
     "output_type": "stream",
     "text": [
      "Valor teórico: -0.733969175080201\n",
      "Integral com xi* à esquerda: -0.7292713358075228\n",
      "Integral com xi* à direita: -0.7386989452351322\n",
      "Integral com xi* no ponto médio: -0.7339611925200713\n",
      "Integral com regra dos trapézios: -0.7339848228173877\n",
      "Integral com regra de 1/3 de Simpson: -0.7339691767233252\n",
      "Integral com regra de 3/8 de Simpson: -0.7339691789266969\n"
     ]
    }
   ],
   "source": [
    "from sympy import Symbol, N, integrate\n",
    "# a)\n",
    "x = sp.Symbol(\"x\")\n",
    "f = lambda x: (2*x) / (x**2 - 4)\n",
    "lower = 1\n",
    "upper = 1.6\n",
    "\n",
    "print(f\"Valor teórico: {N(integrate(f(x), (x, lower, upper)))}\")\n",
    "print(f\"Integral com xi* à esquerda: {riemann_integral_left(f, lower, upper, 100)}\")\n",
    "print(f\"Integral com xi* à direita: {riemann_integral_right(f, lower, upper, 100)}\")\n",
    "print(f\"Integral com xi* no ponto médio: {riemann_integral_midpoint(f, lower, upper, 100)}\")\n",
    "print(f\"Integral com regra dos trapézios: {trapezoid_integral(f, lower, upper, 100)}\")\n",
    "print(f\"Integral com regra de 1/3 de Simpson: {simpson_1_3_integral(f, lower, upper, 100)}\")\n",
    "print(f\"Integral com regra de 3/8 de Simpson: {simpson_3_8_integral(f, lower, upper, 99)}\")"
   ]
  },
  {
   "cell_type": "code",
   "execution_count": 89,
   "metadata": {},
   "outputs": [
    {
     "name": "stdout",
     "output_type": "stream",
     "text": [
      "Valor teórico: 0.160602794142788\n",
      "Integral com xi* à esquerda: 0.15874794499310932\n",
      "Integral com xi* à direita: 0.162463898944336\n",
      "Integral com xi* no ponto médio: 0.16060123026035827\n",
      "Integral com regra dos trapézios: 0.1606058597265748\n",
      "Integral com regra de 1/3 de Simpson: 0.16060279445567344\n",
      "Integral com regra de 3/8 de Simpson: 0.160602794875632\n"
     ]
    }
   ],
   "source": [
    "from sympy import Symbol, N, integrate\n",
    "import numpy as np\n",
    "# b)\n",
    "x = sp.Symbol(\"x\")\n",
    "g = lambda x: x**2 * sp.exp(-x)\n",
    "f = lambda x: x**2 * np.exp(-x)\n",
    "lower = 0\n",
    "upper = 1\n",
    "\n",
    "print(f\"Valor teórico: {N(integrate(g(x), (x, lower, upper)))}\")\n",
    "print(f\"Integral com xi* à esquerda: {riemann_integral_left(f, lower, upper, 100)}\")\n",
    "print(f\"Integral com xi* à direita: {riemann_integral_right(f, lower, upper, 100)}\")\n",
    "print(f\"Integral com xi* no ponto médio: {riemann_integral_midpoint(f, lower, upper, 100)}\")\n",
    "print(f\"Integral com regra dos trapézios: {trapezoid_integral(f, lower, upper, 100)}\")\n",
    "print(f\"Integral com regra de 1/3 de Simpson: {simpson_1_3_integral(f, lower, upper, 100)}\")\n",
    "print(f\"Integral com regra de 3/8 de Simpson: {simpson_3_8_integral(f, lower, upper, 99)}\")"
   ]
  }
 ],
 "metadata": {
  "kernelspec": {
   "display_name": "Python 3 (ipykernel)",
   "language": "python",
   "name": "python3"
  },
  "language_info": {
   "codemirror_mode": {
    "name": "ipython",
    "version": 3
   },
   "file_extension": ".py",
   "mimetype": "text/x-python",
   "name": "python",
   "nbconvert_exporter": "python",
   "pygments_lexer": "ipython3",
   "version": "3.11.2"
  }
 },
 "nbformat": 4,
 "nbformat_minor": 4
}
