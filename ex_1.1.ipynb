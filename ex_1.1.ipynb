{
 "cells": [
  {
   "cell_type": "markdown",
   "metadata": {},
   "source": [
    "2. Faça um programa em Python para converter um número qualquer da base decimal para a base binária. Dica: para pegar a parte inteira podemos usar a função `floor` da biblioteca `math` do Python."
   ]
  },
  {
   "cell_type": "code",
   "execution_count": 14,
   "metadata": {},
   "outputs": [
    {
     "data": {
      "text/plain": [
       "'0.0011'"
      ]
     },
     "execution_count": 14,
     "metadata": {},
     "output_type": "execute_result"
    }
   ],
   "source": [
    "from math import floor\n",
    "\n",
    "x = float(input(\"Digite um número\"))\n",
    "binary = ''\n",
    "\n",
    "if floor(x) != 0:\n",
    "    while x != 0:\n",
    "        binary += str(x % 2)\n",
    "        x = floor(x / 2)\n",
    "    binary = binary[::-1]\n",
    "else:\n",
    "    binary = '0.'\n",
    "    while x != 0:\n",
    "        x = x*2\n",
    "        binary += str(floor(x))\n",
    "        x = x - floor(x)\n",
    "\n",
    "binary"
   ]
  }
 ],
 "metadata": {
  "kernelspec": {
   "display_name": "agroenv",
   "language": "python",
   "name": "python3"
  },
  "language_info": {
   "codemirror_mode": {
    "name": "ipython",
    "version": 3
   },
   "file_extension": ".py",
   "mimetype": "text/x-python",
   "name": "python",
   "nbconvert_exporter": "python",
   "pygments_lexer": "ipython3",
   "version": "3.10.9"
  }
 },
 "nbformat": 4,
 "nbformat_minor": 2
}
